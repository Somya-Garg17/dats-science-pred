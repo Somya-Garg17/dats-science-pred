{
 "cells": [
  {
   "cell_type": "code",
   "execution_count": 1,
   "metadata": {
    "_cell_guid": "b1076dfc-b9ad-4769-8c92-a6c4dae69d19",
    "_uuid": "8f2839f25d086af736a60e9eeb907d3b93b6e0e5",
    "execution": {
     "iopub.execute_input": "2025-06-30T18:48:29.383843Z",
     "iopub.status.busy": "2025-06-30T18:48:29.383487Z",
     "iopub.status.idle": "2025-06-30T18:48:30.734813Z",
     "shell.execute_reply": "2025-06-30T18:48:30.733928Z",
     "shell.execute_reply.started": "2025-06-30T18:48:29.383818Z"
    },
    "trusted": true
   },
   "outputs": [],
   "source": [
    "import pandas as pd\n",
    "import numpy as np\n",
    "import seaborn as sns\n",
    "import matplotlib.pyplot as plt\n",
    "import os\n",
    "import gc"
   ]
  },
  {
   "cell_type": "code",
   "execution_count": 2,
   "metadata": {
    "execution": {
     "iopub.execute_input": "2025-06-30T18:48:30.736750Z",
     "iopub.status.busy": "2025-06-30T18:48:30.736266Z",
     "iopub.status.idle": "2025-06-30T18:48:52.425945Z",
     "shell.execute_reply": "2025-06-30T18:48:52.425247Z",
     "shell.execute_reply.started": "2025-06-30T18:48:30.736721Z"
    },
    "trusted": true
   },
   "outputs": [],
   "source": [
    "df_events = pd.read_parquet('data/add_event.parquet', engine=\"pyarrow\")"
   ]
  },
  {
   "cell_type": "code",
   "execution_count": 3,
   "metadata": {
    "execution": {
     "iopub.execute_input": "2025-06-30T18:48:52.426960Z",
     "iopub.status.busy": "2025-06-30T18:48:52.426721Z",
     "iopub.status.idle": "2025-06-30T18:48:52.450259Z",
     "shell.execute_reply": "2025-06-30T18:48:52.449357Z",
     "shell.execute_reply.started": "2025-06-30T18:48:52.426940Z"
    },
    "trusted": true
   },
   "outputs": [
    {
     "data": {
      "text/html": [
       "<div>\n",
       "<style scoped>\n",
       "    .dataframe tbody tr th:only-of-type {\n",
       "        vertical-align: middle;\n",
       "    }\n",
       "\n",
       "    .dataframe tbody tr th {\n",
       "        vertical-align: top;\n",
       "    }\n",
       "\n",
       "    .dataframe thead th {\n",
       "        text-align: right;\n",
       "    }\n",
       "</style>\n",
       "<table border=\"1\" class=\"dataframe\">\n",
       "  <thead>\n",
       "    <tr style=\"text-align: right;\">\n",
       "      <th></th>\n",
       "      <th>id2</th>\n",
       "      <th>id3</th>\n",
       "      <th>id6</th>\n",
       "      <th>id4</th>\n",
       "      <th>id7</th>\n",
       "    </tr>\n",
       "  </thead>\n",
       "  <tbody>\n",
       "    <tr>\n",
       "      <th>0</th>\n",
       "      <td>2431360</td>\n",
       "      <td>618619</td>\n",
       "      <td>Tiles</td>\n",
       "      <td>2023-10-22 08:08:17.768</td>\n",
       "      <td>None</td>\n",
       "    </tr>\n",
       "    <tr>\n",
       "      <th>1</th>\n",
       "      <td>2431360</td>\n",
       "      <td>363153</td>\n",
       "      <td>Tiles</td>\n",
       "      <td>2023-10-22 08:08:18.921</td>\n",
       "      <td>None</td>\n",
       "    </tr>\n",
       "    <tr>\n",
       "      <th>2</th>\n",
       "      <td>2431360</td>\n",
       "      <td>97193</td>\n",
       "      <td>Tiles</td>\n",
       "      <td>2023-10-22 08:08:17.765</td>\n",
       "      <td>None</td>\n",
       "    </tr>\n",
       "    <tr>\n",
       "      <th>3</th>\n",
       "      <td>2431360</td>\n",
       "      <td>654444</td>\n",
       "      <td>Tiles</td>\n",
       "      <td>2023-10-22 08:08:17.737</td>\n",
       "      <td>None</td>\n",
       "    </tr>\n",
       "    <tr>\n",
       "      <th>4</th>\n",
       "      <td>2431360</td>\n",
       "      <td>32325</td>\n",
       "      <td>Tiles</td>\n",
       "      <td>2023-10-22 08:08:17.812</td>\n",
       "      <td>None</td>\n",
       "    </tr>\n",
       "  </tbody>\n",
       "</table>\n",
       "</div>"
      ],
      "text/plain": [
       "       id2     id3    id6                      id4   id7\n",
       "0  2431360  618619  Tiles  2023-10-22 08:08:17.768  None\n",
       "1  2431360  363153  Tiles  2023-10-22 08:08:18.921  None\n",
       "2  2431360   97193  Tiles  2023-10-22 08:08:17.765  None\n",
       "3  2431360  654444  Tiles  2023-10-22 08:08:17.737  None\n",
       "4  2431360   32325  Tiles  2023-10-22 08:08:17.812  None"
      ]
     },
     "execution_count": 3,
     "metadata": {},
     "output_type": "execute_result"
    }
   ],
   "source": [
    "df_events.head()"
   ]
  },
  {
   "cell_type": "code",
   "execution_count": 4,
   "metadata": {
    "execution": {
     "iopub.execute_input": "2025-06-30T18:48:52.452255Z",
     "iopub.status.busy": "2025-06-30T18:48:52.452003Z",
     "iopub.status.idle": "2025-06-30T18:48:55.604190Z",
     "shell.execute_reply": "2025-06-30T18:48:55.603524Z",
     "shell.execute_reply.started": "2025-06-30T18:48:52.452235Z"
    },
    "trusted": true
   },
   "outputs": [],
   "source": [
    "# df_trans = pd.read_parquet('data/add_trans.parquet', engine=\"pyarrow\")"
   ]
  },
  {
   "cell_type": "code",
   "execution_count": 5,
   "metadata": {
    "execution": {
     "iopub.execute_input": "2025-06-30T18:48:55.605210Z",
     "iopub.status.busy": "2025-06-30T18:48:55.604977Z",
     "iopub.status.idle": "2025-06-30T18:48:55.618271Z",
     "shell.execute_reply": "2025-06-30T18:48:55.617382Z",
     "shell.execute_reply.started": "2025-06-30T18:48:55.605192Z"
    },
    "trusted": true
   },
   "outputs": [],
   "source": [
    "# df_trans.head()"
   ]
  },
  {
   "cell_type": "code",
   "execution_count": 6,
   "metadata": {
    "execution": {
     "iopub.execute_input": "2025-06-30T18:48:55.619587Z",
     "iopub.status.busy": "2025-06-30T18:48:55.619171Z",
     "iopub.status.idle": "2025-06-30T18:48:55.659732Z",
     "shell.execute_reply": "2025-06-30T18:48:55.658876Z",
     "shell.execute_reply.started": "2025-06-30T18:48:55.619557Z"
    },
    "trusted": true
   },
   "outputs": [],
   "source": [
    "df_offers = pd.read_parquet('data/offer_metadata.parquet', engine=\"pyarrow\")"
   ]
  },
  {
   "cell_type": "code",
   "execution_count": 7,
   "metadata": {
    "execution": {
     "iopub.execute_input": "2025-06-30T18:48:55.661118Z",
     "iopub.status.busy": "2025-06-30T18:48:55.660720Z",
     "iopub.status.idle": "2025-06-30T18:48:55.676024Z",
     "shell.execute_reply": "2025-06-30T18:48:55.675274Z",
     "shell.execute_reply.started": "2025-06-30T18:48:55.661097Z"
    },
    "trusted": true
   },
   "outputs": [
    {
     "data": {
      "text/html": [
       "<div>\n",
       "<style scoped>\n",
       "    .dataframe tbody tr th:only-of-type {\n",
       "        vertical-align: middle;\n",
       "    }\n",
       "\n",
       "    .dataframe tbody tr th {\n",
       "        vertical-align: top;\n",
       "    }\n",
       "\n",
       "    .dataframe thead th {\n",
       "        text-align: right;\n",
       "    }\n",
       "</style>\n",
       "<table border=\"1\" class=\"dataframe\">\n",
       "  <thead>\n",
       "    <tr style=\"text-align: right;\">\n",
       "      <th></th>\n",
       "      <th>id3</th>\n",
       "      <th>id9</th>\n",
       "      <th>f375</th>\n",
       "      <th>f376</th>\n",
       "      <th>f377</th>\n",
       "      <th>id10</th>\n",
       "      <th>id11</th>\n",
       "      <th>f378</th>\n",
       "      <th>f374</th>\n",
       "      <th>id8</th>\n",
       "      <th>id12</th>\n",
       "      <th>id13</th>\n",
       "    </tr>\n",
       "  </thead>\n",
       "  <tbody>\n",
       "    <tr>\n",
       "      <th>0</th>\n",
       "      <td>70687</td>\n",
       "      <td>FO5O</td>\n",
       "      <td>2</td>\n",
       "      <td>5.0</td>\n",
       "      <td>None</td>\n",
       "      <td>1</td>\n",
       "      <td>None</td>\n",
       "      <td>N</td>\n",
       "      <td>None</td>\n",
       "      <td>None</td>\n",
       "      <td>2018-01-01 00:00:00</td>\n",
       "      <td>2099-12-31 23:59:59</td>\n",
       "    </tr>\n",
       "    <tr>\n",
       "      <th>1</th>\n",
       "      <td>900002526</td>\n",
       "      <td>UGE</td>\n",
       "      <td>2</td>\n",
       "      <td>100.0</td>\n",
       "      <td>None</td>\n",
       "      <td>1</td>\n",
       "      <td>None</td>\n",
       "      <td>N</td>\n",
       "      <td>None</td>\n",
       "      <td>None</td>\n",
       "      <td>2014-10-20 00:00:00</td>\n",
       "      <td>2099-12-31 23:59:59</td>\n",
       "    </tr>\n",
       "    <tr>\n",
       "      <th>2</th>\n",
       "      <td>900002864</td>\n",
       "      <td>UTP</td>\n",
       "      <td>1</td>\n",
       "      <td>100.0</td>\n",
       "      <td>None</td>\n",
       "      <td>1</td>\n",
       "      <td>None</td>\n",
       "      <td>N</td>\n",
       "      <td>None</td>\n",
       "      <td>None</td>\n",
       "      <td>2016-07-19 00:00:00</td>\n",
       "      <td>2099-12-31 23:59:59</td>\n",
       "    </tr>\n",
       "    <tr>\n",
       "      <th>3</th>\n",
       "      <td>19508</td>\n",
       "      <td>o</td>\n",
       "      <td>2</td>\n",
       "      <td>NaN</td>\n",
       "      <td>None</td>\n",
       "      <td>1</td>\n",
       "      <td>None</td>\n",
       "      <td>N</td>\n",
       "      <td>None</td>\n",
       "      <td>None</td>\n",
       "      <td>2019-06-02 17:00:00</td>\n",
       "      <td>2028-12-31 16:59:59</td>\n",
       "    </tr>\n",
       "    <tr>\n",
       "      <th>4</th>\n",
       "      <td>35903</td>\n",
       "      <td>o</td>\n",
       "      <td>2</td>\n",
       "      <td>NaN</td>\n",
       "      <td>None</td>\n",
       "      <td>1</td>\n",
       "      <td>None</td>\n",
       "      <td>N</td>\n",
       "      <td>None</td>\n",
       "      <td>None</td>\n",
       "      <td>2019-06-02 17:00:00</td>\n",
       "      <td>2028-12-31 16:59:59</td>\n",
       "    </tr>\n",
       "  </tbody>\n",
       "</table>\n",
       "</div>"
      ],
      "text/plain": [
       "         id3   id9  f375   f376  f377 id10  id11 f378  f374   id8  \\\n",
       "0      70687  FO5O     2    5.0  None    1  None    N  None  None   \n",
       "1  900002526   UGE     2  100.0  None    1  None    N  None  None   \n",
       "2  900002864   UTP     1  100.0  None    1  None    N  None  None   \n",
       "3      19508     o     2    NaN  None    1  None    N  None  None   \n",
       "4      35903     o     2    NaN  None    1  None    N  None  None   \n",
       "\n",
       "                  id12                 id13  \n",
       "0  2018-01-01 00:00:00  2099-12-31 23:59:59  \n",
       "1  2014-10-20 00:00:00  2099-12-31 23:59:59  \n",
       "2  2016-07-19 00:00:00  2099-12-31 23:59:59  \n",
       "3  2019-06-02 17:00:00  2028-12-31 16:59:59  \n",
       "4  2019-06-02 17:00:00  2028-12-31 16:59:59  "
      ]
     },
     "execution_count": 7,
     "metadata": {},
     "output_type": "execute_result"
    }
   ],
   "source": [
    "df_offers.head()"
   ]
  },
  {
   "cell_type": "code",
   "execution_count": 8,
   "metadata": {
    "execution": {
     "iopub.execute_input": "2025-06-30T18:48:55.677012Z",
     "iopub.status.busy": "2025-06-30T18:48:55.676765Z",
     "iopub.status.idle": "2025-06-30T18:49:09.206705Z",
     "shell.execute_reply": "2025-06-30T18:49:09.205996Z",
     "shell.execute_reply.started": "2025-06-30T18:48:55.676993Z"
    },
    "trusted": true
   },
   "outputs": [],
   "source": [
    "df_train = pd.read_parquet('data/train_data.parquet', engine=\"pyarrow\")"
   ]
  },
  {
   "cell_type": "code",
   "execution_count": 9,
   "metadata": {
    "execution": {
     "iopub.execute_input": "2025-06-30T18:49:09.207815Z",
     "iopub.status.busy": "2025-06-30T18:49:09.207558Z",
     "iopub.status.idle": "2025-06-30T18:49:09.224743Z",
     "shell.execute_reply": "2025-06-30T18:49:09.224087Z",
     "shell.execute_reply.started": "2025-06-30T18:49:09.207796Z"
    },
    "trusted": true
   },
   "outputs": [
    {
     "data": {
      "text/html": [
       "<div>\n",
       "<style scoped>\n",
       "    .dataframe tbody tr th:only-of-type {\n",
       "        vertical-align: middle;\n",
       "    }\n",
       "\n",
       "    .dataframe tbody tr th {\n",
       "        vertical-align: top;\n",
       "    }\n",
       "\n",
       "    .dataframe thead th {\n",
       "        text-align: right;\n",
       "    }\n",
       "</style>\n",
       "<table border=\"1\" class=\"dataframe\">\n",
       "  <thead>\n",
       "    <tr style=\"text-align: right;\">\n",
       "      <th></th>\n",
       "      <th>id1</th>\n",
       "      <th>id2</th>\n",
       "      <th>id3</th>\n",
       "      <th>id4</th>\n",
       "      <th>id5</th>\n",
       "      <th>y</th>\n",
       "      <th>f1</th>\n",
       "      <th>f2</th>\n",
       "      <th>f3</th>\n",
       "      <th>f4</th>\n",
       "      <th>...</th>\n",
       "      <th>f357</th>\n",
       "      <th>f358</th>\n",
       "      <th>f359</th>\n",
       "      <th>f360</th>\n",
       "      <th>f361</th>\n",
       "      <th>f362</th>\n",
       "      <th>f363</th>\n",
       "      <th>f364</th>\n",
       "      <th>f365</th>\n",
       "      <th>f366</th>\n",
       "    </tr>\n",
       "  </thead>\n",
       "  <tbody>\n",
       "    <tr>\n",
       "      <th>0</th>\n",
       "      <td>1366776_189706075_16-23_2023-11-02 22:22:00.042</td>\n",
       "      <td>1366776</td>\n",
       "      <td>189706075</td>\n",
       "      <td>2023-11-02 22:22:00.042</td>\n",
       "      <td>2023-11-02</td>\n",
       "      <td>0</td>\n",
       "      <td>1.0</td>\n",
       "      <td>None</td>\n",
       "      <td>None</td>\n",
       "      <td>None</td>\n",
       "      <td>...</td>\n",
       "      <td>None</td>\n",
       "      <td>-9999.0</td>\n",
       "      <td>0.0</td>\n",
       "      <td>None</td>\n",
       "      <td>28.0</td>\n",
       "      <td>0.0</td>\n",
       "      <td>0.0</td>\n",
       "      <td>337.0</td>\n",
       "      <td>0.0</td>\n",
       "      <td>0.0</td>\n",
       "    </tr>\n",
       "    <tr>\n",
       "      <th>1</th>\n",
       "      <td>1366776_89227_16-23_2023-11-01 23:51:24.999</td>\n",
       "      <td>1366776</td>\n",
       "      <td>89227</td>\n",
       "      <td>2023-11-01 23:51:24.999</td>\n",
       "      <td>2023-11-01</td>\n",
       "      <td>0</td>\n",
       "      <td>1.0</td>\n",
       "      <td>None</td>\n",
       "      <td>None</td>\n",
       "      <td>None</td>\n",
       "      <td>...</td>\n",
       "      <td>None</td>\n",
       "      <td>None</td>\n",
       "      <td>0.0</td>\n",
       "      <td>None</td>\n",
       "      <td>87.0</td>\n",
       "      <td>0.0</td>\n",
       "      <td>0.0</td>\n",
       "      <td>1010.0</td>\n",
       "      <td>2.0</td>\n",
       "      <td>0.0019801980198019</td>\n",
       "    </tr>\n",
       "    <tr>\n",
       "      <th>2</th>\n",
       "      <td>1366776_35046_16-23_2023-11-01 00:30:59.797</td>\n",
       "      <td>1366776</td>\n",
       "      <td>35046</td>\n",
       "      <td>2023-11-01 00:30:59.797</td>\n",
       "      <td>2023-11-01</td>\n",
       "      <td>0</td>\n",
       "      <td>1.0</td>\n",
       "      <td>None</td>\n",
       "      <td>None</td>\n",
       "      <td>None</td>\n",
       "      <td>...</td>\n",
       "      <td>None</td>\n",
       "      <td>None</td>\n",
       "      <td>0.0</td>\n",
       "      <td>None</td>\n",
       "      <td>23.0</td>\n",
       "      <td>0.0</td>\n",
       "      <td>0.0</td>\n",
       "      <td>1010.0</td>\n",
       "      <td>2.0</td>\n",
       "      <td>0.0019801980198019</td>\n",
       "    </tr>\n",
       "    <tr>\n",
       "      <th>3</th>\n",
       "      <td>1366776_6275451_16-23_2023-11-02 22:21:32.261</td>\n",
       "      <td>1366776</td>\n",
       "      <td>6275451</td>\n",
       "      <td>2023-11-02 22:21:32.261</td>\n",
       "      <td>2023-11-02</td>\n",
       "      <td>0</td>\n",
       "      <td>1.0</td>\n",
       "      <td>None</td>\n",
       "      <td>None</td>\n",
       "      <td>None</td>\n",
       "      <td>...</td>\n",
       "      <td>None</td>\n",
       "      <td>-9999.0</td>\n",
       "      <td>0.0</td>\n",
       "      <td>None</td>\n",
       "      <td>277.0</td>\n",
       "      <td>1.0</td>\n",
       "      <td>0.003610108303249</td>\n",
       "      <td>337.0</td>\n",
       "      <td>0.0</td>\n",
       "      <td>0.0</td>\n",
       "    </tr>\n",
       "    <tr>\n",
       "      <th>4</th>\n",
       "      <td>1366776_78053_16-23_2023-11-02 22:21:34.799</td>\n",
       "      <td>1366776</td>\n",
       "      <td>78053</td>\n",
       "      <td>2023-11-02 22:21:34.799</td>\n",
       "      <td>2023-11-02</td>\n",
       "      <td>0</td>\n",
       "      <td>1.0</td>\n",
       "      <td>None</td>\n",
       "      <td>None</td>\n",
       "      <td>None</td>\n",
       "      <td>...</td>\n",
       "      <td>None</td>\n",
       "      <td>-9999.0</td>\n",
       "      <td>0.0</td>\n",
       "      <td>None</td>\n",
       "      <td>359.0</td>\n",
       "      <td>0.0</td>\n",
       "      <td>0.0</td>\n",
       "      <td>337.0</td>\n",
       "      <td>0.0</td>\n",
       "      <td>0.0</td>\n",
       "    </tr>\n",
       "  </tbody>\n",
       "</table>\n",
       "<p>5 rows × 372 columns</p>\n",
       "</div>"
      ],
      "text/plain": [
       "                                               id1      id2        id3  \\\n",
       "0  1366776_189706075_16-23_2023-11-02 22:22:00.042  1366776  189706075   \n",
       "1      1366776_89227_16-23_2023-11-01 23:51:24.999  1366776      89227   \n",
       "2      1366776_35046_16-23_2023-11-01 00:30:59.797  1366776      35046   \n",
       "3    1366776_6275451_16-23_2023-11-02 22:21:32.261  1366776    6275451   \n",
       "4      1366776_78053_16-23_2023-11-02 22:21:34.799  1366776      78053   \n",
       "\n",
       "                       id4         id5  y   f1    f2    f3    f4  ...  f357  \\\n",
       "0  2023-11-02 22:22:00.042  2023-11-02  0  1.0  None  None  None  ...  None   \n",
       "1  2023-11-01 23:51:24.999  2023-11-01  0  1.0  None  None  None  ...  None   \n",
       "2  2023-11-01 00:30:59.797  2023-11-01  0  1.0  None  None  None  ...  None   \n",
       "3  2023-11-02 22:21:32.261  2023-11-02  0  1.0  None  None  None  ...  None   \n",
       "4  2023-11-02 22:21:34.799  2023-11-02  0  1.0  None  None  None  ...  None   \n",
       "\n",
       "      f358 f359  f360   f361 f362               f363    f364 f365  \\\n",
       "0  -9999.0  0.0  None   28.0  0.0                0.0   337.0  0.0   \n",
       "1     None  0.0  None   87.0  0.0                0.0  1010.0  2.0   \n",
       "2     None  0.0  None   23.0  0.0                0.0  1010.0  2.0   \n",
       "3  -9999.0  0.0  None  277.0  1.0  0.003610108303249   337.0  0.0   \n",
       "4  -9999.0  0.0  None  359.0  0.0                0.0   337.0  0.0   \n",
       "\n",
       "                 f366  \n",
       "0                 0.0  \n",
       "1  0.0019801980198019  \n",
       "2  0.0019801980198019  \n",
       "3                 0.0  \n",
       "4                 0.0  \n",
       "\n",
       "[5 rows x 372 columns]"
      ]
     },
     "execution_count": 9,
     "metadata": {},
     "output_type": "execute_result"
    }
   ],
   "source": [
    "df_train.head()"
   ]
  },
  {
   "cell_type": "code",
   "execution_count": 10,
   "metadata": {
    "execution": {
     "iopub.execute_input": "2025-06-30T18:49:09.227762Z",
     "iopub.status.busy": "2025-06-30T18:49:09.227461Z",
     "iopub.status.idle": "2025-06-30T18:49:09.255061Z",
     "shell.execute_reply": "2025-06-30T18:49:09.254363Z",
     "shell.execute_reply.started": "2025-06-30T18:49:09.227743Z"
    },
    "trusted": true
   },
   "outputs": [],
   "source": [
    "df_dict = pd.read_csv('data/data_dictionary.csv')"
   ]
  },
  {
   "cell_type": "code",
   "execution_count": 11,
   "metadata": {
    "execution": {
     "iopub.execute_input": "2025-06-30T18:49:09.256149Z",
     "iopub.status.busy": "2025-06-30T18:49:09.255867Z",
     "iopub.status.idle": "2025-06-30T18:49:09.264084Z",
     "shell.execute_reply": "2025-06-30T18:49:09.263414Z",
     "shell.execute_reply.started": "2025-06-30T18:49:09.256119Z"
    },
    "trusted": true
   },
   "outputs": [
    {
     "data": {
      "text/html": [
       "<div>\n",
       "<style scoped>\n",
       "    .dataframe tbody tr th:only-of-type {\n",
       "        vertical-align: middle;\n",
       "    }\n",
       "\n",
       "    .dataframe tbody tr th {\n",
       "        vertical-align: top;\n",
       "    }\n",
       "\n",
       "    .dataframe thead th {\n",
       "        text-align: right;\n",
       "    }\n",
       "</style>\n",
       "<table border=\"1\" class=\"dataframe\">\n",
       "  <thead>\n",
       "    <tr style=\"text-align: right;\">\n",
       "      <th></th>\n",
       "      <th>masked_column</th>\n",
       "      <th>Description</th>\n",
       "      <th>Type</th>\n",
       "    </tr>\n",
       "  </thead>\n",
       "  <tbody>\n",
       "    <tr>\n",
       "      <th>0</th>\n",
       "      <td>id1</td>\n",
       "      <td>Primary Key(masked)</td>\n",
       "      <td>Key</td>\n",
       "    </tr>\n",
       "    <tr>\n",
       "      <th>1</th>\n",
       "      <td>id2</td>\n",
       "      <td>Customer ID (masked)</td>\n",
       "      <td>-</td>\n",
       "    </tr>\n",
       "    <tr>\n",
       "      <th>2</th>\n",
       "      <td>id3</td>\n",
       "      <td>Offer ID</td>\n",
       "      <td>Categorical</td>\n",
       "    </tr>\n",
       "    <tr>\n",
       "      <th>3</th>\n",
       "      <td>id4</td>\n",
       "      <td>Event timestamp</td>\n",
       "      <td>Numerical</td>\n",
       "    </tr>\n",
       "    <tr>\n",
       "      <th>4</th>\n",
       "      <td>id5</td>\n",
       "      <td>Event Date</td>\n",
       "      <td>Numerical</td>\n",
       "    </tr>\n",
       "  </tbody>\n",
       "</table>\n",
       "</div>"
      ],
      "text/plain": [
       "  masked_column           Description         Type\n",
       "0           id1   Primary Key(masked)          Key\n",
       "1           id2  Customer ID (masked)            -\n",
       "2           id3              Offer ID  Categorical\n",
       "3           id4       Event timestamp    Numerical\n",
       "4           id5            Event Date    Numerical"
      ]
     },
     "execution_count": 11,
     "metadata": {},
     "output_type": "execute_result"
    }
   ],
   "source": [
    "df_dict.head()"
   ]
  },
  {
   "cell_type": "code",
   "execution_count": 12,
   "metadata": {
    "execution": {
     "iopub.execute_input": "2025-06-30T18:49:09.265108Z",
     "iopub.status.busy": "2025-06-30T18:49:09.264880Z",
     "iopub.status.idle": "2025-06-30T18:49:16.985362Z",
     "shell.execute_reply": "2025-06-30T18:49:16.984469Z",
     "shell.execute_reply.started": "2025-06-30T18:49:09.265091Z"
    },
    "trusted": true
   },
   "outputs": [],
   "source": [
    "df_test = pd.read_parquet('data/test_data.parquet', engine=\"pyarrow\")"
   ]
  },
  {
   "cell_type": "code",
   "execution_count": 13,
   "metadata": {
    "execution": {
     "iopub.execute_input": "2025-06-30T18:49:16.986468Z",
     "iopub.status.busy": "2025-06-30T18:49:16.986245Z",
     "iopub.status.idle": "2025-06-30T18:49:17.004606Z",
     "shell.execute_reply": "2025-06-30T18:49:17.003718Z",
     "shell.execute_reply.started": "2025-06-30T18:49:16.986452Z"
    },
    "trusted": true
   },
   "outputs": [
    {
     "data": {
      "text/html": [
       "<div>\n",
       "<style scoped>\n",
       "    .dataframe tbody tr th:only-of-type {\n",
       "        vertical-align: middle;\n",
       "    }\n",
       "\n",
       "    .dataframe tbody tr th {\n",
       "        vertical-align: top;\n",
       "    }\n",
       "\n",
       "    .dataframe thead th {\n",
       "        text-align: right;\n",
       "    }\n",
       "</style>\n",
       "<table border=\"1\" class=\"dataframe\">\n",
       "  <thead>\n",
       "    <tr style=\"text-align: right;\">\n",
       "      <th></th>\n",
       "      <th>id1</th>\n",
       "      <th>id2</th>\n",
       "      <th>id3</th>\n",
       "      <th>id4</th>\n",
       "      <th>id5</th>\n",
       "      <th>f1</th>\n",
       "      <th>f2</th>\n",
       "      <th>f3</th>\n",
       "      <th>f4</th>\n",
       "      <th>f5</th>\n",
       "      <th>...</th>\n",
       "      <th>f357</th>\n",
       "      <th>f358</th>\n",
       "      <th>f359</th>\n",
       "      <th>f360</th>\n",
       "      <th>f361</th>\n",
       "      <th>f362</th>\n",
       "      <th>f363</th>\n",
       "      <th>f364</th>\n",
       "      <th>f365</th>\n",
       "      <th>f366</th>\n",
       "    </tr>\n",
       "  </thead>\n",
       "  <tbody>\n",
       "    <tr>\n",
       "      <th>46756</th>\n",
       "      <td>1362907_91950_16-23_2023-11-04 18:56:26.000794</td>\n",
       "      <td>1362907</td>\n",
       "      <td>91950</td>\n",
       "      <td>2023-11-04 18:56:26.000794</td>\n",
       "      <td>2023-11-04</td>\n",
       "      <td>None</td>\n",
       "      <td>None</td>\n",
       "      <td>None</td>\n",
       "      <td>None</td>\n",
       "      <td>None</td>\n",
       "      <td>...</td>\n",
       "      <td>0.0027807272790246</td>\n",
       "      <td>0.0465999838670646</td>\n",
       "      <td>0.0</td>\n",
       "      <td>None</td>\n",
       "      <td>1.0</td>\n",
       "      <td>0.0</td>\n",
       "      <td>0.0</td>\n",
       "      <td>56.0</td>\n",
       "      <td>0.0</td>\n",
       "      <td>0.0</td>\n",
       "    </tr>\n",
       "    <tr>\n",
       "      <th>57819</th>\n",
       "      <td>1082599_88356_16-23_2023-11-04 06:08:53.373</td>\n",
       "      <td>1082599</td>\n",
       "      <td>88356</td>\n",
       "      <td>2023-11-04 06:08:53.373</td>\n",
       "      <td>2023-11-04</td>\n",
       "      <td>None</td>\n",
       "      <td>9.0</td>\n",
       "      <td>None</td>\n",
       "      <td>None</td>\n",
       "      <td>None</td>\n",
       "      <td>...</td>\n",
       "      <td>0.0014287946777398</td>\n",
       "      <td>0.0603093514970909</td>\n",
       "      <td>0.0</td>\n",
       "      <td>None</td>\n",
       "      <td>195.0</td>\n",
       "      <td>13.0</td>\n",
       "      <td>0.0666666666666666</td>\n",
       "      <td>None</td>\n",
       "      <td>None</td>\n",
       "      <td>None</td>\n",
       "    </tr>\n",
       "    <tr>\n",
       "      <th>15390</th>\n",
       "      <td>1888466_958700_16-23_2023-11-05 10:07:28.000725</td>\n",
       "      <td>1888466</td>\n",
       "      <td>958700</td>\n",
       "      <td>2023-11-05 10:07:28.000725</td>\n",
       "      <td>2023-11-05</td>\n",
       "      <td>None</td>\n",
       "      <td>None</td>\n",
       "      <td>None</td>\n",
       "      <td>None</td>\n",
       "      <td>22.0</td>\n",
       "      <td>...</td>\n",
       "      <td>-0.0174961119751166</td>\n",
       "      <td>0.0734836702954899</td>\n",
       "      <td>0.0</td>\n",
       "      <td>None</td>\n",
       "      <td>155.0</td>\n",
       "      <td>67.0</td>\n",
       "      <td>0.432258064516129</td>\n",
       "      <td>1142.0</td>\n",
       "      <td>436.0</td>\n",
       "      <td>0.3817863397548161</td>\n",
       "    </tr>\n",
       "    <tr>\n",
       "      <th>145730</th>\n",
       "      <td>1888971_795739_16-23_2023-11-04 12:25:28.244</td>\n",
       "      <td>1888971</td>\n",
       "      <td>795739</td>\n",
       "      <td>2023-11-04 12:25:28.244</td>\n",
       "      <td>2023-11-04</td>\n",
       "      <td>None</td>\n",
       "      <td>None</td>\n",
       "      <td>None</td>\n",
       "      <td>None</td>\n",
       "      <td>None</td>\n",
       "      <td>...</td>\n",
       "      <td>0.0013159476327096</td>\n",
       "      <td>0.040572039549215</td>\n",
       "      <td>0.0</td>\n",
       "      <td>None</td>\n",
       "      <td>None</td>\n",
       "      <td>None</td>\n",
       "      <td>None</td>\n",
       "      <td>None</td>\n",
       "      <td>None</td>\n",
       "      <td>None</td>\n",
       "    </tr>\n",
       "    <tr>\n",
       "      <th>146085</th>\n",
       "      <td>1256369_82296_16-23_2023-11-05 06:45:26.657</td>\n",
       "      <td>1256369</td>\n",
       "      <td>82296</td>\n",
       "      <td>2023-11-05 06:45:26.657</td>\n",
       "      <td>2023-11-05</td>\n",
       "      <td>None</td>\n",
       "      <td>None</td>\n",
       "      <td>None</td>\n",
       "      <td>None</td>\n",
       "      <td>None</td>\n",
       "      <td>...</td>\n",
       "      <td>0.0020541699799278</td>\n",
       "      <td>0.038243539079214</td>\n",
       "      <td>0.0</td>\n",
       "      <td>None</td>\n",
       "      <td>29.0</td>\n",
       "      <td>2.0</td>\n",
       "      <td>0.0689655172413793</td>\n",
       "      <td>361.0</td>\n",
       "      <td>3.0</td>\n",
       "      <td>0.0083102493074792</td>\n",
       "    </tr>\n",
       "  </tbody>\n",
       "</table>\n",
       "<p>5 rows × 371 columns</p>\n",
       "</div>"
      ],
      "text/plain": [
       "                                                    id1      id2     id3  \\\n",
       "46756    1362907_91950_16-23_2023-11-04 18:56:26.000794  1362907   91950   \n",
       "57819       1082599_88356_16-23_2023-11-04 06:08:53.373  1082599   88356   \n",
       "15390   1888466_958700_16-23_2023-11-05 10:07:28.000725  1888466  958700   \n",
       "145730     1888971_795739_16-23_2023-11-04 12:25:28.244  1888971  795739   \n",
       "146085      1256369_82296_16-23_2023-11-05 06:45:26.657  1256369   82296   \n",
       "\n",
       "                               id4         id5    f1    f2    f3    f4    f5  \\\n",
       "46756   2023-11-04 18:56:26.000794  2023-11-04  None  None  None  None  None   \n",
       "57819      2023-11-04 06:08:53.373  2023-11-04  None   9.0  None  None  None   \n",
       "15390   2023-11-05 10:07:28.000725  2023-11-05  None  None  None  None  22.0   \n",
       "145730     2023-11-04 12:25:28.244  2023-11-04  None  None  None  None  None   \n",
       "146085     2023-11-05 06:45:26.657  2023-11-05  None  None  None  None  None   \n",
       "\n",
       "        ...                 f357                f358 f359  f360   f361  f362  \\\n",
       "46756   ...   0.0027807272790246  0.0465999838670646  0.0  None    1.0   0.0   \n",
       "57819   ...   0.0014287946777398  0.0603093514970909  0.0  None  195.0  13.0   \n",
       "15390   ...  -0.0174961119751166  0.0734836702954899  0.0  None  155.0  67.0   \n",
       "145730  ...   0.0013159476327096   0.040572039549215  0.0  None   None  None   \n",
       "146085  ...   0.0020541699799278   0.038243539079214  0.0  None   29.0   2.0   \n",
       "\n",
       "                      f363    f364   f365                f366  \n",
       "46756                  0.0    56.0    0.0                 0.0  \n",
       "57819   0.0666666666666666    None   None                None  \n",
       "15390    0.432258064516129  1142.0  436.0  0.3817863397548161  \n",
       "145730                None    None   None                None  \n",
       "146085  0.0689655172413793   361.0    3.0  0.0083102493074792  \n",
       "\n",
       "[5 rows x 371 columns]"
      ]
     },
     "execution_count": 13,
     "metadata": {},
     "output_type": "execute_result"
    }
   ],
   "source": [
    "df_test.head()"
   ]
  },
  {
   "cell_type": "code",
   "execution_count": 14,
   "metadata": {
    "execution": {
     "iopub.execute_input": "2025-06-30T18:49:17.005812Z",
     "iopub.status.busy": "2025-06-30T18:49:17.005452Z",
     "iopub.status.idle": "2025-06-30T18:49:17.513120Z",
     "shell.execute_reply": "2025-06-30T18:49:17.509867Z",
     "shell.execute_reply.started": "2025-06-30T18:49:17.005790Z"
    },
    "trusted": true
   },
   "outputs": [],
   "source": [
    "df_train['id4'] = pd.to_datetime(df_train['id4'])\n",
    "df_test['id4'] = pd.to_datetime(df_test['id4'])\n",
    "df_train['id5'] = pd.to_datetime(df_train['id5'])\n",
    "df_test['id5'] = pd.to_datetime(df_test['id5'])"
   ]
  },
  {
   "cell_type": "code",
   "execution_count": 15,
   "metadata": {
    "execution": {
     "iopub.execute_input": "2025-06-30T18:49:17.514158Z",
     "iopub.status.busy": "2025-06-30T18:49:17.513838Z",
     "iopub.status.idle": "2025-06-30T18:49:17.714528Z",
     "shell.execute_reply": "2025-06-30T18:49:17.713572Z",
     "shell.execute_reply.started": "2025-06-30T18:49:17.514132Z"
    },
    "trusted": true
   },
   "outputs": [],
   "source": [
    "for df in [df_train, df_test]:\n",
    "    df['hour'] = df['id4'].dt.hour\n",
    "    df['dayofweek'] = df['id4'].dt.dayofweek\n",
    "    df['day'] = df['id4'].dt.day\n",
    "    df['month'] = df['id4'].dt.month\n",
    "    df['is_weekend'] = df['dayofweek'].isin([5, 6]).astype(int)"
   ]
  },
  {
   "cell_type": "code",
   "execution_count": 16,
   "metadata": {
    "execution": {
     "iopub.execute_input": "2025-06-30T18:49:17.716062Z",
     "iopub.status.busy": "2025-06-30T18:49:17.715753Z",
     "iopub.status.idle": "2025-06-30T18:49:18.188667Z",
     "shell.execute_reply": "2025-06-30T18:49:18.187860Z",
     "shell.execute_reply.started": "2025-06-30T18:49:17.716030Z"
    },
    "trusted": true
   },
   "outputs": [],
   "source": [
    "# Season encoded (Spring = 0, Summer = 1, etc.)\n",
    "def season_from_month(m):\n",
    "    return (m % 12 + 3) // 3\n",
    "\n",
    "df_train['season'] = df_train['month'].apply(season_from_month)\n",
    "df_test['season'] = df_test['month'].apply(season_from_month)\n"
   ]
  },
  {
   "cell_type": "code",
   "execution_count": 17,
   "metadata": {
    "execution": {
     "iopub.execute_input": "2025-06-30T18:49:18.189935Z",
     "iopub.status.busy": "2025-06-30T18:49:18.189612Z",
     "iopub.status.idle": "2025-06-30T18:49:18.201669Z",
     "shell.execute_reply": "2025-06-30T18:49:18.200828Z",
     "shell.execute_reply.started": "2025-06-30T18:49:18.189910Z"
    },
    "trusted": true
   },
   "outputs": [],
   "source": [
    "df_offers['id13'] = pd.to_datetime(df_offers['id13'])  # End Timestamp\n",
    "df_offers['id12'] = pd.to_datetime(df_offers['id12'])  # Start Timestamp"
   ]
  },
  {
   "cell_type": "code",
   "execution_count": 18,
   "metadata": {
    "execution": {
     "iopub.execute_input": "2025-06-30T18:49:18.203058Z",
     "iopub.status.busy": "2025-06-30T18:49:18.202698Z",
     "iopub.status.idle": "2025-06-30T18:49:18.230619Z",
     "shell.execute_reply": "2025-06-30T18:49:18.229565Z",
     "shell.execute_reply.started": "2025-06-30T18:49:18.203022Z"
    },
    "trusted": true
   },
   "outputs": [],
   "source": [
    "df_train['id3'] = df_train['id3'].astype(str)\n",
    "df_offers['id3'] = df_offers['id3'].astype(str)"
   ]
  },
  {
   "cell_type": "code",
   "execution_count": 19,
   "metadata": {
    "execution": {
     "iopub.execute_input": "2025-06-30T18:49:18.232577Z",
     "iopub.status.busy": "2025-06-30T18:49:18.231853Z",
     "iopub.status.idle": "2025-06-30T18:49:38.128517Z",
     "shell.execute_reply": "2025-06-30T18:49:38.127843Z",
     "shell.execute_reply.started": "2025-06-30T18:49:18.232547Z"
    },
    "trusted": true
   },
   "outputs": [],
   "source": [
    "\n",
    "df_train = df_train.merge(df_offers[['id3', 'id12', 'id13']], on='id3', how='left')\n",
    "df_test = df_test.merge(df_offers[['id3', 'id12', 'id13']], on='id3', how='left')\n"
   ]
  },
  {
   "cell_type": "code",
   "execution_count": 20,
   "metadata": {
    "execution": {
     "iopub.execute_input": "2025-06-30T18:49:38.129796Z",
     "iopub.status.busy": "2025-06-30T18:49:38.129533Z",
     "iopub.status.idle": "2025-06-30T18:49:38.152193Z",
     "shell.execute_reply": "2025-06-30T18:49:38.151153Z",
     "shell.execute_reply.started": "2025-06-30T18:49:38.129778Z"
    },
    "trusted": true
   },
   "outputs": [],
   "source": [
    "df_train['is_offer_active'] = ((df_train['id4'] >= df_train['id12']) & (df_train['id4'] <= df_train['id13'])).astype(int)\n",
    "df_test['is_offer_active'] = ((df_test['id4'] >= df_test['id12']) & (df_test['id4'] <= df_test['id13'])).astype(int)"
   ]
  },
  {
   "cell_type": "code",
   "execution_count": 21,
   "metadata": {
    "execution": {
     "iopub.execute_input": "2025-06-30T18:49:38.153752Z",
     "iopub.status.busy": "2025-06-30T18:49:38.153134Z",
     "iopub.status.idle": "2025-06-30T18:49:49.587010Z",
     "shell.execute_reply": "2025-06-30T18:49:49.586024Z",
     "shell.execute_reply.started": "2025-06-30T18:49:38.153727Z"
    },
    "trusted": true
   },
   "outputs": [],
   "source": [
    "df_train.drop(columns=['id4', 'id5', 'id12', 'id13'], inplace=True, errors='ignore')\n",
    "df_test.drop(columns=['id4', 'id12', 'id13'], inplace=True, errors='ignore')"
   ]
  },
  {
   "cell_type": "code",
   "execution_count": 22,
   "metadata": {
    "execution": {
     "iopub.execute_input": "2025-06-30T18:49:49.588530Z",
     "iopub.status.busy": "2025-06-30T18:49:49.588218Z",
     "iopub.status.idle": "2025-06-30T18:49:57.932125Z",
     "shell.execute_reply": "2025-06-30T18:49:57.931234Z",
     "shell.execute_reply.started": "2025-06-30T18:49:49.588504Z"
    },
    "trusted": true
   },
   "outputs": [],
   "source": [
    "df_events['id7'] = pd.to_datetime(df_events['id7'], errors='coerce')\n",
    "df_events['is_clicked'] = df_events['id7'].notna().astype(int)\n",
    "\n",
    "offer_ctr = df_events.groupby('id3').agg(\n",
    "    impressions=('id4', 'count'),\n",
    "    clicks=('is_clicked', 'sum'),\n",
    ").reset_index()\n",
    "\n",
    "offer_ctr['ctr'] = offer_ctr['clicks'] / offer_ctr['impressions']\n"
   ]
  },
  {
   "cell_type": "code",
   "execution_count": 23,
   "metadata": {
    "execution": {
     "iopub.execute_input": "2025-06-30T18:49:57.934031Z",
     "iopub.status.busy": "2025-06-30T18:49:57.933681Z",
     "iopub.status.idle": "2025-06-30T18:49:57.949445Z",
     "shell.execute_reply": "2025-06-30T18:49:57.948424Z",
     "shell.execute_reply.started": "2025-06-30T18:49:57.933999Z"
    },
    "trusted": true
   },
   "outputs": [],
   "source": [
    "df_offers['id3'] = df_offers['id3'].astype(str)\n",
    "offer_ctr['id3'] = offer_ctr['id3'].astype(str)\n",
    "\n",
    "# Merge CTR\n",
    "df_offers = df_offers.merge(offer_ctr[['id3', 'ctr', 'impressions', 'clicks']], on='id3', how='left')"
   ]
  },
  {
   "cell_type": "code",
   "execution_count": 24,
   "metadata": {
    "execution": {
     "iopub.execute_input": "2025-06-30T18:49:57.950988Z",
     "iopub.status.busy": "2025-06-30T18:49:57.950613Z",
     "iopub.status.idle": "2025-06-30T18:50:06.905904Z",
     "shell.execute_reply": "2025-06-30T18:50:06.904969Z",
     "shell.execute_reply.started": "2025-06-30T18:49:57.950967Z"
    },
    "trusted": true
   },
   "outputs": [],
   "source": [
    "df_train = df_train.merge(df_offers[['id3', 'ctr', 'impressions', 'clicks']], on='id3', how='left')\n",
    "df_test = df_test.merge(df_offers[['id3', 'ctr', 'impressions', 'clicks']], on='id3', how='left')\n",
    "\n",
    "# Fill NA with 0 where appropriate\n",
    "for col in ['ctr', 'impressions', 'clicks']:\n",
    "    df_train[col] = df_train[col].fillna(0)\n",
    "    df_test[col] = df_test[col].fillna(0)"
   ]
  },
  {
   "cell_type": "code",
   "execution_count": 25,
   "metadata": {
    "execution": {
     "iopub.execute_input": "2025-06-30T18:50:06.907247Z",
     "iopub.status.busy": "2025-06-30T18:50:06.906954Z",
     "iopub.status.idle": "2025-06-30T18:51:35.451833Z",
     "shell.execute_reply": "2025-06-30T18:51:35.450729Z",
     "shell.execute_reply.started": "2025-06-30T18:50:06.907220Z"
    },
    "trusted": true
   },
   "outputs": [
    {
     "name": "stderr",
     "output_type": "stream",
     "text": [
      "C:\\Users\\91820\\AppData\\Local\\Temp\\ipykernel_21444\\3347564025.py:1: FutureWarning: Downcasting object dtype arrays on .fillna, .ffill, .bfill is deprecated and will change in a future version. Call result.infer_objects(copy=False) instead. To opt-in to the future behavior, set `pd.set_option('future.no_silent_downcasting', True)`\n",
      "  df_train.fillna(-9999, inplace=True)\n",
      "C:\\Users\\91820\\AppData\\Local\\Temp\\ipykernel_21444\\3347564025.py:2: FutureWarning: Downcasting object dtype arrays on .fillna, .ffill, .bfill is deprecated and will change in a future version. Call result.infer_objects(copy=False) instead. To opt-in to the future behavior, set `pd.set_option('future.no_silent_downcasting', True)`\n",
      "  df_test.fillna(-9999, inplace=True)\n"
     ]
    }
   ],
   "source": [
    "df_train.fillna(-9999, inplace=True)\n",
    "df_test.fillna(-9999, inplace=True)"
   ]
  },
  {
   "cell_type": "code",
   "execution_count": 26,
   "metadata": {
    "execution": {
     "iopub.execute_input": "2025-06-30T18:51:35.453181Z",
     "iopub.status.busy": "2025-06-30T18:51:35.452875Z",
     "iopub.status.idle": "2025-06-30T18:51:35.476704Z",
     "shell.execute_reply": "2025-06-30T18:51:35.475751Z",
     "shell.execute_reply.started": "2025-06-30T18:51:35.453151Z"
    },
    "trusted": true
   },
   "outputs": [
    {
     "data": {
      "text/html": [
       "<div>\n",
       "<style scoped>\n",
       "    .dataframe tbody tr th:only-of-type {\n",
       "        vertical-align: middle;\n",
       "    }\n",
       "\n",
       "    .dataframe tbody tr th {\n",
       "        vertical-align: top;\n",
       "    }\n",
       "\n",
       "    .dataframe thead th {\n",
       "        text-align: right;\n",
       "    }\n",
       "</style>\n",
       "<table border=\"1\" class=\"dataframe\">\n",
       "  <thead>\n",
       "    <tr style=\"text-align: right;\">\n",
       "      <th></th>\n",
       "      <th>id1</th>\n",
       "      <th>id2</th>\n",
       "      <th>id3</th>\n",
       "      <th>y</th>\n",
       "      <th>f1</th>\n",
       "      <th>f2</th>\n",
       "      <th>f3</th>\n",
       "      <th>f4</th>\n",
       "      <th>f5</th>\n",
       "      <th>f6</th>\n",
       "      <th>...</th>\n",
       "      <th>hour</th>\n",
       "      <th>dayofweek</th>\n",
       "      <th>day</th>\n",
       "      <th>month</th>\n",
       "      <th>is_weekend</th>\n",
       "      <th>season</th>\n",
       "      <th>is_offer_active</th>\n",
       "      <th>ctr</th>\n",
       "      <th>impressions</th>\n",
       "      <th>clicks</th>\n",
       "    </tr>\n",
       "  </thead>\n",
       "  <tbody>\n",
       "    <tr>\n",
       "      <th>0</th>\n",
       "      <td>1366776_189706075_16-23_2023-11-02 22:22:00.042</td>\n",
       "      <td>1366776</td>\n",
       "      <td>189706075</td>\n",
       "      <td>0</td>\n",
       "      <td>1.0</td>\n",
       "      <td>-9999</td>\n",
       "      <td>-9999</td>\n",
       "      <td>-9999</td>\n",
       "      <td>-9999</td>\n",
       "      <td>-9999</td>\n",
       "      <td>...</td>\n",
       "      <td>22</td>\n",
       "      <td>3</td>\n",
       "      <td>2</td>\n",
       "      <td>11</td>\n",
       "      <td>0</td>\n",
       "      <td>4</td>\n",
       "      <td>1</td>\n",
       "      <td>0.059875</td>\n",
       "      <td>18238.0</td>\n",
       "      <td>1092.0</td>\n",
       "    </tr>\n",
       "    <tr>\n",
       "      <th>1</th>\n",
       "      <td>1366776_89227_16-23_2023-11-01 23:51:24.999</td>\n",
       "      <td>1366776</td>\n",
       "      <td>89227</td>\n",
       "      <td>0</td>\n",
       "      <td>1.0</td>\n",
       "      <td>-9999</td>\n",
       "      <td>-9999</td>\n",
       "      <td>-9999</td>\n",
       "      <td>-9999</td>\n",
       "      <td>-9999</td>\n",
       "      <td>...</td>\n",
       "      <td>23</td>\n",
       "      <td>2</td>\n",
       "      <td>1</td>\n",
       "      <td>11</td>\n",
       "      <td>0</td>\n",
       "      <td>4</td>\n",
       "      <td>1</td>\n",
       "      <td>0.046487</td>\n",
       "      <td>20780.0</td>\n",
       "      <td>966.0</td>\n",
       "    </tr>\n",
       "    <tr>\n",
       "      <th>2</th>\n",
       "      <td>1366776_35046_16-23_2023-11-01 00:30:59.797</td>\n",
       "      <td>1366776</td>\n",
       "      <td>35046</td>\n",
       "      <td>0</td>\n",
       "      <td>1.0</td>\n",
       "      <td>-9999</td>\n",
       "      <td>-9999</td>\n",
       "      <td>-9999</td>\n",
       "      <td>-9999</td>\n",
       "      <td>-9999</td>\n",
       "      <td>...</td>\n",
       "      <td>0</td>\n",
       "      <td>2</td>\n",
       "      <td>1</td>\n",
       "      <td>11</td>\n",
       "      <td>0</td>\n",
       "      <td>4</td>\n",
       "      <td>1</td>\n",
       "      <td>0.041484</td>\n",
       "      <td>18296.0</td>\n",
       "      <td>759.0</td>\n",
       "    </tr>\n",
       "    <tr>\n",
       "      <th>3</th>\n",
       "      <td>1366776_6275451_16-23_2023-11-02 22:21:32.261</td>\n",
       "      <td>1366776</td>\n",
       "      <td>6275451</td>\n",
       "      <td>0</td>\n",
       "      <td>1.0</td>\n",
       "      <td>-9999</td>\n",
       "      <td>-9999</td>\n",
       "      <td>-9999</td>\n",
       "      <td>-9999</td>\n",
       "      <td>-9999</td>\n",
       "      <td>...</td>\n",
       "      <td>22</td>\n",
       "      <td>3</td>\n",
       "      <td>2</td>\n",
       "      <td>11</td>\n",
       "      <td>0</td>\n",
       "      <td>4</td>\n",
       "      <td>1</td>\n",
       "      <td>0.042805</td>\n",
       "      <td>18012.0</td>\n",
       "      <td>771.0</td>\n",
       "    </tr>\n",
       "    <tr>\n",
       "      <th>4</th>\n",
       "      <td>1366776_78053_16-23_2023-11-02 22:21:34.799</td>\n",
       "      <td>1366776</td>\n",
       "      <td>78053</td>\n",
       "      <td>0</td>\n",
       "      <td>1.0</td>\n",
       "      <td>-9999</td>\n",
       "      <td>-9999</td>\n",
       "      <td>-9999</td>\n",
       "      <td>-9999</td>\n",
       "      <td>-9999</td>\n",
       "      <td>...</td>\n",
       "      <td>22</td>\n",
       "      <td>3</td>\n",
       "      <td>2</td>\n",
       "      <td>11</td>\n",
       "      <td>0</td>\n",
       "      <td>4</td>\n",
       "      <td>1</td>\n",
       "      <td>0.042544</td>\n",
       "      <td>18428.0</td>\n",
       "      <td>784.0</td>\n",
       "    </tr>\n",
       "  </tbody>\n",
       "</table>\n",
       "<p>5 rows × 380 columns</p>\n",
       "</div>"
      ],
      "text/plain": [
       "                                               id1      id2        id3  y  \\\n",
       "0  1366776_189706075_16-23_2023-11-02 22:22:00.042  1366776  189706075  0   \n",
       "1      1366776_89227_16-23_2023-11-01 23:51:24.999  1366776      89227  0   \n",
       "2      1366776_35046_16-23_2023-11-01 00:30:59.797  1366776      35046  0   \n",
       "3    1366776_6275451_16-23_2023-11-02 22:21:32.261  1366776    6275451  0   \n",
       "4      1366776_78053_16-23_2023-11-02 22:21:34.799  1366776      78053  0   \n",
       "\n",
       "    f1     f2     f3     f4     f5     f6  ... hour dayofweek day month  \\\n",
       "0  1.0  -9999  -9999  -9999  -9999  -9999  ...   22         3   2    11   \n",
       "1  1.0  -9999  -9999  -9999  -9999  -9999  ...   23         2   1    11   \n",
       "2  1.0  -9999  -9999  -9999  -9999  -9999  ...    0         2   1    11   \n",
       "3  1.0  -9999  -9999  -9999  -9999  -9999  ...   22         3   2    11   \n",
       "4  1.0  -9999  -9999  -9999  -9999  -9999  ...   22         3   2    11   \n",
       "\n",
       "  is_weekend season is_offer_active       ctr impressions  clicks  \n",
       "0          0      4               1  0.059875     18238.0  1092.0  \n",
       "1          0      4               1  0.046487     20780.0   966.0  \n",
       "2          0      4               1  0.041484     18296.0   759.0  \n",
       "3          0      4               1  0.042805     18012.0   771.0  \n",
       "4          0      4               1  0.042544     18428.0   784.0  \n",
       "\n",
       "[5 rows x 380 columns]"
      ]
     },
     "execution_count": 26,
     "metadata": {},
     "output_type": "execute_result"
    }
   ],
   "source": [
    "df_train.head()"
   ]
  },
  {
   "cell_type": "code",
   "execution_count": 27,
   "metadata": {
    "execution": {
     "iopub.execute_input": "2025-06-30T18:51:35.478151Z",
     "iopub.status.busy": "2025-06-30T18:51:35.477845Z",
     "iopub.status.idle": "2025-06-30T18:51:41.004168Z",
     "shell.execute_reply": "2025-06-30T18:51:41.003469Z",
     "shell.execute_reply.started": "2025-06-30T18:51:35.478124Z"
    },
    "trusted": true
   },
   "outputs": [],
   "source": [
    "import lightgbm as lgb\n",
    "from sklearn.model_selection import train_test_split\n",
    "from sklearn.metrics import log_loss"
   ]
  },
  {
   "cell_type": "code",
   "execution_count": 28,
   "metadata": {
    "execution": {
     "iopub.execute_input": "2025-06-30T18:51:41.008423Z",
     "iopub.status.busy": "2025-06-30T18:51:41.007864Z",
     "iopub.status.idle": "2025-06-30T18:51:41.014868Z",
     "shell.execute_reply": "2025-06-30T18:51:41.013961Z",
     "shell.execute_reply.started": "2025-06-30T18:51:41.008404Z"
    },
    "trusted": true
   },
   "outputs": [],
   "source": [
    "def mapk(actual, predicted, k=7):\n",
    "    \"\"\"\n",
    "    actual: list of lists, each containing true clicked offer_id3 (strings)\n",
    "    predicted: list of lists, each containing predicted offer_id3 (strings), ranked\n",
    "    \"\"\"\n",
    "    def apk(a, p, k):\n",
    "        if len(p) > k:\n",
    "            p = p[:k]\n",
    "        score = 0.0\n",
    "        num_hits = 0.0\n",
    "        for i, pred in enumerate(p):\n",
    "            if pred in a and pred not in p[:i]:\n",
    "                num_hits += 1.0\n",
    "                score += num_hits / (i + 1.0)\n",
    "        return score / min(len(a), k)\n",
    "\n",
    "    return np.mean([apk(a, p, k) for a, p in zip(actual, predicted)])"
   ]
  },
  {
   "cell_type": "code",
   "execution_count": 29,
   "metadata": {
    "execution": {
     "iopub.execute_input": "2025-06-30T18:51:41.016046Z",
     "iopub.status.busy": "2025-06-30T18:51:41.015834Z",
     "iopub.status.idle": "2025-06-30T18:52:01.964303Z",
     "shell.execute_reply": "2025-06-30T18:52:01.963550Z",
     "shell.execute_reply.started": "2025-06-30T18:51:41.016031Z"
    },
    "trusted": true
   },
   "outputs": [],
   "source": [
    "# Drop unwanted columns\n",
    "drop_cols = ['id1', 'id4', 'id5', 'y'] if 'id4' in df_train.columns else ['id1', 'id5', 'y']\n",
    "features = df_train.drop(columns=drop_cols, errors='ignore').columns\n",
    "\n",
    "# Split for local validation (optional but useful)\n",
    "X_train, X_val, y_train, y_val = train_test_split(\n",
    "    df_train[features], df_train['y'], test_size=0.2, random_state=42, stratify=df_train['y']\n",
    ")\n"
   ]
  },
  {
   "cell_type": "code",
   "execution_count": 30,
   "metadata": {
    "execution": {
     "iopub.execute_input": "2025-06-30T18:52:01.965564Z",
     "iopub.status.busy": "2025-06-30T18:52:01.965304Z",
     "iopub.status.idle": "2025-06-30T18:53:34.850313Z",
     "shell.execute_reply": "2025-06-30T18:53:34.849392Z",
     "shell.execute_reply.started": "2025-06-30T18:52:01.965544Z"
    },
    "trusted": true
   },
   "outputs": [],
   "source": [
    "# Identify numeric-looking columns in features\n",
    "X_train = X_train.apply(pd.to_numeric, errors='coerce')\n",
    "X_val   = X_val.apply(pd.to_numeric, errors='coerce')\n",
    "\n",
    "# Optionally fill missing values\n",
    "X_train.fillna(-9999, inplace=True)\n",
    "X_val.fillna(-9999, inplace=True)\n"
   ]
  },
  {
   "cell_type": "code",
   "execution_count": 31,
   "metadata": {
    "execution": {
     "iopub.execute_input": "2025-06-30T18:53:34.851906Z",
     "iopub.status.busy": "2025-06-30T18:53:34.851323Z",
     "iopub.status.idle": "2025-06-30T18:53:35.220681Z",
     "shell.execute_reply": "2025-06-30T18:53:35.219798Z",
     "shell.execute_reply.started": "2025-06-30T18:53:34.851883Z"
    },
    "trusted": true
   },
   "outputs": [],
   "source": [
    "y_train = pd.to_numeric(y_train, errors='coerce').fillna(0).astype(int)\n",
    "y_val = pd.to_numeric(y_val, errors='coerce').fillna(0).astype(int)"
   ]
  },
  {
   "cell_type": "code",
   "execution_count": 33,
   "metadata": {
    "execution": {
     "iopub.execute_input": "2025-06-30T18:53:35.221925Z",
     "iopub.status.busy": "2025-06-30T18:53:35.221629Z",
     "iopub.status.idle": "2025-06-30T18:57:26.348507Z",
     "shell.execute_reply": "2025-06-30T18:57:26.347739Z",
     "shell.execute_reply.started": "2025-06-30T18:53:35.221906Z"
    },
    "trusted": true
   },
   "outputs": [
    {
     "name": "stdout",
     "output_type": "stream",
     "text": [
      "Training until validation scores don't improve for 50 rounds\n",
      "[50]\ttraining's binary_logloss: 0.0858372\tvalid_1's binary_logloss: 0.0892651\n",
      "[100]\ttraining's binary_logloss: 0.0751991\tvalid_1's binary_logloss: 0.0813504\n",
      "[150]\ttraining's binary_logloss: 0.0691737\tvalid_1's binary_logloss: 0.0783223\n",
      "[200]\ttraining's binary_logloss: 0.0648818\tvalid_1's binary_logloss: 0.0766879\n",
      "[250]\ttraining's binary_logloss: 0.0613274\tvalid_1's binary_logloss: 0.0757092\n",
      "[300]\ttraining's binary_logloss: 0.0582119\tvalid_1's binary_logloss: 0.0750695\n",
      "[350]\ttraining's binary_logloss: 0.0554721\tvalid_1's binary_logloss: 0.0745447\n",
      "[400]\ttraining's binary_logloss: 0.0529444\tvalid_1's binary_logloss: 0.0741956\n",
      "[450]\ttraining's binary_logloss: 0.050677\tvalid_1's binary_logloss: 0.073781\n",
      "[500]\ttraining's binary_logloss: 0.0485852\tvalid_1's binary_logloss: 0.0735134\n",
      "[550]\ttraining's binary_logloss: 0.0466734\tvalid_1's binary_logloss: 0.0733082\n",
      "[600]\ttraining's binary_logloss: 0.0449595\tvalid_1's binary_logloss: 0.0730122\n",
      "[650]\ttraining's binary_logloss: 0.0433143\tvalid_1's binary_logloss: 0.0728004\n",
      "[700]\ttraining's binary_logloss: 0.0417342\tvalid_1's binary_logloss: 0.0725878\n",
      "[750]\ttraining's binary_logloss: 0.0402101\tvalid_1's binary_logloss: 0.0724244\n",
      "[800]\ttraining's binary_logloss: 0.0387748\tvalid_1's binary_logloss: 0.0723493\n",
      "[850]\ttraining's binary_logloss: 0.0373173\tvalid_1's binary_logloss: 0.0722483\n",
      "[900]\ttraining's binary_logloss: 0.036049\tvalid_1's binary_logloss: 0.0720771\n",
      "[950]\ttraining's binary_logloss: 0.0348562\tvalid_1's binary_logloss: 0.0720549\n",
      "[1000]\ttraining's binary_logloss: 0.0337097\tvalid_1's binary_logloss: 0.0720118\n",
      "Did not meet early stopping. Best iteration is:\n",
      "[998]\ttraining's binary_logloss: 0.0337465\tvalid_1's binary_logloss: 0.0720083\n"
     ]
    }
   ],
   "source": [
    "params = {\n",
    "    'objective': 'binary',\n",
    "    'metric': 'binary_logloss',\n",
    "    'boosting_type': 'gbdt',\n",
    "    'verbosity': -1,\n",
    "    'random_state': 42,\n",
    "    'learning_rate': 0.05,\n",
    "    'num_leaves': 64,\n",
    "    'feature_fraction': 0.8,\n",
    "    'bagging_fraction': 0.8,\n",
    "    'bagging_freq': 5\n",
    "}\n",
    "\n",
    "train_data = lgb.Dataset(X_train, label=y_train)\n",
    "val_data = lgb.Dataset(X_val, label=y_val)\n",
    "\n",
    "model = lgb.train(\n",
    "    params,\n",
    "    train_data,\n",
    "    valid_sets=[train_data, val_data],\n",
    "    num_boost_round=1000,\n",
    "    callbacks=[\n",
    "        lgb.early_stopping(stopping_rounds=50),\n",
    "        lgb.log_evaluation(period=50)\n",
    "    ]\n",
    ")"
   ]
  },
  {
   "cell_type": "code",
   "execution_count": 34,
   "metadata": {},
   "outputs": [
    {
     "name": "stdout",
     "output_type": "stream",
     "text": [
      "Binary Classifier MAP@7: 0.0479\n"
     ]
    }
   ],
   "source": [
    "# Step 1: Predict probabilities using your binary classifier\n",
    "y_pred = model.predict(X_val, num_iteration=model.best_iteration)\n",
    "\n",
    "# Step 2: Construct a validation DataFrame with predictions\n",
    "df_val_pred = X_val.copy()\n",
    "df_val_pred['pred'] = y_pred\n",
    "df_val_pred['clicked'] = y_val.values\n",
    "\n",
    "# Ensure customer and offer columns are present (adjust if needed)\n",
    "df_val_pred['customer_id'] = df_train.loc[X_val.index, 'id2'].values\n",
    "df_val_pred['offer_id'] = df_train.loc[X_val.index, 'id3'].values\n",
    "\n",
    "def mapk(actual, predicted, k=7):\n",
    "    return np.mean([\n",
    "        1.0 / (pred.index(a[0]) + 1) if a and a[0] in pred[:k] else 0\n",
    "        for a, pred in zip(actual, predicted)\n",
    "    ])\n",
    "\n",
    "map7_scores = []\n",
    "for cust_id, group in df_val_pred.groupby('customer_id'):\n",
    "    pred_offers = group.sort_values('pred', ascending=False)['offer_id'].tolist()\n",
    "    actual_y = group[group['clicked'] == 1]['offer_id'].tolist()\n",
    "    map7_scores.append(mapk([actual_y], [pred_offers]))\n",
    "\n",
    "map7 = np.mean(map7_scores)\n",
    "print(f\"Binary Classifier MAP@7: {map7:.4f}\")\n"
   ]
  },
  {
   "cell_type": "code",
   "execution_count": 33,
   "metadata": {
    "execution": {
     "iopub.execute_input": "2025-06-30T18:57:26.349510Z",
     "iopub.status.busy": "2025-06-30T18:57:26.349234Z",
     "iopub.status.idle": "2025-06-30T18:58:08.642315Z",
     "shell.execute_reply": "2025-06-30T18:58:08.641510Z",
     "shell.execute_reply.started": "2025-06-30T18:57:26.349486Z"
    },
    "trusted": true
   },
   "outputs": [],
   "source": [
    "df_test[features] = df_test[features].apply(pd.to_numeric, errors='coerce')\n",
    "df_test[features] = df_test[features].fillna(-9999)"
   ]
  },
  {
   "cell_type": "code",
   "execution_count": 34,
   "metadata": {
    "execution": {
     "iopub.execute_input": "2025-06-30T18:58:08.643806Z",
     "iopub.status.busy": "2025-06-30T18:58:08.643512Z",
     "iopub.status.idle": "2025-06-30T18:58:25.191578Z",
     "shell.execute_reply": "2025-06-30T18:58:25.190709Z",
     "shell.execute_reply.started": "2025-06-30T18:58:08.643784Z"
    },
    "trusted": true
   },
   "outputs": [
    {
     "name": "stderr",
     "output_type": "stream",
     "text": [
      "/tmp/ipykernel_35/1772286491.py:1: PerformanceWarning: DataFrame is highly fragmented.  This is usually the result of calling `frame.insert` many times, which has poor performance.  Consider joining all columns at once using pd.concat(axis=1) instead. To get a de-fragmented frame, use `newframe = frame.copy()`\n",
      "  df_test['click_proba'] = model.predict(df_test[features], num_iteration=model.best_iteration)\n",
      "/tmp/ipykernel_35/1772286491.py:4: PerformanceWarning: DataFrame is highly fragmented.  This is usually the result of calling `frame.insert` many times, which has poor performance.  Consider joining all columns at once using pd.concat(axis=1) instead. To get a de-fragmented frame, use `newframe = frame.copy()`\n",
      "  df_test['rank'] = df_test.groupby(['id2', 'id5'])['click_proba'].rank(method='first', ascending=False)\n"
     ]
    }
   ],
   "source": [
    "df_test['click_proba'] = model.predict(df_test[features], num_iteration=model.best_iteration)\n",
    "\n",
    "# Rank offers per (customer, date)\n",
    "df_test['rank'] = df_test.groupby(['id2', 'id5'])['click_proba'].rank(method='first', ascending=False)\n",
    "\n",
    "# Select top-7\n",
    "submission = df_test[df_test['rank'] <= 7].copy()\n",
    "\n",
    "# Format output: each row = 1 customer-date with top 7 offer ids\n",
    "final = (\n",
    "    submission\n",
    "    .sort_values(['id2', 'id5', 'rank'])\n",
    "    .groupby(['id2', 'id5'])['id3']\n",
    "    .apply(list)\n",
    "    .reset_index()\n",
    ")"
   ]
  }
 ],
 "metadata": {
  "kaggle": {
   "accelerator": "none",
   "dataSources": [
    {
     "datasetId": 7756601,
     "sourceId": 12305839,
     "sourceType": "datasetVersion"
    }
   ],
   "dockerImageVersionId": 31040,
   "isGpuEnabled": false,
   "isInternetEnabled": false,
   "language": "python",
   "sourceType": "notebook"
  },
  "kernelspec": {
   "display_name": "Python 3",
   "language": "python",
   "name": "python3"
  },
  "language_info": {
   "codemirror_mode": {
    "name": "ipython",
    "version": 3
   },
   "file_extension": ".py",
   "mimetype": "text/x-python",
   "name": "python",
   "nbconvert_exporter": "python",
   "pygments_lexer": "ipython3",
   "version": "3.12.4"
  }
 },
 "nbformat": 4,
 "nbformat_minor": 4
}
