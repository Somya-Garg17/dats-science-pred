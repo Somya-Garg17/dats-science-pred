{
 "cells": [
  {
   "cell_type": "code",
   "execution_count": 1,
   "metadata": {
    "_cell_guid": "b1076dfc-b9ad-4769-8c92-a6c4dae69d19",
    "_uuid": "8f2839f25d086af736a60e9eeb907d3b93b6e0e5",
    "execution": {
     "iopub.execute_input": "2025-07-03T19:04:52.871534Z",
     "iopub.status.busy": "2025-07-03T19:04:52.870278Z",
     "iopub.status.idle": "2025-07-03T19:05:00.648166Z",
     "shell.execute_reply": "2025-07-03T19:05:00.646864Z",
     "shell.execute_reply.started": "2025-07-03T19:04:52.871482Z"
    },
    "trusted": true
   },
   "outputs": [],
   "source": [
    "import pandas as pd\n",
    "import numpy as np\n",
    "from sklearn.impute import SimpleImputer\n",
    "from sklearn.preprocessing import OneHotEncoder, StandardScaler, OrdinalEncoder\n",
    "from sklearn.pipeline import Pipeline\n",
    "from sklearn.compose import ColumnTransformer\n",
    "from sklearn.model_selection import train_test_split\n",
    "import lightgbm as lgb\n",
    "from tqdm import tqdm"
   ]
  },
  {
   "cell_type": "code",
   "execution_count": null,
   "metadata": {
    "execution": {
     "iopub.execute_input": "2025-07-03T19:05:00.650877Z",
     "iopub.status.busy": "2025-07-03T19:05:00.650086Z",
     "iopub.status.idle": "2025-07-03T19:05:49.674515Z",
     "shell.execute_reply": "2025-07-03T19:05:49.673504Z",
     "shell.execute_reply.started": "2025-07-03T19:05:00.650845Z"
    },
    "trusted": true
   },
   "outputs": [],
   "source": [
    "# 1. Load data\n",
    "train = pd.read_parquet(\"data/train_data.parquet\")\n",
    "events = pd.read_parquet(\"data/add_event.parquet\")\n",
    "trans = pd.read_parquet(\"data/add_trans.parquet\")\n",
    "offers = pd.read_parquet(\"data/offer_metadata.parquet\")\n",
    "test = pd.read_parquet(\"data/test_data.parquet\")"
   ]
  },
  {
   "cell_type": "code",
   "execution_count": 4,
   "metadata": {},
   "outputs": [
    {
     "data": {
      "text/html": [
       "<div>\n",
       "<style scoped>\n",
       "    .dataframe tbody tr th:only-of-type {\n",
       "        vertical-align: middle;\n",
       "    }\n",
       "\n",
       "    .dataframe tbody tr th {\n",
       "        vertical-align: top;\n",
       "    }\n",
       "\n",
       "    .dataframe thead th {\n",
       "        text-align: right;\n",
       "    }\n",
       "</style>\n",
       "<table border=\"1\" class=\"dataframe\">\n",
       "  <thead>\n",
       "    <tr style=\"text-align: right;\">\n",
       "      <th></th>\n",
       "      <th>id2</th>\n",
       "      <th>id3</th>\n",
       "      <th>id6</th>\n",
       "      <th>id4</th>\n",
       "      <th>id7</th>\n",
       "    </tr>\n",
       "  </thead>\n",
       "  <tbody>\n",
       "    <tr>\n",
       "      <th>0</th>\n",
       "      <td>2431360</td>\n",
       "      <td>618619</td>\n",
       "      <td>Tiles</td>\n",
       "      <td>2023-10-22 08:08:17.768</td>\n",
       "      <td>None</td>\n",
       "    </tr>\n",
       "    <tr>\n",
       "      <th>1</th>\n",
       "      <td>2431360</td>\n",
       "      <td>363153</td>\n",
       "      <td>Tiles</td>\n",
       "      <td>2023-10-22 08:08:18.921</td>\n",
       "      <td>None</td>\n",
       "    </tr>\n",
       "    <tr>\n",
       "      <th>2</th>\n",
       "      <td>2431360</td>\n",
       "      <td>97193</td>\n",
       "      <td>Tiles</td>\n",
       "      <td>2023-10-22 08:08:17.765</td>\n",
       "      <td>None</td>\n",
       "    </tr>\n",
       "    <tr>\n",
       "      <th>3</th>\n",
       "      <td>2431360</td>\n",
       "      <td>654444</td>\n",
       "      <td>Tiles</td>\n",
       "      <td>2023-10-22 08:08:17.737</td>\n",
       "      <td>None</td>\n",
       "    </tr>\n",
       "    <tr>\n",
       "      <th>4</th>\n",
       "      <td>2431360</td>\n",
       "      <td>32325</td>\n",
       "      <td>Tiles</td>\n",
       "      <td>2023-10-22 08:08:17.812</td>\n",
       "      <td>None</td>\n",
       "    </tr>\n",
       "  </tbody>\n",
       "</table>\n",
       "</div>"
      ],
      "text/plain": [
       "       id2     id3    id6                      id4   id7\n",
       "0  2431360  618619  Tiles  2023-10-22 08:08:17.768  None\n",
       "1  2431360  363153  Tiles  2023-10-22 08:08:18.921  None\n",
       "2  2431360   97193  Tiles  2023-10-22 08:08:17.765  None\n",
       "3  2431360  654444  Tiles  2023-10-22 08:08:17.737  None\n",
       "4  2431360   32325  Tiles  2023-10-22 08:08:17.812  None"
      ]
     },
     "execution_count": 4,
     "metadata": {},
     "output_type": "execute_result"
    }
   ],
   "source": [
    "events.head()"
   ]
  },
  {
   "cell_type": "code",
   "execution_count": 5,
   "metadata": {
    "execution": {
     "iopub.execute_input": "2025-07-03T19:05:49.676220Z",
     "iopub.status.busy": "2025-07-03T19:05:49.675696Z",
     "iopub.status.idle": "2025-07-03T19:06:53.261547Z",
     "shell.execute_reply": "2025-07-03T19:06:53.260419Z",
     "shell.execute_reply.started": "2025-07-03T19:05:49.676183Z"
    },
    "trusted": true
   },
   "outputs": [],
   "source": [
    "# 2. Standardize missing markers\n",
    "for df in [train, test, events, offers]:\n",
    "    df.replace({-9999.0: pd.NA, None: pd.NA, 'NULL':pd.NA}, inplace=True)"
   ]
  },
  {
   "cell_type": "code",
   "execution_count": 6,
   "metadata": {
    "execution": {
     "iopub.execute_input": "2025-07-03T19:06:53.263032Z",
     "iopub.status.busy": "2025-07-03T19:06:53.262722Z",
     "iopub.status.idle": "2025-07-03T19:07:08.571553Z",
     "shell.execute_reply": "2025-07-03T19:07:08.570516Z",
     "shell.execute_reply.started": "2025-07-03T19:06:53.263007Z"
    },
    "trusted": true
   },
   "outputs": [],
   "source": [
    "for df in [train, test]:\n",
    "    df['id4'] = pd.to_datetime(df['id4'])\n",
    "    df['id5'] = pd.to_datetime(df['id5'], errors='coerce').dt.date\n",
    "offers['id12'] = pd.to_datetime(offers['id12'])\n",
    "offers['id13'] = pd.to_datetime(offers['id13'])\n",
    "events['id4'] = pd.to_datetime(events['id4'])\n",
    "events['id7'] = pd.to_datetime(events['id7'])\n",
    "# trans['f370'] = pd.to_datetime(trans['f370'])"
   ]
  },
  {
   "cell_type": "code",
   "execution_count": 7,
   "metadata": {
    "execution": {
     "iopub.execute_input": "2025-07-03T19:07:08.574517Z",
     "iopub.status.busy": "2025-07-03T19:07:08.573762Z",
     "iopub.status.idle": "2025-07-03T19:07:26.153454Z",
     "shell.execute_reply": "2025-07-03T19:07:26.152238Z",
     "shell.execute_reply.started": "2025-07-03T19:07:08.574487Z"
    },
    "trusted": true
   },
   "outputs": [],
   "source": [
    "# 4. Drop features with >99% missing\n",
    "missing_pct = train.isna().mean()\n",
    "drop_cols = missing_pct[missing_pct > 0.99].index\n",
    "train.drop(columns=drop_cols, inplace=True)\n",
    "test.drop(columns=[c for c in drop_cols if c in test.columns], inplace=True)"
   ]
  },
  {
   "cell_type": "code",
   "execution_count": 8,
   "metadata": {},
   "outputs": [
    {
     "data": {
      "text/html": [
       "<div>\n",
       "<style scoped>\n",
       "    .dataframe tbody tr th:only-of-type {\n",
       "        vertical-align: middle;\n",
       "    }\n",
       "\n",
       "    .dataframe tbody tr th {\n",
       "        vertical-align: top;\n",
       "    }\n",
       "\n",
       "    .dataframe thead th {\n",
       "        text-align: right;\n",
       "    }\n",
       "</style>\n",
       "<table border=\"1\" class=\"dataframe\">\n",
       "  <thead>\n",
       "    <tr style=\"text-align: right;\">\n",
       "      <th></th>\n",
       "      <th>masked_column</th>\n",
       "      <th>Description</th>\n",
       "      <th>Type</th>\n",
       "    </tr>\n",
       "  </thead>\n",
       "  <tbody>\n",
       "    <tr>\n",
       "      <th>0</th>\n",
       "      <td>id1</td>\n",
       "      <td>Primary Key(masked)</td>\n",
       "      <td>Key</td>\n",
       "    </tr>\n",
       "    <tr>\n",
       "      <th>1</th>\n",
       "      <td>id2</td>\n",
       "      <td>Customer ID (masked)</td>\n",
       "      <td>-</td>\n",
       "    </tr>\n",
       "    <tr>\n",
       "      <th>2</th>\n",
       "      <td>id3</td>\n",
       "      <td>Offer ID</td>\n",
       "      <td>Categorical</td>\n",
       "    </tr>\n",
       "    <tr>\n",
       "      <th>3</th>\n",
       "      <td>id4</td>\n",
       "      <td>Event timestamp</td>\n",
       "      <td>Numerical</td>\n",
       "    </tr>\n",
       "    <tr>\n",
       "      <th>4</th>\n",
       "      <td>id5</td>\n",
       "      <td>Event Date</td>\n",
       "      <td>Numerical</td>\n",
       "    </tr>\n",
       "    <tr>\n",
       "      <th>...</th>\n",
       "      <td>...</td>\n",
       "      <td>...</td>\n",
       "      <td>...</td>\n",
       "    </tr>\n",
       "    <tr>\n",
       "      <th>367</th>\n",
       "      <td>f362</td>\n",
       "      <td>Total clicks on the incoming offer's industry ...</td>\n",
       "      <td>Numerical</td>\n",
       "    </tr>\n",
       "    <tr>\n",
       "      <th>368</th>\n",
       "      <td>f363</td>\n",
       "      <td>CTR on the incoming offer's industry for the g...</td>\n",
       "      <td>Numerical</td>\n",
       "    </tr>\n",
       "    <tr>\n",
       "      <th>369</th>\n",
       "      <td>f364</td>\n",
       "      <td>CM’s past 6 moth impressions on relevant offers</td>\n",
       "      <td>Numerical</td>\n",
       "    </tr>\n",
       "    <tr>\n",
       "      <th>370</th>\n",
       "      <td>f365</td>\n",
       "      <td>CM’s past 6 moth clicks on relevant offers</td>\n",
       "      <td>Numerical</td>\n",
       "    </tr>\n",
       "    <tr>\n",
       "      <th>371</th>\n",
       "      <td>f366</td>\n",
       "      <td>CM’s past 6 moth CTR on relevant offers</td>\n",
       "      <td>Numerical</td>\n",
       "    </tr>\n",
       "  </tbody>\n",
       "</table>\n",
       "<p>372 rows × 3 columns</p>\n",
       "</div>"
      ],
      "text/plain": [
       "    masked_column                                        Description  \\\n",
       "0             id1                                Primary Key(masked)   \n",
       "1             id2                               Customer ID (masked)   \n",
       "2             id3                                           Offer ID   \n",
       "3             id4                                    Event timestamp   \n",
       "4             id5                                         Event Date   \n",
       "..            ...                                                ...   \n",
       "367          f362  Total clicks on the incoming offer's industry ...   \n",
       "368          f363  CTR on the incoming offer's industry for the g...   \n",
       "369          f364    CM’s past 6 moth impressions on relevant offers   \n",
       "370          f365         CM’s past 6 moth clicks on relevant offers   \n",
       "371          f366            CM’s past 6 moth CTR on relevant offers   \n",
       "\n",
       "            Type  \n",
       "0            Key  \n",
       "1              -  \n",
       "2    Categorical  \n",
       "3      Numerical  \n",
       "4      Numerical  \n",
       "..           ...  \n",
       "367    Numerical  \n",
       "368    Numerical  \n",
       "369    Numerical  \n",
       "370    Numerical  \n",
       "371    Numerical  \n",
       "\n",
       "[372 rows x 3 columns]"
      ]
     },
     "execution_count": 8,
     "metadata": {},
     "output_type": "execute_result"
    }
   ],
   "source": [
    "dict_df = pd.read_csv(r'data/data_dictionary.csv')\n",
    "dict_df"
   ]
  },
  {
   "cell_type": "code",
   "execution_count": 9,
   "metadata": {},
   "outputs": [
    {
     "name": "stdout",
     "output_type": "stream",
     "text": [
      "Categorical: ['id3', 'f42', 'f48', 'f50', 'f52', 'f53', 'f54', 'f55', 'f56', 'f57', 'f349', 'f354']\n",
      "Numerical: ['id5', 'f1', 'f2', 'f3', 'f4', 'f5', 'f6', 'f7', 'f8', 'f9', 'f10', 'f11', 'f12', 'f22', 'f23', 'f24', 'f25', 'f26', 'f27', 'f28', 'f29', 'f30', 'f31', 'f32', 'f33', 'f35', 'f36', 'f38', 'f39', 'f40', 'f41', 'f43', 'f44', 'f45', 'f46', 'f47', 'f49', 'f51', 'f58', 'f59', 'f60', 'f61', 'f62', 'f63', 'f64', 'f65', 'f66', 'f67', 'f68', 'f69', 'f70', 'f71', 'f72', 'f73', 'f74', 'f75', 'f76', 'f77', 'f78', 'f79', 'f81', 'f82', 'f83', 'f85', 'f86', 'f87', 'f88', 'f89', 'f90', 'f91', 'f92', 'f93', 'f94', 'f95', 'f96', 'f97', 'f98', 'f99', 'f100', 'f101', 'f102', 'f103', 'f104', 'f105', 'f106', 'f107', 'f108', 'f109', 'f110', 'f111', 'f113', 'f114', 'f115', 'f116', 'f117', 'f118', 'f119', 'f121', 'f123', 'f124', 'f125', 'f126', 'f127', 'f128', 'f129', 'f130', 'f131', 'f132', 'f133', 'f134', 'f137', 'f138', 'f139', 'f140', 'f141', 'f142', 'f143', 'f144', 'f145', 'f146', 'f147', 'f148', 'f149', 'f150', 'f151', 'f152', 'f153', 'f154', 'f155', 'f156', 'f157', 'f158', 'f159', 'f160', 'f161', 'f162', 'f163', 'f164', 'f165', 'f166', 'f167', 'f168', 'f169', 'f170', 'f171', 'f172', 'f173', 'f174', 'f175', 'f176', 'f177', 'f178', 'f179', 'f180', 'f181', 'f182', 'f183', 'f184', 'f185', 'f186', 'f187', 'f188', 'f190', 'f191', 'f192', 'f193', 'f194', 'f195', 'f196', 'f197', 'f198', 'f199', 'f200', 'f201', 'f202', 'f203', 'f204', 'f205', 'f206', 'f207', 'f208', 'f209', 'f210', 'f211', 'f212', 'f213', 'f214', 'f215', 'f216', 'f217', 'f219', 'f220', 'f221', 'f222', 'f223', 'f224', 'f225', 'f310', 'f311', 'f312', 'f313', 'f314', 'f315', 'f316', 'f317', 'f318', 'f319', 'f320', 'f321', 'f322', 'f323', 'f324', 'f325', 'f326', 'f327', 'f328', 'f329', 'f330', 'f331', 'f332', 'f333', 'f334', 'f335', 'f336', 'f337', 'f338', 'f339', 'f340', 'f341', 'f342', 'f343', 'f344', 'f345', 'f346', 'f347', 'f348', 'f350', 'f351', 'f352', 'f353', 'f355', 'f356', 'f357', 'f358', 'f359', 'f361', 'f362', 'f363', 'f364', 'f365', 'f366']\n",
      "One hot encoded: ['f226', 'f227', 'f228', 'f229', 'f230', 'f231', 'f232', 'f233', 'f234', 'f235', 'f236', 'f237', 'f238', 'f239', 'f240', 'f241', 'f242', 'f243', 'f244', 'f245', 'f246', 'f247', 'f248', 'f249', 'f250', 'f251', 'f252', 'f253', 'f254', 'f255', 'f256', 'f257', 'f258', 'f259', 'f260', 'f261', 'f262', 'f263', 'f264', 'f265', 'f266', 'f267', 'f268', 'f269', 'f270', 'f271', 'f272', 'f273', 'f274', 'f275', 'f276', 'f277', 'f278', 'f279', 'f280', 'f281', 'f282', 'f283', 'f284', 'f285', 'f286', 'f287', 'f288', 'f289', 'f290', 'f291', 'f292', 'f293', 'f294', 'f295', 'f296', 'f297', 'f298', 'f299', 'f300', 'f301', 'f302', 'f303', 'f304', 'f305', 'f306', 'f307', 'f308', 'f309']\n"
     ]
    }
   ],
   "source": [
    "# Make lists of columns by type if present in train\n",
    "cat_cols = dict_df[dict_df['Type'] == 'Categorical']['masked_column']\n",
    "num_cols = dict_df[dict_df['Type'] == 'Numerical']['masked_column']\n",
    "ohe_cols = dict_df[dict_df['Type'] == 'One hot encoded']['masked_column']\n",
    "\n",
    "# Keep only those present in train\n",
    "cat_cols = [col for col in cat_cols if col in train.columns and train[col].dtype == 'object']\n",
    "num_cols = [col for col in num_cols if col in train.columns and train[col].dtype == 'object']\n",
    "ohe_cols = [col for col in ohe_cols if col in train.columns and train[col].dtype == 'object']\n",
    "\n",
    "print(\"Categorical:\", cat_cols)\n",
    "print(\"Numerical:\", num_cols)\n",
    "print(\"One hot encoded:\",ohe_cols)"
   ]
  },
  {
   "cell_type": "code",
   "execution_count": 10,
   "metadata": {},
   "outputs": [
    {
     "data": {
      "text/plain": [
       "array(['0.0', <NA>], dtype=object)"
      ]
     },
     "execution_count": 10,
     "metadata": {},
     "output_type": "execute_result"
    }
   ],
   "source": [
    "train['f226'].unique()"
   ]
  },
  {
   "cell_type": "code",
   "execution_count": 20,
   "metadata": {},
   "outputs": [
    {
     "name": "stderr",
     "output_type": "stream",
     "text": [
      "Casting categorical columns: 100%|██████████| 12/12 [00:01<00:00, 10.02it/s]\n",
      "Casting numerical columns: 100%|██████████| 251/251 [00:01<00:00, 154.76it/s]\n",
      "Cleaning and casting one-hot encoded columns: 100%|██████████| 84/84 [01:10<00:00,  1.19it/s]\n"
     ]
    }
   ],
   "source": [
    "for col in tqdm(cat_cols, desc=\"Casting categorical columns\"):\n",
    "    train[col] = train[col].astype('category')\n",
    "    test[col] = test[col].astype('category')\n",
    "\n",
    "for col in tqdm(num_cols, desc=\"Casting numerical columns\"):\n",
    "    train[col] = pd.to_numeric(train[col], errors='coerce').astype('float32')\n",
    "    test[col] = pd.to_numeric(test[col], errors='coerce').astype('float32')\n",
    "\n",
    "for col in tqdm(ohe_cols, desc=\"Cleaning and casting one-hot encoded columns\"):\n",
    "    train[col] = train[col].replace({'1.0': 1, '0.0': 0, 0.0: 0, 1.0: 1})\n",
    "    test[col] = test[col].replace({'1.0': 1, '0.0': 0, 0.0: 0, 1.0: 1})\n",
    "    try :\n",
    "        train[col] = pd.to_numeric(train[col], errors='coerce').where(lambda x: x.isin([0, 1]), pd.NA).astype('Int8')\n",
    "    except :\n",
    "        print(col)\n",
    "    test[col] = pd.to_numeric(test[col], errors='coerce').where(lambda x: x.isin([0, 1]), pd.NA).astype('Int8')"
   ]
  },
  {
   "cell_type": "code",
   "execution_count": 12,
   "metadata": {
    "execution": {
     "iopub.execute_input": "2025-07-03T19:07:26.155002Z",
     "iopub.status.busy": "2025-07-03T19:07:26.154665Z",
     "iopub.status.idle": "2025-07-03T19:09:49.062735Z",
     "shell.execute_reply": "2025-07-03T19:09:49.061530Z",
     "shell.execute_reply.started": "2025-07-03T19:07:26.154961Z"
    },
    "trusted": true
   },
   "outputs": [],
   "source": [
    "def feature_engineer(df, events, offers,trans):\n",
    "    ctr = events.assign(clicked=events['id7'].notna().astype(int))\n",
    "    df = df.copy()\n",
    "\n",
    "    # unify keys\n",
    "    df['id3'] = df['id3'].astype(str)\n",
    "    ctr['id3'] = ctr['id3'].astype(str)\n",
    "    offers_loc = offers.copy()\n",
    "    offers_loc['id3'] = offers_loc['id3'].astype(str)\n",
    "\n",
    "    # 1) Existing CTR Features (Offer-level only)\n",
    "    o_imp = ctr.groupby('id3').size().rename('imps')\n",
    "    o_click = ctr[ctr.clicked == 1].groupby('id3').size().rename('clicks')\n",
    "    offer_stats = (\n",
    "        pd.concat([o_imp, o_click], axis=1)\n",
    "          .fillna(0)\n",
    "          .assign(ctr=lambda x: x.clicks / x.imps)\n",
    "          .reset_index()\n",
    "    )\n",
    "    df = df.merge(offer_stats[['id3', 'ctr']], on='id3', how='left')\n",
    "\n",
    "    stats = offer_stats.copy()\n",
    "    a, b = 1, 1\n",
    "    stats['ctr_smooth'] = (stats.clicks + a) / (stats.imps + a + b)\n",
    "    df = df.merge(stats[['id3', 'ctr_smooth']], on='id3', how='left')\n",
    "\n",
    "    # 2) Offer Metadata\n",
    "    df = df.merge(\n",
    "        offers_loc[['id3', 'f375', 'f376', 'id12', 'id13', 'id11', 'id10']],\n",
    "        on='id3', how='left'\n",
    "    )\n",
    "\n",
    "    # 3) Popularity in last 30 days (offer-level only)\n",
    "    last_date = df['id4'].max()\n",
    "    cutoff_pop = last_date - pd.Timedelta(days=30)\n",
    "    recent_imps = events[events['id4'] >= cutoff_pop].astype({'id3': str})\n",
    "    total_recent = len(recent_imps)\n",
    "    pop30 = recent_imps.groupby('id3').size().rename('offer_imps_30d')\n",
    "    df['offer_popularity_30d'] = (\n",
    "        df['id3']\n",
    "          .map(pop30.div(total_recent))\n",
    "          .fillna(0)\n",
    "    )\n",
    "\n",
    "    # 4) Temporal & Sequence Features\n",
    "    df['hour'] = df['id4'].dt.hour\n",
    "    df['dow'] = df['id4'].dt.dayofweek\n",
    "    df = df.sort_values(['id2', 'id4'])\n",
    "    df['prev_time'] = df.groupby('id2')['id4'].shift()\n",
    "    df['secs_prev'] = (\n",
    "        df['id4'] - df['prev_time']\n",
    "    ).dt.total_seconds().fillna(-1)\n",
    "    df['days_to_exp'] = (\n",
    "        df['id13'] - df['id4']\n",
    "    ).dt.days.clip(lower=0)\n",
    "\n",
    "    # 5) Frequency & Brand Indicator\n",
    "    df['ind_match'] = 0\n",
    "    df['brand_freq'] = df['id11'].map(\n",
    "        df['id11'].value_counts(normalize=True)\n",
    "    )\n",
    "        # --- 6) Event-driven offer trends ---\n",
    "\n",
    "    # Recent click rate (7-day window)\n",
    "    cutoff_7d = last_date - pd.Timedelta(days=7)\n",
    "    recent_events = events[events['id4'] >= cutoff_7d].copy()\n",
    "    recent_events['id3'] = recent_events['id3'].astype(str)\n",
    "    recent_events['clicked'] = recent_events['id7'].notna().astype(int)\n",
    "\n",
    "    recent_clicks = recent_events.groupby('id3')['clicked'].agg(['sum', 'count']).rename(\n",
    "        columns={'sum': 'recent_clicks', 'count': 'recent_impressions'}\n",
    "    )\n",
    "    recent_clicks['offer_recent_click_rate'] = recent_clicks['recent_clicks'] / recent_clicks['recent_impressions']\n",
    "    df = df.merge(recent_clicks[['offer_recent_click_rate']], on='id3', how='left')\n",
    "\n",
    "    # Median hour of clicks per offer\n",
    "    events['click_hour'] = events['id7'].dt.hour\n",
    "    click_events = events[events['id7'].notna()].copy()\n",
    "    median_click_hour = click_events.groupby('id3')['click_hour'].median().rename('offer_median_click_hour')\n",
    "    df = df.merge(median_click_hour, on='id3', how='left')\n",
    "\n",
    "    # Total impressions & clicks per offer\n",
    "    click_count = click_events['id3'].value_counts().rename('offer_click_count')\n",
    "    imp_count = events['id3'].value_counts().rename('offer_impression_count')\n",
    "    df = df.merge(imp_count, left_on='id3', right_index=True, how='left')\n",
    "    df = df.merge(click_count, left_on='id3', right_index=True, how='left')\n",
    "\n",
    "    # CTR by offer + day of week\n",
    "    events['dow'] = events['id4'].dt.dayofweek\n",
    "    offer_dow_ctr = (\n",
    "        events.assign(clicked=events['id7'].notna().astype(int))\n",
    "              .groupby(['id3', 'dow'])['clicked']\n",
    "              .agg(['sum', 'count'])\n",
    "              .reset_index()\n",
    "    )\n",
    "    offer_dow_ctr['click_rate_by_dayofweek'] = offer_dow_ctr['sum'] / offer_dow_ctr['count']\n",
    "    df = df.merge(\n",
    "        offer_dow_ctr[['id3', 'dow', 'click_rate_by_dayofweek']],\n",
    "        on=['id3', 'dow'], how='left'\n",
    "    )\n",
    "    ind_stats = (\n",
    "        trans\n",
    "        .copy()\n",
    "        .astype({\"id8\": str})\n",
    "        .groupby('id8')['f367']\n",
    "        .agg(industry_tx_sum='sum', industry_tx_count='count')\n",
    "        .reset_index()\n",
    "    )\n",
    "    # Merge these stats into the offers table by id8\n",
    "    offers_loc = offers.copy()\n",
    "    offers_loc['id8'] = offers_loc['id8'].astype(str)\n",
    "    offers_ind = offers_loc.merge(\n",
    "        ind_stats,\n",
    "        on='id8', how='left'\n",
    "    )\n",
    "    # Bring enriched offer-level transaction features into df via id3\n",
    "    df = df.merge(\n",
    "        offers_ind[['id3','industry_tx_sum','industry_tx_count']].astype({'id3': str}),\n",
    "        on='id3', how='left'\n",
    "    )\n",
    "    return df\n",
    "\n",
    "train = feature_engineer(train, events, offers,trans)\n",
    "test = feature_engineer(test, events, offers,trans)"
   ]
  },
  {
   "cell_type": "code",
   "execution_count": 13,
   "metadata": {},
   "outputs": [
    {
     "data": {
      "text/plain": [
       "<IntegerArray>\n",
       "[0, 1, <NA>]\n",
       "Length: 3, dtype: Int8"
      ]
     },
     "execution_count": 13,
     "metadata": {},
     "output_type": "execute_result"
    }
   ],
   "source": [
    "train['f227'].unique()"
   ]
  },
  {
   "cell_type": "code",
   "execution_count": 14,
   "metadata": {},
   "outputs": [
    {
     "data": {
      "text/html": [
       "<div>\n",
       "<style scoped>\n",
       "    .dataframe tbody tr th:only-of-type {\n",
       "        vertical-align: middle;\n",
       "    }\n",
       "\n",
       "    .dataframe tbody tr th {\n",
       "        vertical-align: top;\n",
       "    }\n",
       "\n",
       "    .dataframe thead th {\n",
       "        text-align: right;\n",
       "    }\n",
       "</style>\n",
       "<table border=\"1\" class=\"dataframe\">\n",
       "  <thead>\n",
       "    <tr style=\"text-align: right;\">\n",
       "      <th></th>\n",
       "      <th>id3</th>\n",
       "      <th>id9</th>\n",
       "      <th>f375</th>\n",
       "      <th>f376</th>\n",
       "      <th>f377</th>\n",
       "      <th>id10</th>\n",
       "      <th>id11</th>\n",
       "      <th>f378</th>\n",
       "      <th>f374</th>\n",
       "      <th>id8</th>\n",
       "      <th>id12</th>\n",
       "      <th>id13</th>\n",
       "    </tr>\n",
       "  </thead>\n",
       "  <tbody>\n",
       "    <tr>\n",
       "      <th>0</th>\n",
       "      <td>70687</td>\n",
       "      <td>FO5O</td>\n",
       "      <td>2</td>\n",
       "      <td>5.0</td>\n",
       "      <td>&lt;NA&gt;</td>\n",
       "      <td>1</td>\n",
       "      <td>&lt;NA&gt;</td>\n",
       "      <td>N</td>\n",
       "      <td>&lt;NA&gt;</td>\n",
       "      <td>&lt;NA&gt;</td>\n",
       "      <td>2018-01-01 00:00:00</td>\n",
       "      <td>2099-12-31 23:59:59</td>\n",
       "    </tr>\n",
       "    <tr>\n",
       "      <th>1</th>\n",
       "      <td>900002526</td>\n",
       "      <td>UGE</td>\n",
       "      <td>2</td>\n",
       "      <td>100.0</td>\n",
       "      <td>&lt;NA&gt;</td>\n",
       "      <td>1</td>\n",
       "      <td>&lt;NA&gt;</td>\n",
       "      <td>N</td>\n",
       "      <td>&lt;NA&gt;</td>\n",
       "      <td>&lt;NA&gt;</td>\n",
       "      <td>2014-10-20 00:00:00</td>\n",
       "      <td>2099-12-31 23:59:59</td>\n",
       "    </tr>\n",
       "    <tr>\n",
       "      <th>2</th>\n",
       "      <td>900002864</td>\n",
       "      <td>UTP</td>\n",
       "      <td>1</td>\n",
       "      <td>100.0</td>\n",
       "      <td>&lt;NA&gt;</td>\n",
       "      <td>1</td>\n",
       "      <td>&lt;NA&gt;</td>\n",
       "      <td>N</td>\n",
       "      <td>&lt;NA&gt;</td>\n",
       "      <td>&lt;NA&gt;</td>\n",
       "      <td>2016-07-19 00:00:00</td>\n",
       "      <td>2099-12-31 23:59:59</td>\n",
       "    </tr>\n",
       "    <tr>\n",
       "      <th>3</th>\n",
       "      <td>19508</td>\n",
       "      <td>o</td>\n",
       "      <td>2</td>\n",
       "      <td>NaN</td>\n",
       "      <td>&lt;NA&gt;</td>\n",
       "      <td>1</td>\n",
       "      <td>&lt;NA&gt;</td>\n",
       "      <td>N</td>\n",
       "      <td>&lt;NA&gt;</td>\n",
       "      <td>&lt;NA&gt;</td>\n",
       "      <td>2019-06-02 17:00:00</td>\n",
       "      <td>2028-12-31 16:59:59</td>\n",
       "    </tr>\n",
       "    <tr>\n",
       "      <th>4</th>\n",
       "      <td>35903</td>\n",
       "      <td>o</td>\n",
       "      <td>2</td>\n",
       "      <td>NaN</td>\n",
       "      <td>&lt;NA&gt;</td>\n",
       "      <td>1</td>\n",
       "      <td>&lt;NA&gt;</td>\n",
       "      <td>N</td>\n",
       "      <td>&lt;NA&gt;</td>\n",
       "      <td>&lt;NA&gt;</td>\n",
       "      <td>2019-06-02 17:00:00</td>\n",
       "      <td>2028-12-31 16:59:59</td>\n",
       "    </tr>\n",
       "  </tbody>\n",
       "</table>\n",
       "</div>"
      ],
      "text/plain": [
       "         id3   id9  f375   f376  f377 id10  id11 f378  f374   id8  \\\n",
       "0      70687  FO5O     2    5.0  <NA>    1  <NA>    N  <NA>  <NA>   \n",
       "1  900002526   UGE     2  100.0  <NA>    1  <NA>    N  <NA>  <NA>   \n",
       "2  900002864   UTP     1  100.0  <NA>    1  <NA>    N  <NA>  <NA>   \n",
       "3      19508     o     2    NaN  <NA>    1  <NA>    N  <NA>  <NA>   \n",
       "4      35903     o     2    NaN  <NA>    1  <NA>    N  <NA>  <NA>   \n",
       "\n",
       "                 id12                id13  \n",
       "0 2018-01-01 00:00:00 2099-12-31 23:59:59  \n",
       "1 2014-10-20 00:00:00 2099-12-31 23:59:59  \n",
       "2 2016-07-19 00:00:00 2099-12-31 23:59:59  \n",
       "3 2019-06-02 17:00:00 2028-12-31 16:59:59  \n",
       "4 2019-06-02 17:00:00 2028-12-31 16:59:59  "
      ]
     },
     "execution_count": 14,
     "metadata": {},
     "output_type": "execute_result"
    }
   ],
   "source": [
    "offers.head()"
   ]
  },
  {
   "cell_type": "code",
   "execution_count": 15,
   "metadata": {},
   "outputs": [
    {
     "name": "stdout",
     "output_type": "stream",
     "text": [
      "<class 'pandas.core.frame.DataFrame'>\n",
      "RangeIndex: 770164 entries, 0 to 770163\n",
      "Columns: 375 entries, id1 to industry_tx_count\n",
      "dtypes: Int8(84), category(11), datetime64[ns](4), float32(251), float64(14), int32(2), int64(2), object(7)\n",
      "memory usage: 1.0+ GB\n"
     ]
    }
   ],
   "source": [
    "train.info()"
   ]
  },
  {
   "cell_type": "code",
   "execution_count": 18,
   "metadata": {
    "execution": {
     "iopub.execute_input": "2025-07-03T19:09:49.064323Z",
     "iopub.status.busy": "2025-07-03T19:09:49.063849Z",
     "iopub.status.idle": "2025-07-03T19:09:55.098385Z",
     "shell.execute_reply": "2025-07-03T19:09:55.097478Z",
     "shell.execute_reply.started": "2025-07-03T19:09:49.064243Z"
    },
    "trusted": true
   },
   "outputs": [
    {
     "name": "stderr",
     "output_type": "stream",
     "text": [
      "Fitting and transforming datasets:   0%|          | 0/2 [00:00<?, ?it/s]c:\\Users\\91820\\AppData\\Local\\Programs\\Python\\Python312\\Lib\\site-packages\\sklearn\\impute\\_base.py:597: UserWarning: Skipping features without any observed values: ['brand_freq' 'id5']. At least one non-missing value is needed for imputation with strategy='median'.\n",
      "  warnings.warn(\n",
      "Fitting and transforming datasets:  50%|█████     | 1/2 [01:10<01:10, 70.58s/it]c:\\Users\\91820\\AppData\\Local\\Programs\\Python\\Python312\\Lib\\site-packages\\sklearn\\impute\\_base.py:597: UserWarning: Skipping features without any observed values: ['brand_freq' 'id5']. At least one non-missing value is needed for imputation with strategy='median'.\n",
      "  warnings.warn(\n",
      "Fitting and transforming datasets: 100%|██████████| 2/2 [01:21<00:00, 40.83s/it]\n"
     ]
    }
   ],
   "source": [
    "# 6. Define features\n",
    "num_features = [\n",
    "    'ctr', 'ctr_smooth', 'secs_prev', 'days_to_exp',\n",
    "    'brand_freq', 'offer_popularity_30d',\n",
    "    'offer_recent_click_rate', 'offer_median_click_hour',\n",
    "    'offer_impression_count', 'offer_click_count',\n",
    "    'click_rate_by_dayofweek' , 'industry_tx_sum',      \n",
    "    'industry_tx_count'\n",
    "]\n",
    "cat_ohe = ['f375','f376','hour','dow']\n",
    "cat_ord = ['id11']\n",
    "num_features += num_cols\n",
    "cat_ohe += ohe_cols\n",
    "cat_ord += cat_cols\n",
    "\n",
    "# Cast categorical features to string\n",
    "for col in cat_ohe + cat_ord:\n",
    "    train[col] = train[col].astype(str)\n",
    "    test[col] = test[col].astype(str)\n",
    "\n",
    "# 7. Build preprocessing pipeline\n",
    "num_pipeline = Pipeline([\n",
    "    ('imputer', SimpleImputer(strategy='median')),\n",
    "    ('scaler', StandardScaler())\n",
    "])\n",
    "cat_pipeline = Pipeline([\n",
    "    ('imputer', SimpleImputer(strategy='constant', fill_value=np.nan)),\n",
    "    ('onehot', OneHotEncoder(handle_unknown='ignore'))\n",
    "])\n",
    "ord_pipeline = Pipeline([\n",
    "    ('imputer', SimpleImputer(strategy='constant', fill_value=np.nan)),\n",
    "    ('ord', OrdinalEncoder(handle_unknown='use_encoded_value', unknown_value=np.nan))\n",
    "])\n",
    "\n",
    "preprocessor = ColumnTransformer([\n",
    "    ('num', num_pipeline, num_features),\n",
    "    ('ohe', cat_pipeline, cat_ohe),\n",
    "    ('ord', ord_pipeline, cat_ord)\n",
    "], remainder='drop')\n",
    "\n",
    "# Remove duplicates while preserving order\n",
    "all_features = []\n",
    "for col in num_features + cat_ohe + cat_ord:\n",
    "    if col not in all_features:\n",
    "        all_features.append(col)\n",
    "\n",
    "with tqdm(total=2, desc=\"Fitting and transforming datasets\") as pbar:\n",
    "    X = preprocessor.fit_transform(train[all_features])\n",
    "    pbar.update(1)\n",
    "    X_test = preprocessor.transform(test[all_features])\n",
    "    pbar.update(1)\n",
    "y = train['y'].values"
   ]
  },
  {
   "cell_type": "code",
   "execution_count": 19,
   "metadata": {},
   "outputs": [
    {
     "name": "stdout",
     "output_type": "stream",
     "text": [
      "<class 'pandas.core.frame.DataFrame'>\n",
      "RangeIndex: 770164 entries, 0 to 770163\n",
      "Columns: 375 entries, id1 to industry_tx_count\n",
      "dtypes: datetime64[ns](4), float32(251), float64(12), int64(2), object(106)\n",
      "memory usage: 1.4+ GB\n"
     ]
    }
   ],
   "source": [
    "train.info()"
   ]
  },
  {
   "cell_type": "code",
   "execution_count": null,
   "metadata": {},
   "outputs": [],
   "source": [
    "# def get_feature_indices(preprocessor, feature_group_name):\n",
    "#     \"\"\"\n",
    "#     Returns the indices of the transformed columns for a given transformer name.\n",
    "#     \"\"\"\n",
    "#     current_index = 0\n",
    "#     feature_indices = {}\n",
    "\n",
    "#     for name, transformer, columns in preprocessor.transformers_:\n",
    "#         if name == feature_group_name:\n",
    "#             if hasattr(transformer, 'get_feature_names_out'):\n",
    "#                 # Handle pipelines\n",
    "#                 names = transformer.get_feature_names_out()\n",
    "#             else:\n",
    "#                 names = columns\n",
    "#             n_cols = len(preprocessor.named_transformers_[name].transform(np.zeros((1, len(columns)))).flatten())\n",
    "#             feature_indices[name] = list(range(current_index, current_index + n_cols))\n",
    "#             break\n",
    "#         else:\n",
    "#             if hasattr(preprocessor.named_transformers_[name], 'transform'):\n",
    "#                 transformed = preprocessor.named_transformers_[name].transform(\n",
    "#                     np.zeros((1, len(columns)))\n",
    "#                 )\n",
    "#                 n_cols = transformed.shape[1]\n",
    "#                 current_index += n_cols\n",
    "\n",
    "#     return feature_indices.get(feature_group_name, [])\n"
   ]
  },
  {
   "cell_type": "code",
   "execution_count": null,
   "metadata": {},
   "outputs": [],
   "source": [
    "try:\n",
    "    feat_names = preprocessor.get_feature_names_out()\n",
    "except:\n",
    "    num_names = num_features\n",
    "    ohe = preprocessor.named_transformers_['ohe']['onehot']\n",
    "    ohe_cols = ohe.get_feature_names_out(cat_ohe)\n",
    "    ord_cols = cat_ord\n",
    "    feat_names = np.concatenate([num_names, ohe_cols, ord_cols])\n",
    "\n",
    "# 2. get importances and pair\n",
    "# importances = model.feature_importance(importance_type='gain')\n",
    "# feat_imp = pd.DataFrame({\n",
    "#     'feature': feat_names,\n",
    "#     'importance': importances\n",
    "# })\n",
    "\n",
    "# # 3. sort and take top 50\n",
    "# top50 = feat_imp.sort_values('importance', ascending=False).head(50)\n",
    "\n",
    "# # 4. print them nicely\n",
    "# print(\"Top 50 features by importance:\")\n",
    "# for i, (f, imp) in enumerate(zip(top50['feature'], top50['importance']), 1):\n",
    "#     print(f\"{i:2d}. {f:30s} {imp:.1f}\")"
   ]
  },
  {
   "cell_type": "code",
   "execution_count": 26,
   "metadata": {
    "execution": {
     "iopub.execute_input": "2025-07-03T19:09:55.099621Z",
     "iopub.status.busy": "2025-07-03T19:09:55.099295Z",
     "iopub.status.idle": "2025-07-03T19:09:55.302828Z",
     "shell.execute_reply": "2025-07-03T19:09:55.301976Z",
     "shell.execute_reply.started": "2025-07-03T19:09:55.099591Z"
    },
    "trusted": true
   },
   "outputs": [],
   "source": [
    "# 8. Split and group\n",
    "split_cut = train['id4'].quantile(0.8)\n",
    "mask_val = train['id4'] > split_cut\n",
    "mask_val_np = mask_val.to_numpy()  # 🛠️ Convert to NumPy array for sparse matrix indexing\n",
    "\n",
    "X_trn, y_trn = X[~mask_val_np], y[~mask_val_np]\n",
    "X_val, y_val = X[mask_val_np], y[mask_val_np]\n",
    "\n",
    "id2_trn = train.loc[~mask_val, 'id2'].astype(str)\n",
    "id2_val = train.loc[mask_val, 'id2'].astype(str)\n",
    "group_trn = id2_trn.value_counts().sort_index().values\n",
    "group_val = id2_val.value_counts().sort_index().values"
   ]
  },
  {
   "cell_type": "code",
   "execution_count": null,
   "metadata": {},
   "outputs": [],
   "source": []
  },
  {
   "cell_type": "code",
   "execution_count": null,
   "metadata": {},
   "outputs": [],
   "source": [
    "# buyers_mask = (y_trn >= 1)\n",
    "# buyers_id2 = set(id2_trn[buyers_mask])\n",
    "\n",
    "# # Keep only rows for customers who bought something\n",
    "# keep_mask = id2_trn.isin(buyers_id2).to_numpy()\n",
    "\n",
    "# # Apply mask to training data\n",
    "# X_trn = X_trn[keep_mask]\n",
    "# y_trn = y_trn[keep_mask]\n",
    "# id2_trn = id2_trn[keep_mask]\n",
    "\n",
    "# # 📦 Compute group sizes for ranking models\n",
    "# group_trn = id2_trn.value_counts().sort_index().values\n",
    "# group_val = id2_val.value_counts().sort_index().values"
   ]
  },
  {
   "cell_type": "code",
   "execution_count": 89,
   "metadata": {},
   "outputs": [
    {
     "data": {
      "text/plain": [
       "array([], shape=(0, 538), dtype=float64)"
      ]
     },
     "execution_count": 89,
     "metadata": {},
     "output_type": "execute_result"
    }
   ],
   "source": [
    "X_trn"
   ]
  },
  {
   "cell_type": "code",
   "execution_count": 27,
   "metadata": {
    "execution": {
     "iopub.execute_input": "2025-07-03T19:09:55.304088Z",
     "iopub.status.busy": "2025-07-03T19:09:55.303743Z",
     "iopub.status.idle": "2025-07-03T19:10:12.670324Z",
     "shell.execute_reply": "2025-07-03T19:10:12.668241Z",
     "shell.execute_reply.started": "2025-07-03T19:09:55.304033Z"
    },
    "trusted": true
   },
   "outputs": [
    {
     "name": "stdout",
     "output_type": "stream",
     "text": [
      "Training until validation scores don't improve for 50 rounds\n",
      "[100]\ttrain's map@7: 0.958997\tvalid's map@7: 0.959798\n",
      "[200]\ttrain's map@7: 0.960521\tvalid's map@7: 0.961066\n",
      "Early stopping, best iteration is:\n",
      "[211]\ttrain's map@7: 0.960711\tvalid's map@7: 0.961297\n"
     ]
    }
   ],
   "source": [
    "from lightgbm import early_stopping, log_evaluation\n",
    "\n",
    "# 9. LightGBM ranking (MAP@7) with callbacks for early stopping & logging\n",
    "train_set = lgb.Dataset(X_trn, label=y_trn, group=group_trn)\n",
    "val_set   = lgb.Dataset(X_val, label=y_val, group=group_val)\n",
    "\n",
    "params = {\n",
    "    'objective':       'lambdarank',\n",
    "    'metric':          'map',\n",
    "    'eval_at':         [7],\n",
    "    'learning_rate':   0.01,\n",
    "    'num_leaves':      32,\n",
    "    'feature_fraction':0.8,\n",
    "    'bagging_fraction':0.8,\n",
    "    # 'lambda_l1':       1.0,\n",
    "    'bagging_freq':     5,\n",
    "    'verbosity':       -1,\n",
    "    'device_type' : 'gpu',\n",
    "    'gpu_platform_id': 1,  # <-- set your platform id here\n",
    "    'gpu_device_id':   0 ,\n",
    "}\n",
    "\n",
    "model = lgb.train(\n",
    "    params,\n",
    "    train_set,\n",
    "    num_boost_round=1000,\n",
    "    valid_sets=[train_set, val_set],\n",
    "    valid_names=['train', 'valid'],\n",
    "    callbacks=[\n",
    "        early_stopping(stopping_rounds=50),\n",
    "        log_evaluation(period=100)\n",
    "    ]\n",
    ")"
   ]
  },
  {
   "cell_type": "code",
   "execution_count": 28,
   "metadata": {
    "execution": {
     "iopub.execute_input": "2025-07-03T19:10:12.672943Z",
     "iopub.status.busy": "2025-07-03T19:10:12.672588Z",
     "iopub.status.idle": "2025-07-03T19:10:17.215989Z",
     "shell.execute_reply": "2025-07-03T19:10:17.215008Z",
     "shell.execute_reply.started": "2025-07-03T19:10:12.672919Z"
    },
    "trusted": true
   },
   "outputs": [
    {
     "name": "stdout",
     "output_type": "stream",
     "text": [
      "Validation MAP@7: 0.7464608793369855\n"
     ]
    }
   ],
   "source": [
    "def map_at_k(ids, y_true, y_pred, k=7):\n",
    "    dfm = pd.DataFrame({\n",
    "        'id2': ids,\n",
    "        'y': y_true,\n",
    "        'p': y_pred\n",
    "    })\n",
    "    # ensure y is numeric\n",
    "    dfm['y'] = dfm['y'].astype(int)\n",
    "\n",
    "    aps = []\n",
    "    for _, g in dfm.groupby('id2'):\n",
    "        top = g.sort_values('p', ascending=False).head(k)\n",
    "        rel = top['y'].values\n",
    "        if rel.sum() == 0:\n",
    "            continue\n",
    "        hits = 0\n",
    "        score = 0.0\n",
    "        for i, r in enumerate(rel, 1):\n",
    "            if r == 1:\n",
    "                hits += 1\n",
    "                score += hits / i\n",
    "        aps.append(score / min(rel.sum(), k))\n",
    "    return np.mean(aps)\n",
    "\n",
    "# Then:\n",
    "val_preds = model.predict(X_val, num_iteration=model.best_iteration)\n",
    "validation_map7 = map_at_k(id2_val, y_val, val_preds)\n",
    "print(\"Validation MAP@7:\", validation_map7)"
   ]
  },
  {
   "cell_type": "code",
   "execution_count": 77,
   "metadata": {},
   "outputs": [],
   "source": [
    "from sklearn.pipeline import Pipeline\n",
    "from sklearn.compose import ColumnTransformer\n",
    "from xgboost import XGBClassifier\n",
    "from catboost import CatBoostClassifier\n",
    "from sklearn.linear_model import LogisticRegression\n",
    "from sklearn.ensemble import StackingClassifier\n",
    "from lightgbm import LGBMClassifier\n",
    "from catboost import CatBoostRanker"
   ]
  },
  {
   "cell_type": "code",
   "execution_count": 82,
   "metadata": {},
   "outputs": [],
   "source": [
    "\n",
    "# One-Hot Pipeline for XGBoost\n",
    "xgb_pipeline = Pipeline([\n",
    "    ('model', XGBClassifier(\n",
    "        objective='binary:logistic',\n",
    "        eval_metric='logloss',\n",
    "        tree_method='gpu_hist',\n",
    "        predictor='gpu_predictor',\n",
    "        use_label_encoder=False,\n",
    "        random_state=42\n",
    "    ))\n",
    "])\n",
    "\n",
    "# CatBoost uses raw categorical features\n",
    "from catboost import CatBoostRanker\n",
    "cat_pipeline = Pipeline([\n",
    "     ('model', CatBoostRanker(\n",
    "        cat_features=cat_ord,\n",
    "        iterations=500,\n",
    "        learning_rate=0.05,\n",
    "        depth=6,\n",
    "        verbose=0,\n",
    "        task_type='GPU',\n",
    "        random_state=42,\n",
    "        loss_function='YetiRank'\n",
    "    ))\n",
    "])\n",
    "\n",
    "# Logistic Regression on scaled numeric features\n",
    "logreg_pipeline = Pipeline([\n",
    "    ('model', LogisticRegression(\n",
    "        penalty='l2',\n",
    "        solver='saga',\n",
    "        class_weight='balanced',\n",
    "        max_iter=5000,\n",
    "        random_state=42\n",
    "    ))\n",
    "])\n"
   ]
  },
  {
   "cell_type": "code",
   "execution_count": 83,
   "metadata": {},
   "outputs": [
    {
     "ename": "IndexError",
     "evalue": "only integers, slices (`:`), ellipsis (`...`), numpy.newaxis (`None`) and integer or boolean arrays are valid indices",
     "output_type": "error",
     "traceback": [
      "\u001b[1;31m---------------------------------------------------------------------------\u001b[0m",
      "\u001b[1;31mIndexError\u001b[0m                                Traceback (most recent call last)",
      "Cell \u001b[1;32mIn[83], line 5\u001b[0m\n\u001b[0;32m      1\u001b[0m \u001b[38;5;28;01mfrom\u001b[39;00m \u001b[38;5;21;01mlightgbm\u001b[39;00m \u001b[38;5;28;01mimport\u001b[39;00m LGBMRanker\n\u001b[0;32m      3\u001b[0m \u001b[38;5;66;03m# Train base models\u001b[39;00m\n\u001b[0;32m      4\u001b[0m base_models \u001b[38;5;241m=\u001b[39m [\n\u001b[1;32m----> 5\u001b[0m     (\u001b[38;5;124m\"\u001b[39m\u001b[38;5;124mXGBoost\u001b[39m\u001b[38;5;124m\"\u001b[39m, xgb_pipeline, \u001b[43mX_trn\u001b[49m\u001b[43m[\u001b[49m\u001b[43mcat_ohe\u001b[49m\u001b[43m]\u001b[49m, y),\n\u001b[0;32m      6\u001b[0m     (\u001b[38;5;124m\"\u001b[39m\u001b[38;5;124mCatBoost\u001b[39m\u001b[38;5;124m\"\u001b[39m, cat_pipeline, X_trn[cat_ord], y),\n\u001b[0;32m      7\u001b[0m     (\u001b[38;5;124m\"\u001b[39m\u001b[38;5;124mLogReg\u001b[39m\u001b[38;5;124m\"\u001b[39m, logreg_pipeline, X_trn[num_features], y)\n\u001b[0;32m      8\u001b[0m ]\n\u001b[0;32m     10\u001b[0m \u001b[38;5;28;01mfor\u001b[39;00m name, pipe, X, y_ \u001b[38;5;129;01min\u001b[39;00m tqdm(base_models, desc\u001b[38;5;241m=\u001b[39m\u001b[38;5;124m\"\u001b[39m\u001b[38;5;124mFitting base models\u001b[39m\u001b[38;5;124m\"\u001b[39m):\n\u001b[0;32m     11\u001b[0m     \u001b[38;5;28mprint\u001b[39m(\u001b[38;5;124mf\u001b[39m\u001b[38;5;124m\"\u001b[39m\u001b[38;5;124mFitting \u001b[39m\u001b[38;5;132;01m{\u001b[39;00mname\u001b[38;5;132;01m}\u001b[39;00m\u001b[38;5;124m...\u001b[39m\u001b[38;5;124m\"\u001b[39m)\n",
      "\u001b[1;31mIndexError\u001b[0m: only integers, slices (`:`), ellipsis (`...`), numpy.newaxis (`None`) and integer or boolean arrays are valid indices"
     ]
    }
   ],
   "source": [
    "from lightgbm import LGBMRanker\n",
    "\n",
    "# Train base models\n",
    "base_models = [\n",
    "    (\"XGBoost\", xgb_pipeline, X_trn[cat_ohe], y),\n",
    "    (\"CatBoost\", cat_pipeline, X_trn[cat_ord], y),\n",
    "    (\"LogReg\", logreg_pipeline, X_trn[num_features], y)\n",
    "]\n",
    "\n",
    "for name, pipe, X, y_ in tqdm(base_models, desc=\"Fitting base models\"):\n",
    "    print(f\"Fitting {name}...\")\n",
    "    pipe.fit(X, y_)\n",
    "\n",
    "# Generate predictions from base models\n",
    "Z_trn = np.column_stack([\n",
    "    xgb_pipeline.predict_proba(X_trn)[:, 1],\n",
    "    cat_pipeline.predict_proba(X_trn[cat_ord])[:, 1],\n",
    "    logreg_pipeline.predict_proba(X_trn)[:, 1],\n",
    "])\n",
    "\n",
    "Z_val = np.column_stack([\n",
    "    xgb_pipeline.predict_proba(X_val)[:, 1],\n",
    "    cat_pipeline.predict_proba(X_val[cat_ord])[:, 1],\n",
    "    logreg_pipeline.predict_proba(X_val)[:, 1],\n",
    "])\n",
    "\n",
    "group_column = 'id2'\n",
    "group_trn = X_trn[group_column].value_counts(sort=False).sort_index().values\n",
    "group_val = X_val[group_column].value_counts(sort=False).sort_index().values\n",
    "\n",
    "train_set = lgb.Dataset(Z_trn, label=y_trn, group=group_trn)\n",
    "val_set = lgb.Dataset(Z_val, label=y_val, group=group_val)\n",
    "print(\"Training meta model\")\n",
    "params = {\n",
    "    'objective': 'lambdarank',\n",
    "    'metric': 'map',\n",
    "    'eval_at': [7],\n",
    "    'learning_rate': 0.01,\n",
    "    'num_leaves': 16,\n",
    "    'feature_fraction': 0.8,\n",
    "    'bagging_fraction': 0.8,\n",
    "    'bagging_freq': 5,\n",
    "    'verbosity': 1,\n",
    "    'device_type': 'gpu',\n",
    "    'gpu_platform_id': 1,\n",
    "    'gpu_device_id': 0\n",
    "}\n",
    "\n",
    "model = lgb.train(\n",
    "    params,\n",
    "    train_set,\n",
    "    num_boost_round=1000,\n",
    "    valid_sets=[train_set, val_set],\n",
    "    valid_names=['train', 'valid'],\n",
    "    callbacks=[\n",
    "        early_stopping(stopping_rounds=50),\n",
    "        log_evaluation(period=100)\n",
    "    ]\n",
    ")\n",
    "\n"
   ]
  },
  {
   "cell_type": "code",
   "execution_count": 57,
   "metadata": {
    "execution": {
     "iopub.execute_input": "2025-07-03T19:10:17.217459Z",
     "iopub.status.busy": "2025-07-03T19:10:17.217148Z",
     "iopub.status.idle": "2025-07-03T19:10:21.448644Z",
     "shell.execute_reply": "2025-07-03T19:10:21.447725Z",
     "shell.execute_reply.started": "2025-07-03T19:10:17.217429Z"
    },
    "trusted": true
   },
   "outputs": [
    {
     "name": "stdout",
     "output_type": "stream",
     "text": [
      "raw_preds[:5]       : [-1.07019874 -4.41435069 -3.24979604 -0.61140498 -4.71154053]\n",
      "prob_preds[:5]      : [0.25536529 0.01195769 0.03733422 0.35173877 0.0089108 ]\n",
      "raw_preds min/max   : -5.712011075258827 3.6436183075431883\n",
      "prob_preds min/max  : 0.003295123470653132 0.9745092484561793\n",
      "Saved sigmoid submission to 'r2_submission_file_sigmoid.csv'\n",
      "Reloaded CSV pred min/max: 0.0032951234706531 0.9745092484561791\n",
      "                                             id1      id2      id3  id5  \\\n",
      "0     1000061_9914_16-23_2023-11-05 09:11:35.557  1000061     9914  NaN   \n",
      "1    1000061_23690_16-23_2023-11-05 09:11:36.193  1000061    23690  NaN   \n",
      "2   1000061_522188_16-23_2023-11-05 09:11:37.242  1000061   522188  NaN   \n",
      "3  1000061_5420674_16-23_2023-11-05 09:28:04.153  1000061  5420674  NaN   \n",
      "4    1000061_27945_16-23_2023-11-05 09:28:04.157  1000061    27945  NaN   \n",
      "\n",
      "       pred  \n",
      "0  0.255365  \n",
      "1  0.011958  \n",
      "2  0.037334  \n",
      "3  0.351739  \n",
      "4  0.008911  \n"
     ]
    }
   ],
   "source": [
    "# --- after training your model and having X_test, test DataFrame ---\n",
    "\n",
    "from scipy.special import expit\n",
    "import pandas as pd\n",
    "\n",
    "# 1) Get raw scores\n",
    "raw_preds = model.predict(X_test, num_iteration=model.best_iteration)\n",
    "\n",
    "# 2) Convert to (0,1) via sigmoid\n",
    "prob_preds = expit(raw_preds)\n",
    "\n",
    "# 3) Sanity‑check in memory\n",
    "print(\"raw_preds[:5]       :\", raw_preds[:5])\n",
    "print(\"prob_preds[:5]      :\", prob_preds[:5])\n",
    "print(\"raw_preds min/max   :\", raw_preds.min(), raw_preds.max())\n",
    "print(\"prob_preds min/max  :\", prob_preds.min(), prob_preds.max())\n",
    "\n",
    "# 4) Build your submission DataFrame from prob_preds\n",
    "sub = pd.DataFrame({\n",
    "    'id1':  test['id1'],\n",
    "    'id2':  test['id2'],\n",
    "    'id3':  test['id3'],\n",
    "    'id5':  test['id5'],\n",
    "    'pred': prob_preds      # <<-- make sure this is prob_preds\n",
    "})\n",
    "\n",
    "# 5) Save to CSV\n",
    "csv_path = 'r2_submission_file_sigmoid.csv'\n",
    "sub.to_csv(csv_path, index=False)\n",
    "print(f\"Saved sigmoid submission to {csv_path!r}\")\n",
    "\n",
    "# 6) Reload and verify on‑disk values\n",
    "df_check = pd.read_csv(csv_path)\n",
    "print(\"Reloaded CSV pred min/max:\", df_check['pred'].min(), df_check['pred'].max())\n",
    "print(df_check.head(5))\n"
   ]
  },
  {
   "cell_type": "code",
   "execution_count": 96,
   "metadata": {},
   "outputs": [],
   "source": [
    "sub.to_csv(csv_path, index=False)"
   ]
  },
  {
   "cell_type": "code",
   "execution_count": 75,
   "metadata": {},
   "outputs": [
    {
     "data": {
      "image/png": "[encoded data removed]",
      "text/plain": [
       "<Figure size 800x500 with 1 Axes>"
      ]
     },
     "metadata": {},
     "output_type": "display_data"
    }
   ],
   "source": [
    "import matplotlib.pyplot as plt\n",
    "import numpy as np\n",
    "\n",
    "# Get predictions\n",
    "preds = sub['pred']\n",
    "\n",
    "# Compute histogram manually\n",
    "counts, bins = np.histogram(preds, bins=50, range=(0, 1))\n",
    "counts = counts / counts.max()  # Normalize to max value 1\n",
    "\n",
    "# Plot\n",
    "plt.figure(figsize=(8, 5))\n",
    "plt.bar(bins[:-1], counts, width=(bins[1] - bins[0]), color='skyblue', edgecolor='black', align='edge')\n",
    "plt.title(\"Histogram of Model Predictions (Y Normalized)\")\n",
    "plt.xlabel(\"Predicted Probability\")\n",
    "plt.ylabel(\"Relative Frequency (max = 1)\")\n",
    "plt.xlim(0, 1)\n",
    "plt.ylim(0, 1)\n",
    "plt.grid(axis='y', linestyle='--', alpha=0.7)\n",
    "plt.show()\n"
   ]
  },
  {
   "cell_type": "code",
   "execution_count": 12,
   "metadata": {
    "execution": {
     "iopub.execute_input": "2025-07-03T19:10:21.449991Z",
     "iopub.status.busy": "2025-07-03T19:10:21.449722Z",
     "iopub.status.idle": "2025-07-03T19:10:21.461199Z",
     "shell.execute_reply": "2025-07-03T19:10:21.460086Z",
     "shell.execute_reply.started": "2025-07-03T19:10:21.449964Z"
    },
    "trusted": true
   },
   "outputs": [
    {
     "name": "stdout",
     "output_type": "stream",
     "text": [
      "Top 50 features by importance:\n",
      " 1. num__secs_prev                 108287.7\n",
      " 2. num__ctr                       50453.3\n",
      " 3. num__ctr_smooth                25154.4\n",
      " 4. num__offer_popularity_30d      6282.1\n",
      " 5. num__days_to_exp               4831.8\n",
      " 6. ohe__f375_2.0                  362.3\n",
      " 7. ohe__f375_1.0                  336.9\n",
      " 8. ohe__f376_nan                  312.0\n",
      " 9. ohe__f376_100.0                269.2\n",
      "10. ohe__dow_4                     194.9\n",
      "11. ohe__hour_9                    140.6\n",
      "12. ohe__hour_7                    129.8\n",
      "13. ohe__hour_6                    122.9\n",
      "14. ohe__hour_18                   120.9\n",
      "15. ohe__hour_11                   117.6\n",
      "16. ohe__hour_15                   116.4\n",
      "17. ohe__hour_10                   115.7\n",
      "18. ohe__hour_13                   113.2\n",
      "19. ohe__hour_8                    112.4\n",
      "20. ohe__hour_16                   108.0\n",
      "21. ohe__dow_2                     98.6\n",
      "22. ohe__hour_19                   97.2\n",
      "23. ohe__dow_3                     91.3\n",
      "24. ohe__f376_8.0                  84.2\n",
      "25. ohe__f376_10.0                 79.4\n",
      "26. ohe__hour_4                    74.5\n",
      "27. ohe__hour_12                   62.9\n",
      "28. ohe__hour_20                   60.4\n",
      "29. ohe__hour_17                   59.9\n",
      "30. ohe__hour_2                    57.5\n",
      "31. ohe__hour_22                   53.1\n",
      "32. ohe__hour_3                    51.7\n",
      "33. ohe__hour_14                   49.9\n",
      "34. ohe__hour_5                    48.7\n",
      "35. ohe__hour_0                    44.8\n",
      "36. ohe__f376_3.0                  44.2\n",
      "37. ohe__f376_4.0                  32.5\n",
      "38. ohe__f376_2.0                  29.1\n",
      "39. ohe__f376_30.0                 27.9\n",
      "40. ohe__f376_20.0                 27.5\n",
      "41. ohe__hour_23                   26.8\n",
      "42. ohe__hour_21                   24.2\n",
      "43. ohe__hour_1                    24.2\n",
      "44. ohe__f376_5.0                  24.0\n",
      "45. ohe__f376_40.0                 23.0\n",
      "46. ohe__f376_25.0                 20.1\n",
      "47. ohe__f376_50.0                 8.6\n",
      "48. ohe__f376_15.0                 6.8\n",
      "49. ohe__f375_nan                  1.6\n",
      "50. ohe__f376_6.0                  0.0\n"
     ]
    }
   ],
   "source": [
    "# --- after model = lgb.train(...) ---\n",
    "\n",
    "# 1. get feature names\n",
    "try:\n",
    "    # scikit‑learn 1.0+ API\n",
    "    feat_names = preprocessor.get_feature_names_out()\n",
    "except AttributeError:\n",
    "    # fallback for older versions: build names manually\n",
    "    num_names = num_features\n",
    "    # one‑hot names\n",
    "    ohe = preprocessor.named_transformers_['ohe']['onehot']\n",
    "    ohe_cols = ohe.get_feature_names_out(cat_ohe)\n",
    "    # ordinal names\n",
    "    ord_cols = cat_ord\n",
    "    feat_names = np.concatenate([num_names, ohe_cols, ord_cols])\n",
    "\n",
    "# 2. get importances and pair\n",
    "importances = model.feature_importance(importance_type='gain')\n",
    "feat_imp = pd.DataFrame({\n",
    "    'feature': feat_names,\n",
    "    'importance': importances\n",
    "})\n",
    "\n",
    "# 3. sort and take top 50\n",
    "top50 = feat_imp.sort_values('importance', ascending=False).head(50)\n",
    "\n",
    "# 4. print them nicely\n",
    "print(\"Top 50 features by importance:\")\n",
    "for i, (f, imp) in enumerate(zip(top50['feature'], top50['importance']), 1):\n",
    "    print(f\"{i:2d}. {f:30s} {imp:.1f}\")"
   ]
  }
 ],
 "metadata": {
  "kaggle": {
   "accelerator": "none",
   "dataSources": [
    {
     "datasetId": 7780290,
     "sourceId": 12343484,
     "sourceType": "datasetVersion"
    },
    {
     "datasetId": 7788745,
     "sourceId": 12354196,
     "sourceType": "datasetVersion"
    }
   ],
   "dockerImageVersionId": 31040,
   "isGpuEnabled": false,
   "isInternetEnabled": false,
   "language": "python",
   "sourceType": "notebook"
  },
  "kernelspec": {
   "display_name": "Python 3",
   "language": "python",
   "name": "python3"
  },
  "language_info": {
   "codemirror_mode": {
    "name": "ipython",
    "version": 3
   },
   "file_extension": ".py",
   "mimetype": "text/x-python",
   "name": "python",
   "nbconvert_exporter": "python",
   "pygments_lexer": "ipython3",
   "version": "3.12.4"
  }
 },
 "nbformat": 4,
 "nbformat_minor": 4
}
