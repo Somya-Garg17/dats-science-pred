{
 "cells": [
  {
   "cell_type": "code",
   "execution_count": 1,
   "metadata": {
    "_cell_guid": "b1076dfc-b9ad-4769-8c92-a6c4dae69d19",
    "_uuid": "8f2839f25d086af736a60e9eeb907d3b93b6e0e5",
    "trusted": true
   },
   "outputs": [],
   "source": [
    "import pandas as pd\n",
    "import numpy as np\n",
    "from sklearn.impute import SimpleImputer\n",
    "from sklearn.preprocessing import OrdinalEncoder, StandardScaler\n",
    "from sklearn.decomposition import PCA\n",
    "from sklearn.cluster import KMeans"
   ]
  },
  {
   "cell_type": "code",
   "execution_count": 2,
   "metadata": {
    "trusted": true
   },
   "outputs": [],
   "source": [
    "df_events = pd.read_parquet('data/add_event.parquet')\n",
    "df_offers = pd.read_parquet('data/offer_metadata.parquet')\n",
    "df_train = pd.read_parquet('data/train_data.parquet')\n",
    "df_test = pd.read_parquet('data/test_data.parquet')\n",
    "df_dict = pd.read_csv('data/data_dictionary.csv')"
   ]
  },
  {
   "cell_type": "code",
   "execution_count": 3,
   "metadata": {
    "trusted": true
   },
   "outputs": [
    {
     "data": {
      "text/html": [
       "<div>\n",
       "<style scoped>\n",
       "    .dataframe tbody tr th:only-of-type {\n",
       "        vertical-align: middle;\n",
       "    }\n",
       "\n",
       "    .dataframe tbody tr th {\n",
       "        vertical-align: top;\n",
       "    }\n",
       "\n",
       "    .dataframe thead th {\n",
       "        text-align: right;\n",
       "    }\n",
       "</style>\n",
       "<table border=\"1\" class=\"dataframe\">\n",
       "  <thead>\n",
       "    <tr style=\"text-align: right;\">\n",
       "      <th></th>\n",
       "      <th>id2</th>\n",
       "      <th>id3</th>\n",
       "      <th>id6</th>\n",
       "      <th>id4</th>\n",
       "      <th>id7</th>\n",
       "    </tr>\n",
       "  </thead>\n",
       "  <tbody>\n",
       "    <tr>\n",
       "      <th>0</th>\n",
       "      <td>2431360</td>\n",
       "      <td>618619</td>\n",
       "      <td>Tiles</td>\n",
       "      <td>2023-10-22 08:08:17.768</td>\n",
       "      <td>None</td>\n",
       "    </tr>\n",
       "    <tr>\n",
       "      <th>1</th>\n",
       "      <td>2431360</td>\n",
       "      <td>363153</td>\n",
       "      <td>Tiles</td>\n",
       "      <td>2023-10-22 08:08:18.921</td>\n",
       "      <td>None</td>\n",
       "    </tr>\n",
       "    <tr>\n",
       "      <th>2</th>\n",
       "      <td>2431360</td>\n",
       "      <td>97193</td>\n",
       "      <td>Tiles</td>\n",
       "      <td>2023-10-22 08:08:17.765</td>\n",
       "      <td>None</td>\n",
       "    </tr>\n",
       "    <tr>\n",
       "      <th>3</th>\n",
       "      <td>2431360</td>\n",
       "      <td>654444</td>\n",
       "      <td>Tiles</td>\n",
       "      <td>2023-10-22 08:08:17.737</td>\n",
       "      <td>None</td>\n",
       "    </tr>\n",
       "    <tr>\n",
       "      <th>4</th>\n",
       "      <td>2431360</td>\n",
       "      <td>32325</td>\n",
       "      <td>Tiles</td>\n",
       "      <td>2023-10-22 08:08:17.812</td>\n",
       "      <td>None</td>\n",
       "    </tr>\n",
       "  </tbody>\n",
       "</table>\n",
       "</div>"
      ],
      "text/plain": [
       "       id2     id3    id6                      id4   id7\n",
       "0  2431360  618619  Tiles  2023-10-22 08:08:17.768  None\n",
       "1  2431360  363153  Tiles  2023-10-22 08:08:18.921  None\n",
       "2  2431360   97193  Tiles  2023-10-22 08:08:17.765  None\n",
       "3  2431360  654444  Tiles  2023-10-22 08:08:17.737  None\n",
       "4  2431360   32325  Tiles  2023-10-22 08:08:17.812  None"
      ]
     },
     "execution_count": 3,
     "metadata": {},
     "output_type": "execute_result"
    }
   ],
   "source": [
    "df_events.head()"
   ]
  },
  {
   "cell_type": "code",
   "execution_count": 4,
   "metadata": {
    "trusted": true
   },
   "outputs": [],
   "source": [
    "df_train['id4'] = pd.to_datetime(df_train['id4'])\n",
    "df_test['id4'] = pd.to_datetime(df_test['id4'])\n",
    "df_train['id5'] = pd.to_datetime(df_train['id5'])\n",
    "df_test['id5'] = pd.to_datetime(df_test['id5'])\n",
    "df_offers['id12'] = pd.to_datetime(df_offers['id12'])\n",
    "df_offers['id13'] = pd.to_datetime(df_offers['id13'])\n",
    "df_train['id3'] = df_train['id3'].astype(str)\n",
    "df_test['id3'] = df_test['id3'].astype(str)\n",
    "df_offers['id3'] = df_offers['id3'].astype(str)"
   ]
  },
  {
   "cell_type": "code",
   "execution_count": 5,
   "metadata": {
    "trusted": true
   },
   "outputs": [],
   "source": [
    "# -----------------------------\n",
    "# 3. Merge Offer Metadata + is_offer_active + CTR\n",
    "# -----------------------------\n",
    "df_train = df_train.merge(df_offers[['id3', 'id12', 'id13']], on='id3', how='left')\n",
    "df_test = df_test.merge(df_offers[['id3', 'id12', 'id13']], on='id3', how='left')\n",
    "\n",
    "df_train['is_offer_active'] = ((df_train['id4'] >= df_train['id12']) & (df_train['id4'] <= df_train['id13'])).astype(int)\n",
    "df_test['is_offer_active'] = ((df_test['id4'] >= df_test['id12']) & (df_test['id4'] <= df_test['id13'])).astype(int)\n",
    "\n",
    "df_train.drop(columns=['id12', 'id13'], inplace=True)\n",
    "df_test.drop(columns=['id12', 'id13'], inplace=True)\n",
    "\n",
    "# CTR Engineering as before..."
   ]
  },
  {
   "cell_type": "code",
   "execution_count": 6,
   "metadata": {
    "trusted": true
   },
   "outputs": [],
   "source": [
    "df_train.drop(columns=['id4', 'id5'], inplace=True)"
   ]
  },
  {
   "cell_type": "code",
   "execution_count": 7,
   "metadata": {
    "trusted": true
   },
   "outputs": [],
   "source": [
    "\n",
    "# CTR Engineering\n",
    "df_events['is_clicked'] = df_events['id7'].notna().astype(int)\n",
    "offer_ctr = df_events.groupby('id3').agg(impressions=('id4', 'count'), clicks=('is_clicked', 'sum')).reset_index()\n",
    "offer_ctr['ctr'] = offer_ctr['clicks'] / offer_ctr['impressions']\n",
    "df_offers = df_offers.merge(offer_ctr, on='id3', how='left')\n"
   ]
  },
  {
   "cell_type": "code",
   "execution_count": 8,
   "metadata": {
    "trusted": true
   },
   "outputs": [
    {
     "name": "stderr",
     "output_type": "stream",
     "text": [
      "C:\\Users\\91820\\AppData\\Local\\Temp\\ipykernel_20300\\3357228718.py:10: FutureWarning: A value is trying to be set on a copy of a DataFrame or Series through chained assignment using an inplace method.\n",
      "The behavior will change in pandas 3.0. This inplace method will never work because the intermediate object on which we are setting values always behaves as a copy.\n",
      "\n",
      "For example, when doing 'df[col].method(value, inplace=True)', try using 'df.method({col: value}, inplace=True)' or df[col] = df[col].method(value) instead, to perform the operation inplace on the original object.\n",
      "\n",
      "\n",
      "  df_train['click_momentum_7d'].fillna(0, inplace=True)\n"
     ]
    }
   ],
   "source": [
    "clicks_only = df_events[df_events['is_clicked'] == 1].copy()\n",
    "df_events['id4'] = pd.to_datetime(df_events['id4'])\n",
    "clicks_only['id4'] = pd.to_datetime(clicks_only['id4'])\n",
    "cutoff_7d = df_events['id4'].max() - pd.Timedelta(days=7)\n",
    "recent_clicks = clicks_only[clicks_only['id4'] >= cutoff_7d]\n",
    "click_momentum = recent_clicks.groupby('id2').agg(click_momentum_7d=('id4', 'count')).reset_index()\n",
    "df_train['id2'] = df_train['id2'].astype(str)\n",
    "click_momentum['id2'] = click_momentum['id2'].astype(str)\n",
    "df_train = df_train.merge(click_momentum, on='id2', how='left')\n",
    "df_train['click_momentum_7d'].fillna(0, inplace=True)"
   ]
  },
  {
   "cell_type": "code",
   "execution_count": 9,
   "metadata": {
    "trusted": true
   },
   "outputs": [],
   "source": [
    "# Final CTR Features\n",
    "df_offers_final = df_offers[['id3', 'ctr', 'impressions', 'clicks']]\n",
    "df_train = df_train.merge(df_offers_final, on='id3', how='left')\n",
    "df_test = df_test.merge(df_offers_final, on='id3', how='left')\n",
    "for col in ['ctr', 'impressions', 'clicks']:\n",
    "    df_train[col] = df_train[col].fillna(0)\n",
    "    df_test[col] = df_test[col].fillna(0)"
   ]
  },
  {
   "cell_type": "code",
   "execution_count": 10,
   "metadata": {
    "trusted": true
   },
   "outputs": [],
   "source": [
    "f_cols = [f\"f{i}\" for i in range(1, 367)]\n",
    "numerical_features = df_dict[df_dict['Type'] == 'Numerical']['masked_column'].tolist()\n",
    "categorical_features = df_dict[df_dict['Type'].isin(['Categorical', 'One hot encoded'])]['masked_column'].tolist()\n",
    "categorical_features = [col for col in categorical_features if col in df_train.columns and col != 'id3']\n",
    "\n",
    "# Keep only valid features\n",
    "numerical_features = [col for col in numerical_features if col in df_train.columns]"
   ]
  },
  {
   "cell_type": "code",
   "execution_count": 11,
   "metadata": {
    "execution": {
     "execution_failed": "2025-07-02T21:42:15.285Z"
    },
    "trusted": true
   },
   "outputs": [
    {
     "name": "stdout",
     "output_type": "stream",
     "text": [
      "Dropping column: f14 | Unique values: ['0.0']\n",
      "Dropping column: f15 | Unique values: ['0.0']\n",
      "Dropping column: f16 | Unique values: ['0.0']\n",
      "Dropping column: f17 | Unique values: ['0.0']\n",
      "Dropping column: f19 | Unique values: ['0.0']\n",
      "Dropping column: f20 | Unique values: ['0.0']\n",
      "Dropping column: f21 | Unique values: ['0.0']\n",
      "Dropping column: f23 | Unique values: ['0.0']\n",
      "Dropping column: f24 | Unique values: ['0.0']\n",
      "Dropping column: f25 | Unique values: ['0.0']\n",
      "Dropping column: f62 | Unique values: ['0.0']\n",
      "Dropping column: f66 | Unique values: ['0.0']\n",
      "Dropping column: f80 | Unique values: ['0.0']\n",
      "Dropping column: f88 | Unique values: ['0.0']\n",
      "Dropping column: f102 | Unique values: ['0.0']\n",
      "Dropping column: f112 | Unique values: []\n",
      "Dropping column: f122 | Unique values: []\n",
      "Dropping column: f128 | Unique values: ['0.0']\n",
      "Dropping column: f129 | Unique values: ['0.0']\n",
      "Dropping column: f135 | Unique values: []\n",
      "Dropping column: f136 | Unique values: []\n",
      "Dropping column: f144 | Unique values: ['0.0']\n",
      "Dropping column: f145 | Unique values: ['0.0']\n",
      "Dropping column: f205 | Unique values: ['1.0']\n",
      "Dropping column: f334 | Unique values: ['0.0']\n",
      "Dropping column: f335 | Unique values: ['0.0']\n",
      "Dropping column: f360 | Unique values: ['1.0']\n",
      "Dropping column: f226 | Unique values: ['0.0']\n",
      "Dropping column: f229 | Unique values: ['0.0']\n",
      "Dropping column: f236 | Unique values: ['0.0']\n",
      "Dropping column: f238 | Unique values: ['0.0']\n",
      "Dropping column: f240 | Unique values: ['0.0']\n",
      "Dropping column: f243 | Unique values: ['0.0']\n",
      "Dropping column: f245 | Unique values: ['0.0']\n",
      "Dropping column: f246 | Unique values: ['0.0']\n",
      "Dropping column: f248 | Unique values: ['0.0']\n",
      "Dropping column: f249 | Unique values: ['0.0']\n",
      "Dropping column: f258 | Unique values: ['0.0']\n",
      "Dropping column: f259 | Unique values: ['0.0']\n",
      "Dropping column: f260 | Unique values: ['0.0']\n",
      "Dropping column: f262 | Unique values: ['0.0']\n",
      "Dropping column: f266 | Unique values: ['0.0']\n",
      "Dropping column: f267 | Unique values: ['0.0']\n",
      "Dropping column: f268 | Unique values: ['0.0']\n",
      "Dropping column: f270 | Unique values: ['0.0']\n",
      "Dropping column: f271 | Unique values: ['0.0']\n",
      "Dropping column: f277 | Unique values: ['0.0']\n",
      "Dropping column: f279 | Unique values: ['0.0']\n",
      "Dropping column: f281 | Unique values: ['0.0']\n",
      "Dropping column: f286 | Unique values: ['0.0']\n",
      "Dropping column: f287 | Unique values: ['0.0']\n",
      "Dropping column: f290 | Unique values: ['0.0']\n",
      "Dropping column: f291 | Unique values: ['0.0']\n",
      "Dropping column: f294 | Unique values: ['0.0']\n",
      "Dropping column: f295 | Unique values: ['0.0']\n",
      "Dropping column: f298 | Unique values: ['0.0']\n",
      "Dropping column: f300 | Unique values: ['0.0']\n",
      "Dropping column: f301 | Unique values: ['0.0']\n",
      "Dropping column: f303 | Unique values: ['0.0']\n",
      "Dropping column: f304 | Unique values: ['0.0']\n",
      "Dropping column: f307 | Unique values: ['0.0']\n",
      "Dropping column: f308 | Unique values: ['0.0']\n",
      "Dropping column: f309 | Unique values: ['0.0']\n",
      "Dropping 63 columns.\n"
     ]
    }
   ],
   "source": [
    "# Combine numeric + categorical for drop check\n",
    "X = pd.concat([df_train[numerical_features], df_train[categorical_features]], axis=1)\n",
    "X_test = pd.concat([df_test[numerical_features], df_test[categorical_features]], axis=1)\n",
    "\n",
    "cols_to_drop = []\n",
    "for col in X.columns:\n",
    "    unique_vals = X[col].dropna().unique()\n",
    "    nunique = len(unique_vals)\n",
    "    if nunique == 1 or set(unique_vals).issubset({0.0}):\n",
    "        cols_to_drop.append(col)\n",
    "        print(f\"Dropping column: {col} | Unique values: {unique_vals}\")\n",
    "\n",
    "print(f\"Dropping {len(cols_to_drop)} columns.\")\n",
    "\n",
    "# Drop in df_train and df_test too\n",
    "numerical_features = [col for col in numerical_features if col not in cols_to_drop]\n",
    "categorical_features = [col for col in categorical_features if col not in cols_to_drop]"
   ]
  },
  {
   "cell_type": "code",
   "execution_count": 12,
   "metadata": {
    "execution": {
     "execution_failed": "2025-07-02T21:42:15.285Z"
    },
    "trusted": true
   },
   "outputs": [],
   "source": [
    "num_imputer = SimpleImputer(strategy='median')\n",
    "df_train[numerical_features] = num_imputer.fit_transform(df_train[numerical_features])\n",
    "df_test[numerical_features] = num_imputer.transform(df_test[numerical_features])\n",
    "\n",
    "cat_imputer = SimpleImputer(strategy='most_frequent')\n",
    "df_train[categorical_features] = cat_imputer.fit_transform(df_train[categorical_features])\n",
    "df_test[categorical_features] = cat_imputer.transform(df_test[categorical_features])"
   ]
  },
  {
   "cell_type": "code",
   "execution_count": 13,
   "metadata": {
    "execution": {
     "execution_failed": "2025-07-02T21:42:15.285Z"
    },
    "trusted": true
   },
   "outputs": [],
   "source": [
    "encoder = OrdinalEncoder(handle_unknown='use_encoded_value', unknown_value=-1)\n",
    "df_train[categorical_features] = encoder.fit_transform(df_train[categorical_features].astype(str))\n",
    "df_test[categorical_features] = encoder.transform(df_test[categorical_features].astype(str))"
   ]
  },
  {
   "cell_type": "code",
   "execution_count": 14,
   "metadata": {
    "execution": {
     "execution_failed": "2025-07-02T21:42:15.285Z"
    },
    "trusted": true
   },
   "outputs": [],
   "source": [
    "X_train = pd.concat([\n",
    "    df_train[numerical_features],\n",
    "    pd.DataFrame(df_train[categorical_features], columns=categorical_features, index=df_train.index)\n",
    "], axis=1)\n",
    "\n",
    "X_test = pd.concat([\n",
    "    df_test[numerical_features],\n",
    "    pd.DataFrame(df_test[categorical_features], columns=categorical_features, index=df_test.index)\n",
    "], axis=1)"
   ]
  },
  {
   "cell_type": "code",
   "execution_count": 15,
   "metadata": {
    "execution": {
     "execution_failed": "2025-07-02T21:42:15.285Z"
    },
    "trusted": true
   },
   "outputs": [
    {
     "name": "stderr",
     "output_type": "stream",
     "text": [
      "C:\\Users\\91820\\AppData\\Local\\Temp\\ipykernel_20300\\3631020755.py:12: PerformanceWarning: DataFrame is highly fragmented.  This is usually the result of calling `frame.insert` many times, which has poor performance.  Consider joining all columns at once using pd.concat(axis=1) instead. To get a de-fragmented frame, use `newframe = frame.copy()`\n",
      "  df_train['customer_cluster'] = kmeans.fit_predict(X_train_pca)\n",
      "C:\\Users\\91820\\AppData\\Local\\Temp\\ipykernel_20300\\3631020755.py:13: PerformanceWarning: DataFrame is highly fragmented.  This is usually the result of calling `frame.insert` many times, which has poor performance.  Consider joining all columns at once using pd.concat(axis=1) instead. To get a de-fragmented frame, use `newframe = frame.copy()`\n",
      "  df_test['customer_cluster'] = kmeans.predict(X_test_pca)\n"
     ]
    }
   ],
   "source": [
    "scaler = StandardScaler()\n",
    "X_train_scaled = scaler.fit_transform(X_train)\n",
    "X_test_scaled = scaler.transform(X_test)\n",
    "\n",
    "# 4. PCA\n",
    "pca = PCA(n_components=20, random_state=42)\n",
    "X_train_pca = pca.fit_transform(X_train_scaled)\n",
    "X_test_pca = pca.transform(X_test_scaled)\n",
    "\n",
    "# 5. KMeans clustering\n",
    "kmeans = KMeans(n_clusters=7, random_state=42, n_init='auto')\n",
    "df_train['customer_cluster'] = kmeans.fit_predict(X_train_pca)\n",
    "df_test['customer_cluster'] = kmeans.predict(X_test_pca)"
   ]
  },
  {
   "cell_type": "code",
   "execution_count": 16,
   "metadata": {
    "execution": {
     "execution_failed": "2025-07-02T21:42:15.285Z"
    },
    "trusted": true
   },
   "outputs": [],
   "source": [
    "for col in df_train.select_dtypes(include=['float64']).columns:\n",
    "    df_train[col] = df_train[col].astype('float32')\n",
    "    if col in df_test.columns:\n",
    "        df_test[col] = df_test[col].astype('float32')"
   ]
  },
  {
   "cell_type": "code",
   "execution_count": 17,
   "metadata": {
    "trusted": true
   },
   "outputs": [
    {
     "data": {
      "text/html": [
       "<div>\n",
       "<style scoped>\n",
       "    .dataframe tbody tr th:only-of-type {\n",
       "        vertical-align: middle;\n",
       "    }\n",
       "\n",
       "    .dataframe tbody tr th {\n",
       "        vertical-align: top;\n",
       "    }\n",
       "\n",
       "    .dataframe thead th {\n",
       "        text-align: right;\n",
       "    }\n",
       "</style>\n",
       "<table border=\"1\" class=\"dataframe\">\n",
       "  <thead>\n",
       "    <tr style=\"text-align: right;\">\n",
       "      <th></th>\n",
       "      <th>id1</th>\n",
       "      <th>id2</th>\n",
       "      <th>id3</th>\n",
       "      <th>y</th>\n",
       "      <th>f1</th>\n",
       "      <th>f2</th>\n",
       "      <th>f3</th>\n",
       "      <th>f4</th>\n",
       "      <th>f5</th>\n",
       "      <th>f6</th>\n",
       "      <th>...</th>\n",
       "      <th>f363</th>\n",
       "      <th>f364</th>\n",
       "      <th>f365</th>\n",
       "      <th>f366</th>\n",
       "      <th>is_offer_active</th>\n",
       "      <th>click_momentum_7d</th>\n",
       "      <th>ctr</th>\n",
       "      <th>impressions</th>\n",
       "      <th>clicks</th>\n",
       "      <th>customer_cluster</th>\n",
       "    </tr>\n",
       "  </thead>\n",
       "  <tbody>\n",
       "    <tr>\n",
       "      <th>0</th>\n",
       "      <td>1366776_189706075_16-23_2023-11-02 22:22:00.042</td>\n",
       "      <td>1366776</td>\n",
       "      <td>189706075</td>\n",
       "      <td>0</td>\n",
       "      <td>1.0</td>\n",
       "      <td>31.0</td>\n",
       "      <td>31.0</td>\n",
       "      <td>40.0</td>\n",
       "      <td>34.0</td>\n",
       "      <td>36.0</td>\n",
       "      <td>...</td>\n",
       "      <td>0.00000</td>\n",
       "      <td>337.0</td>\n",
       "      <td>0.0</td>\n",
       "      <td>0.00000</td>\n",
       "      <td>1</td>\n",
       "      <td>0.0</td>\n",
       "      <td>0.059875</td>\n",
       "      <td>18238.0</td>\n",
       "      <td>1092.0</td>\n",
       "      <td>5</td>\n",
       "    </tr>\n",
       "    <tr>\n",
       "      <th>1</th>\n",
       "      <td>1366776_89227_16-23_2023-11-01 23:51:24.999</td>\n",
       "      <td>1366776</td>\n",
       "      <td>89227</td>\n",
       "      <td>0</td>\n",
       "      <td>1.0</td>\n",
       "      <td>31.0</td>\n",
       "      <td>31.0</td>\n",
       "      <td>40.0</td>\n",
       "      <td>34.0</td>\n",
       "      <td>36.0</td>\n",
       "      <td>...</td>\n",
       "      <td>0.00000</td>\n",
       "      <td>1010.0</td>\n",
       "      <td>2.0</td>\n",
       "      <td>0.00198</td>\n",
       "      <td>1</td>\n",
       "      <td>0.0</td>\n",
       "      <td>0.046487</td>\n",
       "      <td>20780.0</td>\n",
       "      <td>966.0</td>\n",
       "      <td>5</td>\n",
       "    </tr>\n",
       "    <tr>\n",
       "      <th>2</th>\n",
       "      <td>1366776_35046_16-23_2023-11-01 00:30:59.797</td>\n",
       "      <td>1366776</td>\n",
       "      <td>35046</td>\n",
       "      <td>0</td>\n",
       "      <td>1.0</td>\n",
       "      <td>31.0</td>\n",
       "      <td>31.0</td>\n",
       "      <td>40.0</td>\n",
       "      <td>34.0</td>\n",
       "      <td>36.0</td>\n",
       "      <td>...</td>\n",
       "      <td>0.00000</td>\n",
       "      <td>1010.0</td>\n",
       "      <td>2.0</td>\n",
       "      <td>0.00198</td>\n",
       "      <td>1</td>\n",
       "      <td>0.0</td>\n",
       "      <td>0.041484</td>\n",
       "      <td>18296.0</td>\n",
       "      <td>759.0</td>\n",
       "      <td>5</td>\n",
       "    </tr>\n",
       "    <tr>\n",
       "      <th>3</th>\n",
       "      <td>1366776_6275451_16-23_2023-11-02 22:21:32.261</td>\n",
       "      <td>1366776</td>\n",
       "      <td>6275451</td>\n",
       "      <td>0</td>\n",
       "      <td>1.0</td>\n",
       "      <td>31.0</td>\n",
       "      <td>31.0</td>\n",
       "      <td>40.0</td>\n",
       "      <td>34.0</td>\n",
       "      <td>36.0</td>\n",
       "      <td>...</td>\n",
       "      <td>0.00361</td>\n",
       "      <td>337.0</td>\n",
       "      <td>0.0</td>\n",
       "      <td>0.00000</td>\n",
       "      <td>1</td>\n",
       "      <td>0.0</td>\n",
       "      <td>0.042805</td>\n",
       "      <td>18012.0</td>\n",
       "      <td>771.0</td>\n",
       "      <td>5</td>\n",
       "    </tr>\n",
       "    <tr>\n",
       "      <th>4</th>\n",
       "      <td>1366776_78053_16-23_2023-11-02 22:21:34.799</td>\n",
       "      <td>1366776</td>\n",
       "      <td>78053</td>\n",
       "      <td>0</td>\n",
       "      <td>1.0</td>\n",
       "      <td>31.0</td>\n",
       "      <td>31.0</td>\n",
       "      <td>40.0</td>\n",
       "      <td>34.0</td>\n",
       "      <td>36.0</td>\n",
       "      <td>...</td>\n",
       "      <td>0.00000</td>\n",
       "      <td>337.0</td>\n",
       "      <td>0.0</td>\n",
       "      <td>0.00000</td>\n",
       "      <td>1</td>\n",
       "      <td>0.0</td>\n",
       "      <td>0.042544</td>\n",
       "      <td>18428.0</td>\n",
       "      <td>784.0</td>\n",
       "      <td>5</td>\n",
       "    </tr>\n",
       "  </tbody>\n",
       "</table>\n",
       "<p>5 rows × 376 columns</p>\n",
       "</div>"
      ],
      "text/plain": [
       "                                               id1      id2        id3  y  \\\n",
       "0  1366776_189706075_16-23_2023-11-02 22:22:00.042  1366776  189706075  0   \n",
       "1      1366776_89227_16-23_2023-11-01 23:51:24.999  1366776      89227  0   \n",
       "2      1366776_35046_16-23_2023-11-01 00:30:59.797  1366776      35046  0   \n",
       "3    1366776_6275451_16-23_2023-11-02 22:21:32.261  1366776    6275451  0   \n",
       "4      1366776_78053_16-23_2023-11-02 22:21:34.799  1366776      78053  0   \n",
       "\n",
       "    f1    f2    f3    f4    f5    f6  ...     f363    f364  f365     f366  \\\n",
       "0  1.0  31.0  31.0  40.0  34.0  36.0  ...  0.00000   337.0   0.0  0.00000   \n",
       "1  1.0  31.0  31.0  40.0  34.0  36.0  ...  0.00000  1010.0   2.0  0.00198   \n",
       "2  1.0  31.0  31.0  40.0  34.0  36.0  ...  0.00000  1010.0   2.0  0.00198   \n",
       "3  1.0  31.0  31.0  40.0  34.0  36.0  ...  0.00361   337.0   0.0  0.00000   \n",
       "4  1.0  31.0  31.0  40.0  34.0  36.0  ...  0.00000   337.0   0.0  0.00000   \n",
       "\n",
       "   is_offer_active  click_momentum_7d       ctr impressions  clicks  \\\n",
       "0                1                0.0  0.059875     18238.0  1092.0   \n",
       "1                1                0.0  0.046487     20780.0   966.0   \n",
       "2                1                0.0  0.041484     18296.0   759.0   \n",
       "3                1                0.0  0.042805     18012.0   771.0   \n",
       "4                1                0.0  0.042544     18428.0   784.0   \n",
       "\n",
       "  customer_cluster  \n",
       "0                5  \n",
       "1                5  \n",
       "2                5  \n",
       "3                5  \n",
       "4                5  \n",
       "\n",
       "[5 rows x 376 columns]"
      ]
     },
     "execution_count": 17,
     "metadata": {},
     "output_type": "execute_result"
    }
   ],
   "source": [
    "df_train.head()"
   ]
  },
  {
   "cell_type": "code",
   "execution_count": 18,
   "metadata": {},
   "outputs": [],
   "source": [
    "df_train2 = df_train.copy()"
   ]
  },
  {
   "cell_type": "code",
   "execution_count": 93,
   "metadata": {},
   "outputs": [],
   "source": [
    "df_train = df_train2"
   ]
  },
  {
   "cell_type": "code",
   "execution_count": 94,
   "metadata": {},
   "outputs": [],
   "source": [
    "for col in categorical_features:\n",
    "    if col in df_train.columns:\n",
    "        df_train[col] = df_train[col].astype('category')\n",
    "    if col in df_test.columns:\n",
    "        df_test[col] = df_test[col].astype('category')"
   ]
  },
  {
   "cell_type": "code",
   "execution_count": 95,
   "metadata": {},
   "outputs": [
    {
     "name": "stdout",
     "output_type": "stream",
     "text": [
      "Error in col: id1\n",
      "Error in col: id1\n"
     ]
    }
   ],
   "source": [
    "# Convert all object dtype columns in df_train and df_test to float32 if possible\n",
    "for df in [df_train, df_test]:\n",
    "    obj_cols = df.select_dtypes(include=['object']).columns\n",
    "    for col in obj_cols:\n",
    "        try:\n",
    "            df[col] = pd.to_numeric(df[col], errors='raise').astype('float32')\n",
    "        except Exception:\n",
    "            print(f\"Error in col: {col}\")\n",
    "            pass  # Skip columns that cannot be converted"
   ]
  },
  {
   "cell_type": "code",
   "execution_count": 72,
   "metadata": {},
   "outputs": [],
   "source": [
    "import numpy as np\n",
    "import lightgbm as lgb\n",
    "from sklearn.model_selection import train_test_split\n",
    "\n",
    "# 1) Filter to valid customers\n",
    "def filter_valid(df, gid='id2', label='y', min_offers=2):\n",
    "    grp = df.groupby(gid)\n",
    "    valid = grp.filter(lambda g: g[label].sum()>0 and len(g)>=min_offers)[gid].unique()\n",
    "    return df[df[gid].isin(valid)].reset_index(drop=True)\n",
    "\n",
    "df_train = filter_valid(df_train, 'id2', 'y', 2)\n",
    "\n",
    "# 2) Split by customer\n",
    "df_train = df_train.sort_values('id2').reset_index(drop=True)\n",
    "custs = df_train['id2'].unique()\n",
    "np.random.seed(42)\n",
    "np.random.shuffle(custs)\n",
    "cut = int(len(custs)*0.2)\n",
    "val_c, trn_c = custs[:cut], custs[cut:]\n",
    "\n",
    "df_tr = df_train[df_train['id2'].isin(trn_c)].copy()\n",
    "df_va = df_train[df_train['id2'].isin(val_c)].copy()\n",
    "\n",
    "# 3) Build feature list\n",
    "drop_cols = ['id1','id2','id3','id5','y']\n",
    "features = [c for c in df_train.columns if c not in drop_cols]\n",
    "\n",
    "X_tr, y_tr = df_tr[features], df_tr['y']\n",
    "X_va, y_va = df_va[features], df_va['y']\n",
    "group_tr = df_tr.groupby('id2').size().tolist()\n",
    "group_va = df_va.groupby('id2').size().tolist()\n",
    "\n",
    "dtrain = lgb.Dataset(X_tr, label=y_tr, group=group_tr, categorical_feature='auto')\n",
    "dvalid = lgb.Dataset(X_va, label=y_va, group=group_va, categorical_feature='auto')\n"
   ]
  },
  {
   "cell_type": "code",
   "execution_count": 96,
   "metadata": {},
   "outputs": [
    {
     "name": "stdout",
     "output_type": "stream",
     "text": [
      "[LightGBM] [Info] Total groups: 3958, total data: 346405\n",
      "[LightGBM] [Info] This is the GPU trainer!!\n",
      "[LightGBM] [Info] Total Bins 45583\n",
      "[LightGBM] [Info] Number of data points in the train set: 346405, number of used features: 317\n",
      "[LightGBM] [Info] Using requested OpenCL platform 1 device 0\n",
      "[LightGBM] [Info] Using GPU Device: Intel(R) UHD Graphics, Vendor: Intel(R) Corporation\n",
      "[LightGBM] [Info] Compiling OpenCL Kernel with 256 bins...\n",
      "[LightGBM] [Info] GPU programs have been built\n",
      "[LightGBM] [Info] Size of histogram bin entry: 8\n",
      "[LightGBM] [Info] 173 dense feature groups (58.14 MB) transferred to GPU in 0.065713 secs. 1 sparse feature groups\n",
      "[LightGBM] [Info] Total groups: 989, total data: 82566\n",
      "Training until validation scores don't improve for 100 rounds\n"
     ]
    },
    {
     "ename": "",
     "evalue": "",
     "output_type": "error",
     "traceback": [
      "\u001b[1;31mThe Kernel crashed while executing code in the current cell or a previous cell. \n",
      "\u001b[1;31mPlease review the code in the cell(s) to identify a possible cause of the failure. \n",
      "\u001b[1;31mClick <a href='https://aka.ms/vscodeJupyterKernelCrash'>here</a> for more info. \n",
      "\u001b[1;31mView Jupyter <a href='command:jupyter.viewOutput'>log</a> for further details."
     ]
    }
   ],
   "source": [
    "\n",
    "# 4) Train lambdarank\n",
    "params = {\n",
    "    'objective':'lambdarank','metric':'map','eval_at':[7],\n",
    "    'boosting_type':'gbdt','learning_rate':0.048,'num_leaves':64,\n",
    "    'feature_fraction':0.8,'bagging_fraction':0.8,'bagging_freq':5,\n",
    "    'device_type':'gpu','gpu_platform_id':1,'gpu_device_id':0,\n",
    "    'random_state':44,'verbosity':1\n",
    "}\n",
    "\n",
    "model = lgb.train(\n",
    "    params, dtrain,\n",
    "    valid_sets=[dtrain,dvalid],\n",
    "    num_boost_round=1000,\n",
    "    callbacks=[lgb.early_stopping(100), lgb.log_evaluation(50)]\n",
    ")\n",
    "\n",
    "# 5) Quick val MAP@7\n",
    "def apk(a,p,k=7):\n",
    "    p=p[:k]; score=hits=0.0\n",
    "    for i,pi in enumerate(p):\n",
    "        if pi in a and pi not in p[:i]:\n",
    "            hits+=1; score+=hits/(i+1)\n",
    "    return score/min(len(a),k) if a else 0.0\n",
    "\n",
    "def map7(df, pr='pred'):\n",
    "    out=[]\n",
    "    for cid,grp in df.groupby('id2'):\n",
    "        act = grp[grp['y']==1]['id3'].tolist()\n",
    "        prd = grp.sort_values(pr,ascending=False)['id3'].tolist()\n",
    "        out.append(apk(act,prd,7))\n",
    "    return np.mean(out)\n",
    "\n",
    "df_va['pred'] = model.predict(X_va, num_iteration=model.best_iteration)\n",
    "print(\"Validation MAP@7:\", map7(df_va))"
   ]
  },
  {
   "cell_type": "markdown",
   "metadata": {},
   "source": [
    "# This is older ranking model\n"
   ]
  },
  {
   "cell_type": "code",
   "execution_count": null,
   "metadata": {},
   "outputs": [],
   "source": [
    "def filter_valid_ranking_groups(df, group_col='id2', label_col='y', min_offers=2):\n",
    "    \"\"\"\n",
    "    Keeps only those groups (e.g., customers) that:\n",
    "    - Have at least one positive click\n",
    "    - Have at least `min_offers` offers\n",
    "    \"\"\"\n",
    "    # Ensure label column is numeric\n",
    "    df[label_col] = pd.to_numeric(df[label_col], errors='coerce').fillna(0).astype(int)\n",
    "    grouped = df.groupby(group_col)\n",
    "    valid_groups = grouped.filter(\n",
    "        lambda g: g[label_col].sum() > 0 and len(g) >= min_offers\n",
    "    )[group_col].unique()\n",
    "\n",
    "    return df[df[group_col].isin(valid_groups)].reset_index(drop=True)\n",
    "\n",
    "df_train = filter_valid_ranking_groups(df_train)\n",
    "df_train.shape"
   ]
  },
  {
   "cell_type": "code",
   "execution_count": 87,
   "metadata": {},
   "outputs": [],
   "source": [
    "df_train = df_train.sort_values('id2').reset_index(drop=True)\n",
    "\n",
    "customers = df_train['id2'].unique()\n",
    "np.random.seed(42)\n",
    "np.random.shuffle(customers)\n",
    "\n",
    "val_fraction = 0.2\n",
    "val_cutoff = int(len(customers) * val_fraction)\n",
    "\n",
    "val_customers = customers[:val_cutoff]\n",
    "train_customers = customers[val_cutoff:]\n",
    "\n",
    "df_train_split = df_train[df_train['id2'].isin(train_customers)].copy()\n",
    "df_val_split = df_train[df_train['id2'].isin(val_customers)].copy()"
   ]
  },
  {
   "cell_type": "code",
   "execution_count": 88,
   "metadata": {},
   "outputs": [
    {
     "name": "stdout",
     "output_type": "stream",
     "text": [
      "✅ Common elements in column 'col':\n",
      "set()\n"
     ]
    }
   ],
   "source": [
    "common_elements = set(df_train_split['id2']) & set(df_val_split['id2'])\n",
    "print(\"✅ Common elements in column 'col':\")\n",
    "print(common_elements)"
   ]
  },
  {
   "cell_type": "code",
   "execution_count": 89,
   "metadata": {},
   "outputs": [],
   "source": [
    "# Drop ID columns and label\n",
    "drop_cols = ['id1', 'id2','id3','click_momentum_7d' 'y']\n",
    "feature_cols = [col for col in df_train.columns if col not in drop_cols]\n",
    "\n",
    "X_train = df_train_split[feature_cols]\n",
    "y_train = df_train_split['y']\n",
    "group_train = df_train_split.groupby('id2').size().tolist()\n",
    "\n",
    "X_val = df_val_split[feature_cols]\n",
    "y_val = df_val_split['y']\n",
    "group_val = df_val_split.groupby('id2').size().tolist()"
   ]
  },
  {
   "cell_type": "code",
   "execution_count": 90,
   "metadata": {},
   "outputs": [],
   "source": [
    "train_data = lgb.Dataset(X_train, label=y_train, group=group_train)\n",
    "val_data = lgb.Dataset(X_val, label=y_val, group=group_val)"
   ]
  },
  {
   "cell_type": "code",
   "execution_count": 91,
   "metadata": {},
   "outputs": [
    {
     "name": "stdout",
     "output_type": "stream",
     "text": [
      "Platform ID 0: NVIDIA CUDA\n",
      "  Device ID 0: NVIDIA GeForce RTX 3070 Ti Laptop GPU (Vendor: NVIDIA Corporation)\n",
      "Platform ID 1: Intel(R) OpenCL Graphics\n",
      "  Device ID 0: Intel(R) UHD Graphics (Vendor: Intel(R) Corporation)\n",
      "Platform ID 2: OpenCLOn12\n",
      "  Device ID 0: Intel(R) UHD Graphics (Vendor: Microsoft)\n",
      "  Device ID 1: NVIDIA GeForce RTX 3070 Ti Laptop GPU (Vendor: Microsoft)\n",
      "  Device ID 2: Microsoft Basic Render Driver (Vendor: Microsoft)\n"
     ]
    }
   ],
   "source": [
    "import pyopencl as cl\n",
    "\n",
    "for i, platform in enumerate(cl.get_platforms()):\n",
    "    print(f\"Platform ID {i}: {platform.name}\")\n",
    "    for j, device in enumerate(platform.get_devices()):\n",
    "        print(f\"  Device ID {j}: {device.name} (Vendor: {device.vendor})\")\n"
   ]
  },
  {
   "cell_type": "code",
   "execution_count": 92,
   "metadata": {},
   "outputs": [
    {
     "name": "stdout",
     "output_type": "stream",
     "text": [
      "[LightGBM] [Info] Total groups: 37240, total data: 616615\n",
      "[LightGBM] [Info] This is the GPU trainer!!\n",
      "[LightGBM] [Info] Total Bins 47729\n",
      "[LightGBM] [Info] Number of data points in the train set: 616615, number of used features: 323\n",
      "[LightGBM] [Info] Using requested OpenCL platform 0 device 0\n",
      "[LightGBM] [Info] Using GPU Device: NVIDIA GeForce RTX 3070 Ti Laptop GPU, Vendor: NVIDIA Corporation\n",
      "[LightGBM] [Info] Compiling OpenCL Kernel with 256 bins...\n",
      "[LightGBM] [Info] GPU programs have been built\n",
      "[LightGBM] [Info] Size of histogram bin entry: 8\n",
      "[LightGBM] [Info] 167 dense feature groups (98.79 MB) transferred to GPU in 0.113431 secs. 1 sparse feature groups\n",
      "[LightGBM] [Info] Total groups: 9310, total data: 153549\n",
      "Training until validation scores don't improve for 100 rounds\n"
     ]
    },
    {
     "ename": "LightGBMError",
     "evalue": "Check failed: (best_split_info.left_count) > (0) at D:\\a\\1\\s\\lightgbm-python\\src\\treelearner\\serial_tree_learner.cpp, line 852 .\n",
     "output_type": "error",
     "traceback": [
      "\u001b[1;31m---------------------------------------------------------------------------\u001b[0m",
      "\u001b[1;31mLightGBMError\u001b[0m                             Traceback (most recent call last)",
      "Cell \u001b[1;32mIn[92], line 23\u001b[0m\n\u001b[0;32m     21\u001b[0m params_gpu[\u001b[38;5;124m'\u001b[39m\u001b[38;5;124mgpu_platform_id\u001b[39m\u001b[38;5;124m'\u001b[39m] \u001b[38;5;241m=\u001b[39m \u001b[38;5;241m0\u001b[39m  \n\u001b[0;32m     22\u001b[0m params_gpu[\u001b[38;5;124m'\u001b[39m\u001b[38;5;124mgpu_device_id\u001b[39m\u001b[38;5;124m'\u001b[39m] \u001b[38;5;241m=\u001b[39m \u001b[38;5;241m0\u001b[39m  \n\u001b[1;32m---> 23\u001b[0m model \u001b[38;5;241m=\u001b[39m \u001b[43mlgb\u001b[49m\u001b[38;5;241;43m.\u001b[39;49m\u001b[43mtrain\u001b[49m\u001b[43m(\u001b[49m\n\u001b[0;32m     24\u001b[0m \u001b[43m    \u001b[49m\u001b[43mparams_gpu\u001b[49m\u001b[43m,\u001b[49m\n\u001b[0;32m     25\u001b[0m \u001b[43m    \u001b[49m\u001b[43mtrain_data\u001b[49m\u001b[43m,\u001b[49m\n\u001b[0;32m     26\u001b[0m \u001b[43m    \u001b[49m\u001b[43mvalid_sets\u001b[49m\u001b[38;5;241;43m=\u001b[39;49m\u001b[43m[\u001b[49m\u001b[43mtrain_data\u001b[49m\u001b[43m,\u001b[49m\u001b[43m \u001b[49m\u001b[43mval_data\u001b[49m\u001b[43m]\u001b[49m\u001b[43m,\u001b[49m\n\u001b[0;32m     27\u001b[0m \u001b[43m    \u001b[49m\u001b[43mnum_boost_round\u001b[49m\u001b[38;5;241;43m=\u001b[39;49m\u001b[38;5;241;43m1000\u001b[39;49m\u001b[43m,\u001b[49m\n\u001b[0;32m     28\u001b[0m \u001b[43m    \u001b[49m\u001b[43mcallbacks\u001b[49m\u001b[38;5;241;43m=\u001b[39;49m\u001b[43m[\u001b[49m\n\u001b[0;32m     29\u001b[0m \u001b[43m        \u001b[49m\u001b[43mlgb\u001b[49m\u001b[38;5;241;43m.\u001b[39;49m\u001b[43mearly_stopping\u001b[49m\u001b[43m(\u001b[49m\u001b[43mstopping_rounds\u001b[49m\u001b[38;5;241;43m=\u001b[39;49m\u001b[38;5;241;43m100\u001b[39;49m\u001b[43m)\u001b[49m\u001b[43m,\u001b[49m\n\u001b[0;32m     30\u001b[0m \u001b[43m        \u001b[49m\u001b[43mlgb\u001b[49m\u001b[38;5;241;43m.\u001b[39;49m\u001b[43mlog_evaluation\u001b[49m\u001b[43m(\u001b[49m\u001b[43mperiod\u001b[49m\u001b[38;5;241;43m=\u001b[39;49m\u001b[38;5;241;43m50\u001b[39;49m\u001b[43m)\u001b[49m\n\u001b[0;32m     31\u001b[0m \u001b[43m    \u001b[49m\u001b[43m]\u001b[49m\n\u001b[0;32m     32\u001b[0m \u001b[43m)\u001b[49m\n",
      "File \u001b[1;32mc:\\Users\\91820\\AppData\\Local\\Programs\\Python\\Python312\\Lib\\site-packages\\lightgbm\\engine.py:322\u001b[0m, in \u001b[0;36mtrain\u001b[1;34m(params, train_set, num_boost_round, valid_sets, valid_names, feval, init_model, keep_training_booster, callbacks)\u001b[0m\n\u001b[0;32m    310\u001b[0m \u001b[38;5;28;01mfor\u001b[39;00m cb \u001b[38;5;129;01min\u001b[39;00m callbacks_before_iter:\n\u001b[0;32m    311\u001b[0m     cb(\n\u001b[0;32m    312\u001b[0m         callback\u001b[38;5;241m.\u001b[39mCallbackEnv(\n\u001b[0;32m    313\u001b[0m             model\u001b[38;5;241m=\u001b[39mbooster,\n\u001b[1;32m   (...)\u001b[0m\n\u001b[0;32m    319\u001b[0m         )\n\u001b[0;32m    320\u001b[0m     )\n\u001b[1;32m--> 322\u001b[0m \u001b[43mbooster\u001b[49m\u001b[38;5;241;43m.\u001b[39;49m\u001b[43mupdate\u001b[49m\u001b[43m(\u001b[49m\u001b[43mfobj\u001b[49m\u001b[38;5;241;43m=\u001b[39;49m\u001b[43mfobj\u001b[49m\u001b[43m)\u001b[49m\n\u001b[0;32m    324\u001b[0m evaluation_result_list: List[_LGBM_BoosterEvalMethodResultType] \u001b[38;5;241m=\u001b[39m []\n\u001b[0;32m    325\u001b[0m \u001b[38;5;66;03m# check evaluation result.\u001b[39;00m\n",
      "File \u001b[1;32mc:\\Users\\91820\\AppData\\Local\\Programs\\Python\\Python312\\Lib\\site-packages\\lightgbm\\basic.py:4154\u001b[0m, in \u001b[0;36mBooster.update\u001b[1;34m(self, train_set, fobj)\u001b[0m\n\u001b[0;32m   4152\u001b[0m \u001b[38;5;28;01mif\u001b[39;00m \u001b[38;5;28mself\u001b[39m\u001b[38;5;241m.\u001b[39m__set_objective_to_none:\n\u001b[0;32m   4153\u001b[0m     \u001b[38;5;28;01mraise\u001b[39;00m LightGBMError(\u001b[38;5;124m\"\u001b[39m\u001b[38;5;124mCannot update due to null objective function.\u001b[39m\u001b[38;5;124m\"\u001b[39m)\n\u001b[1;32m-> 4154\u001b[0m \u001b[43m_safe_call\u001b[49m\u001b[43m(\u001b[49m\n\u001b[0;32m   4155\u001b[0m \u001b[43m    \u001b[49m\u001b[43m_LIB\u001b[49m\u001b[38;5;241;43m.\u001b[39;49m\u001b[43mLGBM_BoosterUpdateOneIter\u001b[49m\u001b[43m(\u001b[49m\n\u001b[0;32m   4156\u001b[0m \u001b[43m        \u001b[49m\u001b[38;5;28;43mself\u001b[39;49m\u001b[38;5;241;43m.\u001b[39;49m\u001b[43m_handle\u001b[49m\u001b[43m,\u001b[49m\n\u001b[0;32m   4157\u001b[0m \u001b[43m        \u001b[49m\u001b[43mctypes\u001b[49m\u001b[38;5;241;43m.\u001b[39;49m\u001b[43mbyref\u001b[49m\u001b[43m(\u001b[49m\u001b[43mis_finished\u001b[49m\u001b[43m)\u001b[49m\u001b[43m,\u001b[49m\n\u001b[0;32m   4158\u001b[0m \u001b[43m    \u001b[49m\u001b[43m)\u001b[49m\n\u001b[0;32m   4159\u001b[0m \u001b[43m\u001b[49m\u001b[43m)\u001b[49m\n\u001b[0;32m   4160\u001b[0m \u001b[38;5;28mself\u001b[39m\u001b[38;5;241m.\u001b[39m__is_predicted_cur_iter \u001b[38;5;241m=\u001b[39m [\u001b[38;5;28;01mFalse\u001b[39;00m \u001b[38;5;28;01mfor\u001b[39;00m _ \u001b[38;5;129;01min\u001b[39;00m \u001b[38;5;28mrange\u001b[39m(\u001b[38;5;28mself\u001b[39m\u001b[38;5;241m.\u001b[39m__num_dataset)]\n\u001b[0;32m   4161\u001b[0m \u001b[38;5;28;01mreturn\u001b[39;00m is_finished\u001b[38;5;241m.\u001b[39mvalue \u001b[38;5;241m==\u001b[39m \u001b[38;5;241m1\u001b[39m\n",
      "File \u001b[1;32mc:\\Users\\91820\\AppData\\Local\\Programs\\Python\\Python312\\Lib\\site-packages\\lightgbm\\basic.py:313\u001b[0m, in \u001b[0;36m_safe_call\u001b[1;34m(ret)\u001b[0m\n\u001b[0;32m    305\u001b[0m \u001b[38;5;250m\u001b[39m\u001b[38;5;124;03m\"\"\"Check the return value from C API call.\u001b[39;00m\n\u001b[0;32m    306\u001b[0m \n\u001b[0;32m    307\u001b[0m \u001b[38;5;124;03mParameters\u001b[39;00m\n\u001b[1;32m   (...)\u001b[0m\n\u001b[0;32m    310\u001b[0m \u001b[38;5;124;03m    The return value from C API calls.\u001b[39;00m\n\u001b[0;32m    311\u001b[0m \u001b[38;5;124;03m\"\"\"\u001b[39;00m\n\u001b[0;32m    312\u001b[0m \u001b[38;5;28;01mif\u001b[39;00m ret \u001b[38;5;241m!=\u001b[39m \u001b[38;5;241m0\u001b[39m:\n\u001b[1;32m--> 313\u001b[0m     \u001b[38;5;28;01mraise\u001b[39;00m LightGBMError(_LIB\u001b[38;5;241m.\u001b[39mLGBM_GetLastError()\u001b[38;5;241m.\u001b[39mdecode(\u001b[38;5;124m\"\u001b[39m\u001b[38;5;124mutf-8\u001b[39m\u001b[38;5;124m\"\u001b[39m))\n",
      "\u001b[1;31mLightGBMError\u001b[0m: Check failed: (best_split_info.left_count) > (0) at D:\\a\\1\\s\\lightgbm-python\\src\\treelearner\\serial_tree_learner.cpp, line 852 .\n"
     ]
    }
   ],
   "source": [
    "params = {\n",
    "    'objective': 'lambdarank',\n",
    "    'metric': 'map',\n",
    "    'boosting_type': 'gbdt',\n",
    "    'verbosity': 1,\n",
    "    'random_state': 44,\n",
    "    'learning_rate': 0.048,\n",
    "    'num_leaves': 64,\n",
    "    'feature_fraction': 0.8,\n",
    "    'bagging_fraction': 0.8,\n",
    "    'bagging_freq': 5,\n",
    "    # 'lambda_l2': 0.02,\n",
    "    'device_type': 'gpu',\n",
    "    'gpu_platform_id': 0,\n",
    "    'gpu_device_id': 0, \n",
    "    # 'max_position': 7,\n",
    "    'eval_at': [7]\n",
    "}\n",
    "params_gpu = params.copy()\n",
    "# params_gpu['device'] = 'gpu'\n",
    "params_gpu['gpu_platform_id'] = 0  \n",
    "params_gpu['gpu_device_id'] = 0  \n",
    "model = lgb.train(\n",
    "    params_gpu,\n",
    "    train_data,\n",
    "    valid_sets=[train_data, val_data],\n",
    "    num_boost_round=1000,\n",
    "    callbacks=[\n",
    "        lgb.early_stopping(stopping_rounds=100),\n",
    "        lgb.log_evaluation(period=50)\n",
    "    ]\n",
    ")\n"
   ]
  },
  {
   "cell_type": "code",
   "execution_count": 83,
   "metadata": {},
   "outputs": [
    {
     "name": "stdout",
     "output_type": "stream",
     "text": [
      "\n",
      "📊 Validation MAP@7: 0.0466\n"
     ]
    }
   ],
   "source": [
    "df_val_split['pred'] = model.predict(X_val)\n",
    "\n",
    "\n",
    "def apk(actual, predicted, k=7):\n",
    "    if len(predicted) > k:\n",
    "        predicted = predicted[:k]\n",
    "    score = 0.0\n",
    "    hits = 0\n",
    "    for i, p in enumerate(predicted):\n",
    "        if p in actual and p not in predicted[:i]:\n",
    "            hits += 1\n",
    "            score += hits / (i + 1.0)\n",
    "    return score / min(len(actual), k) if actual else 0.0\n",
    "\n",
    "def mapk(df):\n",
    "    actual = df[df['y'] == 1].groupby('id2')['id3'].apply(list)\n",
    "    predicted = df.groupby('id2')['id3'].apply(\n",
    "        lambda x: df.loc[x.index].sort_values('pred', ascending=False)['id3'].tolist()\n",
    "    )\n",
    "    actual = actual.reindex(predicted.index, fill_value=[])\n",
    "    return np.mean([apk(a, p, k=7) for a, p in zip(actual, predicted)])\n",
    "\n",
    "map7 = mapk(df_val_split)\n",
    "print(f\"\\n📊 Validation MAP@7: {map7:.4f}\")"
   ]
  },
  {
   "cell_type": "code",
   "execution_count": 84,
   "metadata": {},
   "outputs": [
    {
     "data": {
      "image/png": "[encoded data removed]",
      "text/plain": [
       "<Figure size 1000x800 with 1 Axes>"
      ]
     },
     "metadata": {},
     "output_type": "display_data"
    }
   ],
   "source": [
    "import matplotlib.pyplot as plt\n",
    "import lightgbm as lgb\n",
    "\n",
    "# Plot feature importance\n",
    "\n",
    "lgb.plot_importance(model, max_num_features=30, importance_type='gain', figsize=(10, 8))\n",
    "plt.title(\"Top 30 Feature Importances\")\n",
    "plt.show()\n"
   ]
  },
  {
   "cell_type": "code",
   "execution_count": null,
   "metadata": {},
   "outputs": [
    {
     "ename": "KeyError",
     "evalue": "\"['click_momentum_7d'] not in index\"",
     "output_type": "error",
     "traceback": [
      "\u001b[1;31m---------------------------------------------------------------------------\u001b[0m",
      "\u001b[1;31mKeyError\u001b[0m                                  Traceback (most recent call last)",
      "Cell \u001b[1;32mIn[86], line 2\u001b[0m\n\u001b[0;32m      1\u001b[0m \u001b[38;5;66;03m# Use the same feature list as training\u001b[39;00m\n\u001b[1;32m----> 2\u001b[0m X_test \u001b[38;5;241m=\u001b[39m \u001b[43mdf_test\u001b[49m\u001b[43m[\u001b[49m\u001b[43mfeatures\u001b[49m\u001b[43m]\u001b[49m  \u001b[38;5;66;03m# Same `feature_cols` used in training\u001b[39;00m\n\u001b[0;32m      4\u001b[0m \u001b[38;5;66;03m# ------------------------\u001b[39;00m\n\u001b[0;32m      5\u001b[0m \u001b[38;5;66;03m# Step 2: Predict click probabilities\u001b[39;00m\n\u001b[0;32m      6\u001b[0m \u001b[38;5;66;03m# ------------------------\u001b[39;00m\n\u001b[0;32m      8\u001b[0m df_test[\u001b[38;5;124m'\u001b[39m\u001b[38;5;124mclick_proba\u001b[39m\u001b[38;5;124m'\u001b[39m] \u001b[38;5;241m=\u001b[39m model\u001b[38;5;241m.\u001b[39mpredict(X_test, num_iteration\u001b[38;5;241m=\u001b[39mmodel\u001b[38;5;241m.\u001b[39mbest_iteration)\n",
      "File \u001b[1;32mc:\\Users\\91820\\AppData\\Local\\Programs\\Python\\Python312\\Lib\\site-packages\\pandas\\core\\frame.py:4108\u001b[0m, in \u001b[0;36mDataFrame.__getitem__\u001b[1;34m(self, key)\u001b[0m\n\u001b[0;32m   4106\u001b[0m     \u001b[38;5;28;01mif\u001b[39;00m is_iterator(key):\n\u001b[0;32m   4107\u001b[0m         key \u001b[38;5;241m=\u001b[39m \u001b[38;5;28mlist\u001b[39m(key)\n\u001b[1;32m-> 4108\u001b[0m     indexer \u001b[38;5;241m=\u001b[39m \u001b[38;5;28;43mself\u001b[39;49m\u001b[38;5;241;43m.\u001b[39;49m\u001b[43mcolumns\u001b[49m\u001b[38;5;241;43m.\u001b[39;49m\u001b[43m_get_indexer_strict\u001b[49m\u001b[43m(\u001b[49m\u001b[43mkey\u001b[49m\u001b[43m,\u001b[49m\u001b[43m \u001b[49m\u001b[38;5;124;43m\"\u001b[39;49m\u001b[38;5;124;43mcolumns\u001b[39;49m\u001b[38;5;124;43m\"\u001b[39;49m\u001b[43m)\u001b[49m[\u001b[38;5;241m1\u001b[39m]\n\u001b[0;32m   4110\u001b[0m \u001b[38;5;66;03m# take() does not accept boolean indexers\u001b[39;00m\n\u001b[0;32m   4111\u001b[0m \u001b[38;5;28;01mif\u001b[39;00m \u001b[38;5;28mgetattr\u001b[39m(indexer, \u001b[38;5;124m\"\u001b[39m\u001b[38;5;124mdtype\u001b[39m\u001b[38;5;124m\"\u001b[39m, \u001b[38;5;28;01mNone\u001b[39;00m) \u001b[38;5;241m==\u001b[39m \u001b[38;5;28mbool\u001b[39m:\n",
      "File \u001b[1;32mc:\\Users\\91820\\AppData\\Local\\Programs\\Python\\Python312\\Lib\\site-packages\\pandas\\core\\indexes\\base.py:6200\u001b[0m, in \u001b[0;36mIndex._get_indexer_strict\u001b[1;34m(self, key, axis_name)\u001b[0m\n\u001b[0;32m   6197\u001b[0m \u001b[38;5;28;01melse\u001b[39;00m:\n\u001b[0;32m   6198\u001b[0m     keyarr, indexer, new_indexer \u001b[38;5;241m=\u001b[39m \u001b[38;5;28mself\u001b[39m\u001b[38;5;241m.\u001b[39m_reindex_non_unique(keyarr)\n\u001b[1;32m-> 6200\u001b[0m \u001b[38;5;28;43mself\u001b[39;49m\u001b[38;5;241;43m.\u001b[39;49m\u001b[43m_raise_if_missing\u001b[49m\u001b[43m(\u001b[49m\u001b[43mkeyarr\u001b[49m\u001b[43m,\u001b[49m\u001b[43m \u001b[49m\u001b[43mindexer\u001b[49m\u001b[43m,\u001b[49m\u001b[43m \u001b[49m\u001b[43maxis_name\u001b[49m\u001b[43m)\u001b[49m\n\u001b[0;32m   6202\u001b[0m keyarr \u001b[38;5;241m=\u001b[39m \u001b[38;5;28mself\u001b[39m\u001b[38;5;241m.\u001b[39mtake(indexer)\n\u001b[0;32m   6203\u001b[0m \u001b[38;5;28;01mif\u001b[39;00m \u001b[38;5;28misinstance\u001b[39m(key, Index):\n\u001b[0;32m   6204\u001b[0m     \u001b[38;5;66;03m# GH 42790 - Preserve name from an Index\u001b[39;00m\n",
      "File \u001b[1;32mc:\\Users\\91820\\AppData\\Local\\Programs\\Python\\Python312\\Lib\\site-packages\\pandas\\core\\indexes\\base.py:6252\u001b[0m, in \u001b[0;36mIndex._raise_if_missing\u001b[1;34m(self, key, indexer, axis_name)\u001b[0m\n\u001b[0;32m   6249\u001b[0m     \u001b[38;5;28;01mraise\u001b[39;00m \u001b[38;5;167;01mKeyError\u001b[39;00m(\u001b[38;5;124mf\u001b[39m\u001b[38;5;124m\"\u001b[39m\u001b[38;5;124mNone of [\u001b[39m\u001b[38;5;132;01m{\u001b[39;00mkey\u001b[38;5;132;01m}\u001b[39;00m\u001b[38;5;124m] are in the [\u001b[39m\u001b[38;5;132;01m{\u001b[39;00maxis_name\u001b[38;5;132;01m}\u001b[39;00m\u001b[38;5;124m]\u001b[39m\u001b[38;5;124m\"\u001b[39m)\n\u001b[0;32m   6251\u001b[0m not_found \u001b[38;5;241m=\u001b[39m \u001b[38;5;28mlist\u001b[39m(ensure_index(key)[missing_mask\u001b[38;5;241m.\u001b[39mnonzero()[\u001b[38;5;241m0\u001b[39m]]\u001b[38;5;241m.\u001b[39munique())\n\u001b[1;32m-> 6252\u001b[0m \u001b[38;5;28;01mraise\u001b[39;00m \u001b[38;5;167;01mKeyError\u001b[39;00m(\u001b[38;5;124mf\u001b[39m\u001b[38;5;124m\"\u001b[39m\u001b[38;5;132;01m{\u001b[39;00mnot_found\u001b[38;5;132;01m}\u001b[39;00m\u001b[38;5;124m not in index\u001b[39m\u001b[38;5;124m\"\u001b[39m)\n",
      "\u001b[1;31mKeyError\u001b[0m: \"['click_momentum_7d'] not in index\""
     ]
    }
   ],
   "source": [
    "X_test = df_test[feature_cols]  # Same `feature_cols` used in training\n",
    "\n",
    "df_test['click_proba'] = model.predict(X_test, num_iteration=model.best_iteration)\n",
    "df_test['pred'] = df_test['click_proba']  # Optional renaming\n",
    "\n",
    "# ------------------------\n",
    "# Step 3: Format date if needed (id5)\n",
    "# ------------------------\n",
    "\n",
    "df_test['id5'] = pd.to_datetime(df_test['id5']).dt.strftime('%-m/%-d/%Y')  # Unix -> M/D/YYYY\n",
    "\n",
    "# ------------------------\n",
    "# Step 4: Build submission\n",
    "# ------------------------\n",
    "\n",
    "# For MAP@7-style prediction, you often want to sort offers by predicted score per customer\n",
    "df_test_sorted = (\n",
    "    df_test\n",
    "    .sort_values(['id2', 'pred'], ascending=[True, False])  # Sort offers by score within each customer\n",
    ")\n",
    "\n",
    "# Optional: if top-7 matters, group and take top 7 per customer\n",
    "# top7 = df_test_sorted.groupby('id2').head(7)\n",
    "\n",
    "# Final submission format\n",
    "submission = df_test_sorted[['id1', 'id2', 'id3', 'id5', 'pred']].reset_index(drop=True)\n",
    "\n",
    "# ------------------------\n",
    "# Step 5: Save to CSV\n",
    "# ------------------------\n",
    "\n",
    "submission.to_csv('submission.csv', index=False)\n",
    "print(\"✅ Submission saved to 'submission.csv'\")\n"
   ]
  },
  {
   "cell_type": "code",
   "execution_count": null,
   "metadata": {},
   "outputs": [],
   "source": []
  }
 ],
 "metadata": {
  "kaggle": {
   "accelerator": "none",
   "dataSources": [
    {
     "datasetId": 7788745,
     "sourceId": 12354196,
     "sourceType": "datasetVersion"
    }
   ],
   "dockerImageVersionId": 31040,
   "isGpuEnabled": false,
   "isInternetEnabled": false,
   "language": "python",
   "sourceType": "notebook"
  },
  "kernelspec": {
   "display_name": "Python 3",
   "language": "python",
   "name": "python3"
  },
  "language_info": {
   "codemirror_mode": {
    "name": "ipython",
    "version": 3
   },
   "file_extension": ".py",
   "mimetype": "text/x-python",
   "name": "python",
   "nbconvert_exporter": "python",
   "pygments_lexer": "ipython3",
   "version": "3.12.4"
  }
 },
 "nbformat": 4,
 "nbformat_minor": 4
}
